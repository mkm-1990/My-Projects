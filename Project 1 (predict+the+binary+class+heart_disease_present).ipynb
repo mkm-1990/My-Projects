{
 "cells": [
  {
   "cell_type": "markdown",
   "metadata": {},
   "source": [
    "Your goal is to predict the binary class heart_disease_present, which represents whether a patient has heart disease or not:\n",
    "\n",
    "•\t0 represents no heart disease present\n",
    "\n",
    "•\t1 represents heart disease present\n"
   ]
  },
  {
   "cell_type": "markdown",
   "metadata": {},
   "source": [
    "Dataset\n",
    "\n",
    "There are 15 columns in the dataset, where the patient_id column is a unique and random identifier. The remaining 14 features are described in the section below.\n",
    "\n",
    "•\tslope_of_peak_exercise_st_segment (type: int)       : the slope of the peak exercise ST segment, an electrocardiography read                                                           out indicating quality of blood flow to the heart\n",
    "\n",
    "•\tthal (type: categorical)                            : results of thallium stress test measuring blood flow to the heart,   \n",
    "                                                          with possible values normal,fixed_defect, reversible_defect\n",
    "       \n",
    "•\tresting_blood_pressure (type: int)                  : resting blood pressure\n",
    "\n",
    "•\tchest_pain_type (type: int)                         : chest pain type (4 values)\n",
    "\n",
    "•\tnum_major_vessels (type: int)                       : number of major vessels (0-3) colored by flourosopy\n",
    "\n",
    "•\tfasting_blood_sugar_gt_120_mg_per_dl (type: binary) : fasting blood sugar > 120  mg/dl\n",
    "\n",
    "•\tresting_ekg_results (type: int)                     : resting electrocardiographic results (values 0,1,2)\n",
    "\n",
    "•\tserum_cholesterol_mg_per_dl (type: int)             : serum cholestoral in mg/dl\n",
    "\n",
    "•\toldpeak_eq_st_depression (type: float)              : oldpeak = ST depression induced by  exercise relative to rest, a  \n",
    "                                                          measure of abnormality in electrocardiograms\n",
    "    \n",
    "•\tsex (type: binary)                                  : 0: female, 1: male\n",
    "\n",
    "•\tage (type: int)                                     : age in years\n",
    "\n",
    "•\tmax_heart_rate_achieved (type: int)                 : maximum heart rate achieved (beats per minute)\n",
    "\n",
    "•\texercise_induced_angina (type: binary)              : exercise-induced chest pain (0:  False, 1: True)\n",
    "\n",
    "•\theart_disease_present                               : 0 (represents no heart disease present) and\t\n",
    "                                                          1 (represents heart disease present)\n"
   ]
  },
  {
   "cell_type": "markdown",
   "metadata": {},
   "source": [
    "Feature data example\n",
    "\n",
    "Here's an example of one of the rows in the dataset so that you can see the kinds of values you might expect in the dataset. Some are binary, some are integers, some are floats, and some are categorical. There are no missing values.\n",
    "\n",
    "Field\t                                      : Value\n",
    "slope_of_peak_exercise_st_segment\t          : 2\n",
    "Thal\t                                      : Normal\n",
    "resting_blood_pressure\t                      : 125\n",
    "chest_pain_type\t                              : 3\n",
    "num_major_vessels\t                          : 0\n",
    "fasting_blood_sugar_gt_120_mg_per_dl\t      : 1\n",
    "resting_ekg_results\t                          : 2\n",
    "serum_cholesterol_mg_per_dl\t                  : 245\n",
    "oldpeak_eq_st_depression\t                  : 2.4\n",
    "Sex\t                                          : 1\n",
    "Age\t                                          : 51\n",
    "max_heart_rate_achieved\t                      : 166\n",
    "exercise_induced_angina\t                      : 0\n"
   ]
  },
  {
   "cell_type": "code",
   "execution_count": 1,
   "metadata": {
    "collapsed": false
   },
   "outputs": [
    {
     "name": "stderr",
     "output_type": "stream",
     "text": [
      "C:\\Users\\kittu\\AppData\\Roaming\\Python\\Python36\\site-packages\\pandas\\compat\\_optional.py:106: UserWarning: Pandas requires version '1.2.1' or newer of 'bottleneck' (version '1.2.0' currently installed).\n",
      "  warnings.warn(msg, UserWarning)\n"
     ]
    }
   ],
   "source": [
    "import pandas as pd\n",
    "import numpy as np\n",
    "import matplotlib.pyplot as plt\n",
    "import seaborn as sns\n",
    "import warnings\n",
    "warnings.simplefilter(\"ignore\")"
   ]
  },
  {
   "cell_type": "code",
   "execution_count": 2,
   "metadata": {
    "collapsed": false
   },
   "outputs": [
    {
     "data": {
      "text/html": [
       "<div>\n",
       "<style scoped>\n",
       "    .dataframe tbody tr th:only-of-type {\n",
       "        vertical-align: middle;\n",
       "    }\n",
       "\n",
       "    .dataframe tbody tr th {\n",
       "        vertical-align: top;\n",
       "    }\n",
       "\n",
       "    .dataframe thead th {\n",
       "        text-align: right;\n",
       "    }\n",
       "</style>\n",
       "<table border=\"1\" class=\"dataframe\">\n",
       "  <thead>\n",
       "    <tr style=\"text-align: right;\">\n",
       "      <th></th>\n",
       "      <th>patient_id</th>\n",
       "      <th>slope_of_peak_exercise_st_segment</th>\n",
       "      <th>thal</th>\n",
       "      <th>resting_blood_pressure</th>\n",
       "      <th>chest_pain_type</th>\n",
       "      <th>num_major_vessels</th>\n",
       "      <th>fasting_blood_sugar_gt_120_mg_per_dl</th>\n",
       "      <th>resting_ekg_results</th>\n",
       "      <th>serum_cholesterol_mg_per_dl</th>\n",
       "      <th>oldpeak_eq_st_depression</th>\n",
       "      <th>sex</th>\n",
       "      <th>age</th>\n",
       "      <th>max_heart_rate_achieved</th>\n",
       "      <th>exercise_induced_angina</th>\n",
       "    </tr>\n",
       "  </thead>\n",
       "  <tbody>\n",
       "    <tr>\n",
       "      <th>0</th>\n",
       "      <td>0z64un</td>\n",
       "      <td>1</td>\n",
       "      <td>normal</td>\n",
       "      <td>128</td>\n",
       "      <td>2</td>\n",
       "      <td>0</td>\n",
       "      <td>0</td>\n",
       "      <td>2</td>\n",
       "      <td>308</td>\n",
       "      <td>0.0</td>\n",
       "      <td>1</td>\n",
       "      <td>45</td>\n",
       "      <td>170</td>\n",
       "      <td>0</td>\n",
       "    </tr>\n",
       "    <tr>\n",
       "      <th>1</th>\n",
       "      <td>ryoo3j</td>\n",
       "      <td>2</td>\n",
       "      <td>normal</td>\n",
       "      <td>110</td>\n",
       "      <td>3</td>\n",
       "      <td>0</td>\n",
       "      <td>0</td>\n",
       "      <td>0</td>\n",
       "      <td>214</td>\n",
       "      <td>1.6</td>\n",
       "      <td>0</td>\n",
       "      <td>54</td>\n",
       "      <td>158</td>\n",
       "      <td>0</td>\n",
       "    </tr>\n",
       "  </tbody>\n",
       "</table>\n",
       "</div>"
      ],
      "text/plain": [
       "  patient_id  slope_of_peak_exercise_st_segment    thal  \\\n",
       "0     0z64un                                  1  normal   \n",
       "1     ryoo3j                                  2  normal   \n",
       "\n",
       "   resting_blood_pressure  chest_pain_type  num_major_vessels  \\\n",
       "0                     128                2                  0   \n",
       "1                     110                3                  0   \n",
       "\n",
       "   fasting_blood_sugar_gt_120_mg_per_dl  resting_ekg_results  \\\n",
       "0                                     0                    2   \n",
       "1                                     0                    0   \n",
       "\n",
       "   serum_cholesterol_mg_per_dl  oldpeak_eq_st_depression  sex  age  \\\n",
       "0                          308                       0.0    1   45   \n",
       "1                          214                       1.6    0   54   \n",
       "\n",
       "   max_heart_rate_achieved  exercise_induced_angina  \n",
       "0                      170                        0  \n",
       "1                      158                        0  "
      ]
     },
     "execution_count": 2,
     "metadata": {},
     "output_type": "execute_result"
    }
   ],
   "source": [
    "df1=pd.read_csv('C:/Users/kittu/Desktop/Kittu/My home corona/Datamites class work/Datamites projects/Datamites project 4/labels.csv')\n",
    "df2=pd.read_csv('C:/Users/kittu/Desktop/Kittu/My home corona/Datamites class work/Datamites projects/Datamites project 4/values.csv')\n",
    "df2.head(2)"
   ]
  },
  {
   "cell_type": "code",
   "execution_count": 3,
   "metadata": {
    "collapsed": false
   },
   "outputs": [
    {
     "data": {
      "text/html": [
       "<div>\n",
       "<style scoped>\n",
       "    .dataframe tbody tr th:only-of-type {\n",
       "        vertical-align: middle;\n",
       "    }\n",
       "\n",
       "    .dataframe tbody tr th {\n",
       "        vertical-align: top;\n",
       "    }\n",
       "\n",
       "    .dataframe thead th {\n",
       "        text-align: right;\n",
       "    }\n",
       "</style>\n",
       "<table border=\"1\" class=\"dataframe\">\n",
       "  <thead>\n",
       "    <tr style=\"text-align: right;\">\n",
       "      <th></th>\n",
       "      <th>patient_id</th>\n",
       "      <th>slope_of_peak_exercise_st_segment</th>\n",
       "      <th>thal</th>\n",
       "      <th>resting_blood_pressure</th>\n",
       "      <th>chest_pain_type</th>\n",
       "      <th>num_major_vessels</th>\n",
       "      <th>fasting_blood_sugar_gt_120_mg_per_dl</th>\n",
       "      <th>resting_ekg_results</th>\n",
       "      <th>serum_cholesterol_mg_per_dl</th>\n",
       "      <th>oldpeak_eq_st_depression</th>\n",
       "      <th>sex</th>\n",
       "      <th>age</th>\n",
       "      <th>max_heart_rate_achieved</th>\n",
       "      <th>exercise_induced_angina</th>\n",
       "      <th>heart_disease_present</th>\n",
       "    </tr>\n",
       "  </thead>\n",
       "  <tbody>\n",
       "    <tr>\n",
       "      <th>0</th>\n",
       "      <td>0z64un</td>\n",
       "      <td>1</td>\n",
       "      <td>normal</td>\n",
       "      <td>128</td>\n",
       "      <td>2</td>\n",
       "      <td>0</td>\n",
       "      <td>0</td>\n",
       "      <td>2</td>\n",
       "      <td>308</td>\n",
       "      <td>0.0</td>\n",
       "      <td>1</td>\n",
       "      <td>45</td>\n",
       "      <td>170</td>\n",
       "      <td>0</td>\n",
       "      <td>0</td>\n",
       "    </tr>\n",
       "    <tr>\n",
       "      <th>1</th>\n",
       "      <td>ryoo3j</td>\n",
       "      <td>2</td>\n",
       "      <td>normal</td>\n",
       "      <td>110</td>\n",
       "      <td>3</td>\n",
       "      <td>0</td>\n",
       "      <td>0</td>\n",
       "      <td>0</td>\n",
       "      <td>214</td>\n",
       "      <td>1.6</td>\n",
       "      <td>0</td>\n",
       "      <td>54</td>\n",
       "      <td>158</td>\n",
       "      <td>0</td>\n",
       "      <td>0</td>\n",
       "    </tr>\n",
       "  </tbody>\n",
       "</table>\n",
       "</div>"
      ],
      "text/plain": [
       "  patient_id  slope_of_peak_exercise_st_segment    thal  \\\n",
       "0     0z64un                                  1  normal   \n",
       "1     ryoo3j                                  2  normal   \n",
       "\n",
       "   resting_blood_pressure  chest_pain_type  num_major_vessels  \\\n",
       "0                     128                2                  0   \n",
       "1                     110                3                  0   \n",
       "\n",
       "   fasting_blood_sugar_gt_120_mg_per_dl  resting_ekg_results  \\\n",
       "0                                     0                    2   \n",
       "1                                     0                    0   \n",
       "\n",
       "   serum_cholesterol_mg_per_dl  oldpeak_eq_st_depression  sex  age  \\\n",
       "0                          308                       0.0    1   45   \n",
       "1                          214                       1.6    0   54   \n",
       "\n",
       "   max_heart_rate_achieved  exercise_induced_angina  heart_disease_present  \n",
       "0                      170                        0                      0  \n",
       "1                      158                        0                      0  "
      ]
     },
     "execution_count": 3,
     "metadata": {},
     "output_type": "execute_result"
    }
   ],
   "source": [
    "df = df2.merge(df1,how='left')\n",
    "df.head(2)"
   ]
  },
  {
   "cell_type": "code",
   "execution_count": 4,
   "metadata": {
    "collapsed": false
   },
   "outputs": [
    {
     "data": {
      "text/html": [
       "<div>\n",
       "<style scoped>\n",
       "    .dataframe tbody tr th:only-of-type {\n",
       "        vertical-align: middle;\n",
       "    }\n",
       "\n",
       "    .dataframe tbody tr th {\n",
       "        vertical-align: top;\n",
       "    }\n",
       "\n",
       "    .dataframe thead th {\n",
       "        text-align: right;\n",
       "    }\n",
       "</style>\n",
       "<table border=\"1\" class=\"dataframe\">\n",
       "  <thead>\n",
       "    <tr style=\"text-align: right;\">\n",
       "      <th></th>\n",
       "      <th>patient_id</th>\n",
       "      <th>slope_of_peak_exercise_st_segment</th>\n",
       "      <th>thal</th>\n",
       "      <th>resting_blood_pressure</th>\n",
       "      <th>chest_pain_type</th>\n",
       "      <th>num_major_vessels</th>\n",
       "      <th>fasting_blood_sugar_gt_120_mg_per_dl</th>\n",
       "      <th>resting_ekg_results</th>\n",
       "      <th>serum_cholesterol_mg_per_dl</th>\n",
       "      <th>oldpeak_eq_st_depression</th>\n",
       "      <th>sex</th>\n",
       "      <th>age</th>\n",
       "      <th>max_heart_rate_achieved</th>\n",
       "      <th>exercise_induced_angina</th>\n",
       "      <th>heart_disease_present</th>\n",
       "    </tr>\n",
       "  </thead>\n",
       "  <tbody>\n",
       "    <tr>\n",
       "      <th>175</th>\n",
       "      <td>5qfar3</td>\n",
       "      <td>2</td>\n",
       "      <td>reversible_defect</td>\n",
       "      <td>125</td>\n",
       "      <td>4</td>\n",
       "      <td>2</td>\n",
       "      <td>1</td>\n",
       "      <td>0</td>\n",
       "      <td>254</td>\n",
       "      <td>0.2</td>\n",
       "      <td>1</td>\n",
       "      <td>67</td>\n",
       "      <td>163</td>\n",
       "      <td>0</td>\n",
       "      <td>1</td>\n",
       "    </tr>\n",
       "    <tr>\n",
       "      <th>176</th>\n",
       "      <td>2s2b1f</td>\n",
       "      <td>2</td>\n",
       "      <td>normal</td>\n",
       "      <td>180</td>\n",
       "      <td>4</td>\n",
       "      <td>0</td>\n",
       "      <td>0</td>\n",
       "      <td>1</td>\n",
       "      <td>327</td>\n",
       "      <td>3.4</td>\n",
       "      <td>0</td>\n",
       "      <td>55</td>\n",
       "      <td>117</td>\n",
       "      <td>1</td>\n",
       "      <td>1</td>\n",
       "    </tr>\n",
       "    <tr>\n",
       "      <th>177</th>\n",
       "      <td>nsd00i</td>\n",
       "      <td>2</td>\n",
       "      <td>reversible_defect</td>\n",
       "      <td>125</td>\n",
       "      <td>3</td>\n",
       "      <td>0</td>\n",
       "      <td>0</td>\n",
       "      <td>0</td>\n",
       "      <td>309</td>\n",
       "      <td>1.8</td>\n",
       "      <td>1</td>\n",
       "      <td>64</td>\n",
       "      <td>131</td>\n",
       "      <td>1</td>\n",
       "      <td>1</td>\n",
       "    </tr>\n",
       "    <tr>\n",
       "      <th>178</th>\n",
       "      <td>0xw93k</td>\n",
       "      <td>1</td>\n",
       "      <td>normal</td>\n",
       "      <td>124</td>\n",
       "      <td>3</td>\n",
       "      <td>2</td>\n",
       "      <td>1</td>\n",
       "      <td>0</td>\n",
       "      <td>255</td>\n",
       "      <td>0.0</td>\n",
       "      <td>1</td>\n",
       "      <td>48</td>\n",
       "      <td>175</td>\n",
       "      <td>0</td>\n",
       "      <td>0</td>\n",
       "    </tr>\n",
       "    <tr>\n",
       "      <th>179</th>\n",
       "      <td>2nx10r</td>\n",
       "      <td>1</td>\n",
       "      <td>normal</td>\n",
       "      <td>160</td>\n",
       "      <td>3</td>\n",
       "      <td>1</td>\n",
       "      <td>0</td>\n",
       "      <td>0</td>\n",
       "      <td>201</td>\n",
       "      <td>0.0</td>\n",
       "      <td>0</td>\n",
       "      <td>54</td>\n",
       "      <td>163</td>\n",
       "      <td>0</td>\n",
       "      <td>0</td>\n",
       "    </tr>\n",
       "  </tbody>\n",
       "</table>\n",
       "</div>"
      ],
      "text/plain": [
       "    patient_id  slope_of_peak_exercise_st_segment               thal  \\\n",
       "175     5qfar3                                  2  reversible_defect   \n",
       "176     2s2b1f                                  2             normal   \n",
       "177     nsd00i                                  2  reversible_defect   \n",
       "178     0xw93k                                  1             normal   \n",
       "179     2nx10r                                  1             normal   \n",
       "\n",
       "     resting_blood_pressure  chest_pain_type  num_major_vessels  \\\n",
       "175                     125                4                  2   \n",
       "176                     180                4                  0   \n",
       "177                     125                3                  0   \n",
       "178                     124                3                  2   \n",
       "179                     160                3                  1   \n",
       "\n",
       "     fasting_blood_sugar_gt_120_mg_per_dl  resting_ekg_results  \\\n",
       "175                                     1                    0   \n",
       "176                                     0                    1   \n",
       "177                                     0                    0   \n",
       "178                                     1                    0   \n",
       "179                                     0                    0   \n",
       "\n",
       "     serum_cholesterol_mg_per_dl  oldpeak_eq_st_depression  sex  age  \\\n",
       "175                          254                       0.2    1   67   \n",
       "176                          327                       3.4    0   55   \n",
       "177                          309                       1.8    1   64   \n",
       "178                          255                       0.0    1   48   \n",
       "179                          201                       0.0    0   54   \n",
       "\n",
       "     max_heart_rate_achieved  exercise_induced_angina  heart_disease_present  \n",
       "175                      163                        0                      1  \n",
       "176                      117                        1                      1  \n",
       "177                      131                        1                      1  \n",
       "178                      175                        0                      0  \n",
       "179                      163                        0                      0  "
      ]
     },
     "execution_count": 4,
     "metadata": {},
     "output_type": "execute_result"
    }
   ],
   "source": [
    "df.tail()"
   ]
  },
  {
   "cell_type": "code",
   "execution_count": 5,
   "metadata": {
    "collapsed": false
   },
   "outputs": [
    {
     "data": {
      "text/plain": [
       "(180, 15)"
      ]
     },
     "execution_count": 5,
     "metadata": {},
     "output_type": "execute_result"
    }
   ],
   "source": [
    "df.shape"
   ]
  },
  {
   "cell_type": "code",
   "execution_count": 6,
   "metadata": {
    "collapsed": false
   },
   "outputs": [
    {
     "data": {
      "text/plain": [
       "patient_id                              0\n",
       "slope_of_peak_exercise_st_segment       0\n",
       "thal                                    0\n",
       "resting_blood_pressure                  0\n",
       "chest_pain_type                         0\n",
       "num_major_vessels                       0\n",
       "fasting_blood_sugar_gt_120_mg_per_dl    0\n",
       "resting_ekg_results                     0\n",
       "serum_cholesterol_mg_per_dl             0\n",
       "oldpeak_eq_st_depression                0\n",
       "sex                                     0\n",
       "age                                     0\n",
       "max_heart_rate_achieved                 0\n",
       "exercise_induced_angina                 0\n",
       "heart_disease_present                   0\n",
       "dtype: int64"
      ]
     },
     "execution_count": 6,
     "metadata": {},
     "output_type": "execute_result"
    }
   ],
   "source": [
    "df.isnull().sum()"
   ]
  },
  {
   "cell_type": "code",
   "execution_count": 7,
   "metadata": {
    "collapsed": false
   },
   "outputs": [
    {
     "data": {
      "text/plain": [
       "Index(['patient_id', 'slope_of_peak_exercise_st_segment', 'thal',\n",
       "       'resting_blood_pressure', 'chest_pain_type', 'num_major_vessels',\n",
       "       'fasting_blood_sugar_gt_120_mg_per_dl', 'resting_ekg_results',\n",
       "       'serum_cholesterol_mg_per_dl', 'oldpeak_eq_st_depression', 'sex', 'age',\n",
       "       'max_heart_rate_achieved', 'exercise_induced_angina',\n",
       "       'heart_disease_present'],\n",
       "      dtype='object')"
      ]
     },
     "execution_count": 7,
     "metadata": {},
     "output_type": "execute_result"
    }
   ],
   "source": [
    "df.columns"
   ]
  },
  {
   "cell_type": "code",
   "execution_count": 8,
   "metadata": {
    "collapsed": false
   },
   "outputs": [
    {
     "data": {
      "text/plain": [
       "0"
      ]
     },
     "execution_count": 8,
     "metadata": {},
     "output_type": "execute_result"
    }
   ],
   "source": [
    "df.duplicated().sum()"
   ]
  },
  {
   "cell_type": "code",
   "execution_count": 9,
   "metadata": {
    "collapsed": false
   },
   "outputs": [
    {
     "data": {
      "text/plain": [
       "patient_id                              180\n",
       "slope_of_peak_exercise_st_segment         3\n",
       "thal                                      3\n",
       "resting_blood_pressure                   36\n",
       "chest_pain_type                           4\n",
       "num_major_vessels                         4\n",
       "fasting_blood_sugar_gt_120_mg_per_dl      2\n",
       "resting_ekg_results                       3\n",
       "serum_cholesterol_mg_per_dl             118\n",
       "oldpeak_eq_st_depression                 34\n",
       "sex                                       2\n",
       "age                                      40\n",
       "max_heart_rate_achieved                  73\n",
       "exercise_induced_angina                   2\n",
       "heart_disease_present                     2\n",
       "dtype: int64"
      ]
     },
     "execution_count": 9,
     "metadata": {},
     "output_type": "execute_result"
    }
   ],
   "source": [
    "df.nunique()"
   ]
  },
  {
   "cell_type": "code",
   "execution_count": 10,
   "metadata": {
    "collapsed": false
   },
   "outputs": [
    {
     "data": {
      "text/html": [
       "<div>\n",
       "<style scoped>\n",
       "    .dataframe tbody tr th:only-of-type {\n",
       "        vertical-align: middle;\n",
       "    }\n",
       "\n",
       "    .dataframe tbody tr th {\n",
       "        vertical-align: top;\n",
       "    }\n",
       "\n",
       "    .dataframe thead th {\n",
       "        text-align: right;\n",
       "    }\n",
       "</style>\n",
       "<table border=\"1\" class=\"dataframe\">\n",
       "  <thead>\n",
       "    <tr style=\"text-align: right;\">\n",
       "      <th></th>\n",
       "      <th>slope_of_peak_exercise_st_segment</th>\n",
       "      <th>resting_blood_pressure</th>\n",
       "      <th>chest_pain_type</th>\n",
       "      <th>num_major_vessels</th>\n",
       "      <th>fasting_blood_sugar_gt_120_mg_per_dl</th>\n",
       "      <th>resting_ekg_results</th>\n",
       "      <th>serum_cholesterol_mg_per_dl</th>\n",
       "      <th>oldpeak_eq_st_depression</th>\n",
       "      <th>sex</th>\n",
       "      <th>age</th>\n",
       "      <th>max_heart_rate_achieved</th>\n",
       "      <th>exercise_induced_angina</th>\n",
       "      <th>heart_disease_present</th>\n",
       "    </tr>\n",
       "  </thead>\n",
       "  <tbody>\n",
       "    <tr>\n",
       "      <th>count</th>\n",
       "      <td>180.000000</td>\n",
       "      <td>180.000000</td>\n",
       "      <td>180.000000</td>\n",
       "      <td>180.000000</td>\n",
       "      <td>180.000000</td>\n",
       "      <td>180.000000</td>\n",
       "      <td>180.000000</td>\n",
       "      <td>180.000000</td>\n",
       "      <td>180.000000</td>\n",
       "      <td>180.000000</td>\n",
       "      <td>180.000000</td>\n",
       "      <td>180.000000</td>\n",
       "      <td>180.000000</td>\n",
       "    </tr>\n",
       "    <tr>\n",
       "      <th>mean</th>\n",
       "      <td>1.550000</td>\n",
       "      <td>131.311111</td>\n",
       "      <td>3.155556</td>\n",
       "      <td>0.694444</td>\n",
       "      <td>0.161111</td>\n",
       "      <td>1.050000</td>\n",
       "      <td>249.211111</td>\n",
       "      <td>1.010000</td>\n",
       "      <td>0.688889</td>\n",
       "      <td>54.811111</td>\n",
       "      <td>149.483333</td>\n",
       "      <td>0.316667</td>\n",
       "      <td>0.444444</td>\n",
       "    </tr>\n",
       "    <tr>\n",
       "      <th>std</th>\n",
       "      <td>0.618838</td>\n",
       "      <td>17.010443</td>\n",
       "      <td>0.938454</td>\n",
       "      <td>0.969347</td>\n",
       "      <td>0.368659</td>\n",
       "      <td>0.998742</td>\n",
       "      <td>52.717969</td>\n",
       "      <td>1.121357</td>\n",
       "      <td>0.464239</td>\n",
       "      <td>9.334737</td>\n",
       "      <td>22.063513</td>\n",
       "      <td>0.466474</td>\n",
       "      <td>0.498290</td>\n",
       "    </tr>\n",
       "    <tr>\n",
       "      <th>min</th>\n",
       "      <td>1.000000</td>\n",
       "      <td>94.000000</td>\n",
       "      <td>1.000000</td>\n",
       "      <td>0.000000</td>\n",
       "      <td>0.000000</td>\n",
       "      <td>0.000000</td>\n",
       "      <td>126.000000</td>\n",
       "      <td>0.000000</td>\n",
       "      <td>0.000000</td>\n",
       "      <td>29.000000</td>\n",
       "      <td>96.000000</td>\n",
       "      <td>0.000000</td>\n",
       "      <td>0.000000</td>\n",
       "    </tr>\n",
       "    <tr>\n",
       "      <th>25%</th>\n",
       "      <td>1.000000</td>\n",
       "      <td>120.000000</td>\n",
       "      <td>3.000000</td>\n",
       "      <td>0.000000</td>\n",
       "      <td>0.000000</td>\n",
       "      <td>0.000000</td>\n",
       "      <td>213.750000</td>\n",
       "      <td>0.000000</td>\n",
       "      <td>0.000000</td>\n",
       "      <td>48.000000</td>\n",
       "      <td>132.000000</td>\n",
       "      <td>0.000000</td>\n",
       "      <td>0.000000</td>\n",
       "    </tr>\n",
       "    <tr>\n",
       "      <th>50%</th>\n",
       "      <td>1.000000</td>\n",
       "      <td>130.000000</td>\n",
       "      <td>3.000000</td>\n",
       "      <td>0.000000</td>\n",
       "      <td>0.000000</td>\n",
       "      <td>2.000000</td>\n",
       "      <td>245.500000</td>\n",
       "      <td>0.800000</td>\n",
       "      <td>1.000000</td>\n",
       "      <td>55.000000</td>\n",
       "      <td>152.000000</td>\n",
       "      <td>0.000000</td>\n",
       "      <td>0.000000</td>\n",
       "    </tr>\n",
       "    <tr>\n",
       "      <th>75%</th>\n",
       "      <td>2.000000</td>\n",
       "      <td>140.000000</td>\n",
       "      <td>4.000000</td>\n",
       "      <td>1.000000</td>\n",
       "      <td>0.000000</td>\n",
       "      <td>2.000000</td>\n",
       "      <td>281.250000</td>\n",
       "      <td>1.600000</td>\n",
       "      <td>1.000000</td>\n",
       "      <td>62.000000</td>\n",
       "      <td>166.250000</td>\n",
       "      <td>1.000000</td>\n",
       "      <td>1.000000</td>\n",
       "    </tr>\n",
       "    <tr>\n",
       "      <th>max</th>\n",
       "      <td>3.000000</td>\n",
       "      <td>180.000000</td>\n",
       "      <td>4.000000</td>\n",
       "      <td>3.000000</td>\n",
       "      <td>1.000000</td>\n",
       "      <td>2.000000</td>\n",
       "      <td>564.000000</td>\n",
       "      <td>6.200000</td>\n",
       "      <td>1.000000</td>\n",
       "      <td>77.000000</td>\n",
       "      <td>202.000000</td>\n",
       "      <td>1.000000</td>\n",
       "      <td>1.000000</td>\n",
       "    </tr>\n",
       "  </tbody>\n",
       "</table>\n",
       "</div>"
      ],
      "text/plain": [
       "       slope_of_peak_exercise_st_segment  resting_blood_pressure  \\\n",
       "count                         180.000000              180.000000   \n",
       "mean                            1.550000              131.311111   \n",
       "std                             0.618838               17.010443   \n",
       "min                             1.000000               94.000000   \n",
       "25%                             1.000000              120.000000   \n",
       "50%                             1.000000              130.000000   \n",
       "75%                             2.000000              140.000000   \n",
       "max                             3.000000              180.000000   \n",
       "\n",
       "       chest_pain_type  num_major_vessels  \\\n",
       "count       180.000000         180.000000   \n",
       "mean          3.155556           0.694444   \n",
       "std           0.938454           0.969347   \n",
       "min           1.000000           0.000000   \n",
       "25%           3.000000           0.000000   \n",
       "50%           3.000000           0.000000   \n",
       "75%           4.000000           1.000000   \n",
       "max           4.000000           3.000000   \n",
       "\n",
       "       fasting_blood_sugar_gt_120_mg_per_dl  resting_ekg_results  \\\n",
       "count                            180.000000           180.000000   \n",
       "mean                               0.161111             1.050000   \n",
       "std                                0.368659             0.998742   \n",
       "min                                0.000000             0.000000   \n",
       "25%                                0.000000             0.000000   \n",
       "50%                                0.000000             2.000000   \n",
       "75%                                0.000000             2.000000   \n",
       "max                                1.000000             2.000000   \n",
       "\n",
       "       serum_cholesterol_mg_per_dl  oldpeak_eq_st_depression         sex  \\\n",
       "count                   180.000000                180.000000  180.000000   \n",
       "mean                    249.211111                  1.010000    0.688889   \n",
       "std                      52.717969                  1.121357    0.464239   \n",
       "min                     126.000000                  0.000000    0.000000   \n",
       "25%                     213.750000                  0.000000    0.000000   \n",
       "50%                     245.500000                  0.800000    1.000000   \n",
       "75%                     281.250000                  1.600000    1.000000   \n",
       "max                     564.000000                  6.200000    1.000000   \n",
       "\n",
       "              age  max_heart_rate_achieved  exercise_induced_angina  \\\n",
       "count  180.000000               180.000000               180.000000   \n",
       "mean    54.811111               149.483333                 0.316667   \n",
       "std      9.334737                22.063513                 0.466474   \n",
       "min     29.000000                96.000000                 0.000000   \n",
       "25%     48.000000               132.000000                 0.000000   \n",
       "50%     55.000000               152.000000                 0.000000   \n",
       "75%     62.000000               166.250000                 1.000000   \n",
       "max     77.000000               202.000000                 1.000000   \n",
       "\n",
       "       heart_disease_present  \n",
       "count             180.000000  \n",
       "mean                0.444444  \n",
       "std                 0.498290  \n",
       "min                 0.000000  \n",
       "25%                 0.000000  \n",
       "50%                 0.000000  \n",
       "75%                 1.000000  \n",
       "max                 1.000000  "
      ]
     },
     "execution_count": 10,
     "metadata": {},
     "output_type": "execute_result"
    }
   ],
   "source": [
    "df.describe()"
   ]
  },
  {
   "cell_type": "code",
   "execution_count": 11,
   "metadata": {
    "collapsed": false
   },
   "outputs": [
    {
     "data": {
      "image/png": "[encoded data removed]",
      "text/plain": [
       "<Figure size 576x396 with 1 Axes>"
      ]
     },
     "metadata": {},
     "output_type": "display_data"
    },
    {
     "name": "stdout",
     "output_type": "stream",
     "text": [
      "0    100\n",
      "1     80\n",
      "Name: heart_disease_present, dtype: int64\n",
      "1    124\n",
      "0     56\n",
      "Name: sex, dtype: int64\n"
     ]
    }
   ],
   "source": [
    "# 0 represent for no heart disease and 1 represent for heart disease so it is an unbalanced data set\n",
    "# 0 for male and 1 for female\n",
    "sns.countplot(x='heart_disease_present',hue='sex',data=df)\n",
    "plt.show()\n",
    "print(df.heart_disease_present.value_counts())\n",
    "print(df.sex.value_counts())"
   ]
  },
  {
   "cell_type": "code",
   "execution_count": 12,
   "metadata": {
    "collapsed": false
   },
   "outputs": [
    {
     "data": {
      "image/png": "[encoded data removed]",
      "text/plain": [
       "<Figure size 576x396 with 1 Axes>"
      ]
     },
     "metadata": {},
     "output_type": "display_data"
    }
   ],
   "source": [
    "# 0 for female counts and 1 for male counts\n",
    "sns.countplot(x='sex',hue = 'sex',data=df,order = df['sex'].value_counts().index)\n",
    "plt.show()"
   ]
  },
  {
   "cell_type": "code",
   "execution_count": 13,
   "metadata": {
    "collapsed": false
   },
   "outputs": [
    {
     "data": {
      "image/png": "[encoded data removed]",
      "text/plain": [
       "<Figure size 720x720 with 1 Axes>"
      ]
     },
     "metadata": {},
     "output_type": "display_data"
    }
   ],
   "source": [
    "# 0 for female counts and 1 for male counts\n",
    "plt.figure(figsize=(10,10))\n",
    "sns.countplot(x='chest_pain_type',hue = 'sex',data=df,order = df['chest_pain_type'].value_counts().index)\n",
    "plt.show()"
   ]
  },
  {
   "cell_type": "code",
   "execution_count": 14,
   "metadata": {
    "collapsed": false
   },
   "outputs": [
    {
     "data": {
      "image/png": "[encoded data removed]",
      "text/plain": [
       "<Figure size 1224x1224 with 1 Axes>"
      ]
     },
     "metadata": {},
     "output_type": "display_data"
    },
    {
     "data": {
      "text/plain": [
       "(29, 77)"
      ]
     },
     "execution_count": 14,
     "metadata": {},
     "output_type": "execute_result"
    }
   ],
   "source": [
    "# 0 for female counts and 1 for male counts\n",
    "plt.figure(figsize=(17,17))\n",
    "sns.countplot(x='age',hue = 'sex',data=df,order = df['age'].value_counts().index)\n",
    "plt.show()\n",
    "df.age.min(),df.age.max()\n",
    "# Here suffered disease male and female people in age between from 54 to 59 years old"
   ]
  },
  {
   "cell_type": "code",
   "execution_count": 15,
   "metadata": {
    "collapsed": false
   },
   "outputs": [
    {
     "data": {
      "image/png": "[encoded data removed]",
      "text/plain": [
       "<Figure size 1440x720 with 1 Axes>"
      ]
     },
     "metadata": {},
     "output_type": "display_data"
    }
   ],
   "source": [
    "import matplotlib.pyplot as plt\n",
    "import seaborn as sns\n",
    "plt.figure(figsize=(20,10))\n",
    "plt.hist(df.age,bins=120)\n",
    "plt.show()"
   ]
  },
  {
   "cell_type": "code",
   "execution_count": 16,
   "metadata": {
    "collapsed": false
   },
   "outputs": [],
   "source": [
    "from sklearn.preprocessing import LabelEncoder\n",
    "enc = LabelEncoder()\n",
    "df.thal = enc.fit_transform(df.thal)"
   ]
  },
  {
   "cell_type": "code",
   "execution_count": 17,
   "metadata": {
    "collapsed": false
   },
   "outputs": [
    {
     "data": {
      "text/html": [
       "<div>\n",
       "<style scoped>\n",
       "    .dataframe tbody tr th:only-of-type {\n",
       "        vertical-align: middle;\n",
       "    }\n",
       "\n",
       "    .dataframe tbody tr th {\n",
       "        vertical-align: top;\n",
       "    }\n",
       "\n",
       "    .dataframe thead th {\n",
       "        text-align: right;\n",
       "    }\n",
       "</style>\n",
       "<table border=\"1\" class=\"dataframe\">\n",
       "  <thead>\n",
       "    <tr style=\"text-align: right;\">\n",
       "      <th></th>\n",
       "      <th>slope_of_peak_exercise_st_segment</th>\n",
       "      <th>thal</th>\n",
       "      <th>resting_blood_pressure</th>\n",
       "      <th>chest_pain_type</th>\n",
       "      <th>num_major_vessels</th>\n",
       "      <th>fasting_blood_sugar_gt_120_mg_per_dl</th>\n",
       "      <th>resting_ekg_results</th>\n",
       "      <th>serum_cholesterol_mg_per_dl</th>\n",
       "      <th>oldpeak_eq_st_depression</th>\n",
       "      <th>sex</th>\n",
       "      <th>age</th>\n",
       "      <th>max_heart_rate_achieved</th>\n",
       "      <th>exercise_induced_angina</th>\n",
       "      <th>heart_disease_present</th>\n",
       "    </tr>\n",
       "  </thead>\n",
       "  <tbody>\n",
       "    <tr>\n",
       "      <th>0</th>\n",
       "      <td>1</td>\n",
       "      <td>1</td>\n",
       "      <td>128</td>\n",
       "      <td>2</td>\n",
       "      <td>0</td>\n",
       "      <td>0</td>\n",
       "      <td>2</td>\n",
       "      <td>308</td>\n",
       "      <td>0.0</td>\n",
       "      <td>1</td>\n",
       "      <td>45</td>\n",
       "      <td>170</td>\n",
       "      <td>0</td>\n",
       "      <td>0</td>\n",
       "    </tr>\n",
       "    <tr>\n",
       "      <th>1</th>\n",
       "      <td>2</td>\n",
       "      <td>1</td>\n",
       "      <td>110</td>\n",
       "      <td>3</td>\n",
       "      <td>0</td>\n",
       "      <td>0</td>\n",
       "      <td>0</td>\n",
       "      <td>214</td>\n",
       "      <td>1.6</td>\n",
       "      <td>0</td>\n",
       "      <td>54</td>\n",
       "      <td>158</td>\n",
       "      <td>0</td>\n",
       "      <td>0</td>\n",
       "    </tr>\n",
       "    <tr>\n",
       "      <th>2</th>\n",
       "      <td>1</td>\n",
       "      <td>1</td>\n",
       "      <td>125</td>\n",
       "      <td>4</td>\n",
       "      <td>3</td>\n",
       "      <td>0</td>\n",
       "      <td>2</td>\n",
       "      <td>304</td>\n",
       "      <td>0.0</td>\n",
       "      <td>1</td>\n",
       "      <td>77</td>\n",
       "      <td>162</td>\n",
       "      <td>1</td>\n",
       "      <td>1</td>\n",
       "    </tr>\n",
       "    <tr>\n",
       "      <th>3</th>\n",
       "      <td>1</td>\n",
       "      <td>2</td>\n",
       "      <td>152</td>\n",
       "      <td>4</td>\n",
       "      <td>0</td>\n",
       "      <td>0</td>\n",
       "      <td>0</td>\n",
       "      <td>223</td>\n",
       "      <td>0.0</td>\n",
       "      <td>1</td>\n",
       "      <td>40</td>\n",
       "      <td>181</td>\n",
       "      <td>0</td>\n",
       "      <td>1</td>\n",
       "    </tr>\n",
       "    <tr>\n",
       "      <th>4</th>\n",
       "      <td>3</td>\n",
       "      <td>2</td>\n",
       "      <td>178</td>\n",
       "      <td>1</td>\n",
       "      <td>0</td>\n",
       "      <td>0</td>\n",
       "      <td>2</td>\n",
       "      <td>270</td>\n",
       "      <td>4.2</td>\n",
       "      <td>1</td>\n",
       "      <td>59</td>\n",
       "      <td>145</td>\n",
       "      <td>0</td>\n",
       "      <td>0</td>\n",
       "    </tr>\n",
       "  </tbody>\n",
       "</table>\n",
       "</div>"
      ],
      "text/plain": [
       "   slope_of_peak_exercise_st_segment  thal  resting_blood_pressure  \\\n",
       "0                                  1     1                     128   \n",
       "1                                  2     1                     110   \n",
       "2                                  1     1                     125   \n",
       "3                                  1     2                     152   \n",
       "4                                  3     2                     178   \n",
       "\n",
       "   chest_pain_type  num_major_vessels  fasting_blood_sugar_gt_120_mg_per_dl  \\\n",
       "0                2                  0                                     0   \n",
       "1                3                  0                                     0   \n",
       "2                4                  3                                     0   \n",
       "3                4                  0                                     0   \n",
       "4                1                  0                                     0   \n",
       "\n",
       "   resting_ekg_results  serum_cholesterol_mg_per_dl  oldpeak_eq_st_depression  \\\n",
       "0                    2                          308                       0.0   \n",
       "1                    0                          214                       1.6   \n",
       "2                    2                          304                       0.0   \n",
       "3                    0                          223                       0.0   \n",
       "4                    2                          270                       4.2   \n",
       "\n",
       "   sex  age  max_heart_rate_achieved  exercise_induced_angina  \\\n",
       "0    1   45                      170                        0   \n",
       "1    0   54                      158                        0   \n",
       "2    1   77                      162                        1   \n",
       "3    1   40                      181                        0   \n",
       "4    1   59                      145                        0   \n",
       "\n",
       "   heart_disease_present  \n",
       "0                      0  \n",
       "1                      0  \n",
       "2                      1  \n",
       "3                      1  \n",
       "4                      0  "
      ]
     },
     "execution_count": 17,
     "metadata": {},
     "output_type": "execute_result"
    }
   ],
   "source": [
    "df1 = df.iloc[:,1:]\n",
    "df1.head(5)"
   ]
  },
  {
   "cell_type": "code",
   "execution_count": 18,
   "metadata": {
    "collapsed": false
   },
   "outputs": [
    {
     "data": {
      "text/plain": [
       "(180, 13)"
      ]
     },
     "execution_count": 18,
     "metadata": {},
     "output_type": "execute_result"
    }
   ],
   "source": [
    "X = df1.iloc[:,:-1]\n",
    "X.head()\n",
    "X.shape"
   ]
  },
  {
   "cell_type": "code",
   "execution_count": 19,
   "metadata": {
    "collapsed": false
   },
   "outputs": [
    {
     "data": {
      "text/plain": [
       "0    0\n",
       "1    0\n",
       "2    1\n",
       "3    1\n",
       "4    0\n",
       "Name: heart_disease_present, dtype: int64"
      ]
     },
     "execution_count": 19,
     "metadata": {},
     "output_type": "execute_result"
    }
   ],
   "source": [
    "y=df1.heart_disease_present\n",
    "y.head()"
   ]
  },
  {
   "cell_type": "code",
   "execution_count": 20,
   "metadata": {
    "collapsed": true
   },
   "outputs": [],
   "source": [
    "from sklearn.feature_selection import SelectKBest\n",
    "from sklearn.feature_selection import chi2"
   ]
  },
  {
   "cell_type": "code",
   "execution_count": 21,
   "metadata": {
    "collapsed": true
   },
   "outputs": [],
   "source": [
    "### Apply SelectKBest Algorithm\n",
    "ordered_rank_features=SelectKBest(score_func=chi2,k=13) # k = 13 for total independent features \n",
    "ordered_feature=ordered_rank_features.fit(X,y)"
   ]
  },
  {
   "cell_type": "code",
   "execution_count": 22,
   "metadata": {
    "collapsed": true
   },
   "outputs": [],
   "source": [
    "df1scores=pd.DataFrame(ordered_feature.scores_,columns=[\"Score\"])\n",
    "df1columns=pd.DataFrame(X.columns)"
   ]
  },
  {
   "cell_type": "code",
   "execution_count": 23,
   "metadata": {
    "collapsed": true
   },
   "outputs": [],
   "source": [
    "features_rank=pd.concat([df1columns,df1scores],axis=1)"
   ]
  },
  {
   "cell_type": "code",
   "execution_count": 24,
   "metadata": {
    "collapsed": false
   },
   "outputs": [
    {
     "data": {
      "text/html": [
       "<div>\n",
       "<style scoped>\n",
       "    .dataframe tbody tr th:only-of-type {\n",
       "        vertical-align: middle;\n",
       "    }\n",
       "\n",
       "    .dataframe tbody tr th {\n",
       "        vertical-align: top;\n",
       "    }\n",
       "\n",
       "    .dataframe thead th {\n",
       "        text-align: right;\n",
       "    }\n",
       "</style>\n",
       "<table border=\"1\" class=\"dataframe\">\n",
       "  <thead>\n",
       "    <tr style=\"text-align: right;\">\n",
       "      <th></th>\n",
       "      <th>Features</th>\n",
       "      <th>Score</th>\n",
       "    </tr>\n",
       "  </thead>\n",
       "  <tbody>\n",
       "    <tr>\n",
       "      <th>0</th>\n",
       "      <td>slope_of_peak_exercise_st_segment</td>\n",
       "      <td>5.240323</td>\n",
       "    </tr>\n",
       "    <tr>\n",
       "      <th>1</th>\n",
       "      <td>thal</td>\n",
       "      <td>8.458537</td>\n",
       "    </tr>\n",
       "    <tr>\n",
       "      <th>2</th>\n",
       "      <td>resting_blood_pressure</td>\n",
       "      <td>2.431004</td>\n",
       "    </tr>\n",
       "    <tr>\n",
       "      <th>3</th>\n",
       "      <td>chest_pain_type</td>\n",
       "      <td>8.514173</td>\n",
       "    </tr>\n",
       "    <tr>\n",
       "      <th>4</th>\n",
       "      <td>num_major_vessels</td>\n",
       "      <td>43.033600</td>\n",
       "    </tr>\n",
       "    <tr>\n",
       "      <th>5</th>\n",
       "      <td>fasting_blood_sugar_gt_120_mg_per_dl</td>\n",
       "      <td>0.001724</td>\n",
       "    </tr>\n",
       "    <tr>\n",
       "      <th>6</th>\n",
       "      <td>resting_ekg_results</td>\n",
       "      <td>3.621429</td>\n",
       "    </tr>\n",
       "    <tr>\n",
       "      <th>7</th>\n",
       "      <td>serum_cholesterol_mg_per_dl</td>\n",
       "      <td>12.703839</td>\n",
       "    </tr>\n",
       "    <tr>\n",
       "      <th>8</th>\n",
       "      <td>oldpeak_eq_st_depression</td>\n",
       "      <td>32.678243</td>\n",
       "    </tr>\n",
       "    <tr>\n",
       "      <th>9</th>\n",
       "      <td>sex</td>\n",
       "      <td>6.300403</td>\n",
       "    </tr>\n",
       "    <tr>\n",
       "      <th>10</th>\n",
       "      <td>age</td>\n",
       "      <td>5.439368</td>\n",
       "    </tr>\n",
       "    <tr>\n",
       "      <th>11</th>\n",
       "      <td>max_heart_rate_achieved</td>\n",
       "      <td>82.127149</td>\n",
       "    </tr>\n",
       "    <tr>\n",
       "      <th>12</th>\n",
       "      <td>exercise_induced_angina</td>\n",
       "      <td>24.757895</td>\n",
       "    </tr>\n",
       "  </tbody>\n",
       "</table>\n",
       "</div>"
      ],
      "text/plain": [
       "                                Features      Score\n",
       "0      slope_of_peak_exercise_st_segment   5.240323\n",
       "1                                   thal   8.458537\n",
       "2                 resting_blood_pressure   2.431004\n",
       "3                        chest_pain_type   8.514173\n",
       "4                      num_major_vessels  43.033600\n",
       "5   fasting_blood_sugar_gt_120_mg_per_dl   0.001724\n",
       "6                    resting_ekg_results   3.621429\n",
       "7            serum_cholesterol_mg_per_dl  12.703839\n",
       "8               oldpeak_eq_st_depression  32.678243\n",
       "9                                    sex   6.300403\n",
       "10                                   age   5.439368\n",
       "11               max_heart_rate_achieved  82.127149\n",
       "12               exercise_induced_angina  24.757895"
      ]
     },
     "execution_count": 24,
     "metadata": {},
     "output_type": "execute_result"
    }
   ],
   "source": [
    "features_rank.columns=['Features','Score']\n",
    "features_rank"
   ]
  },
  {
   "cell_type": "code",
   "execution_count": 25,
   "metadata": {
    "collapsed": false
   },
   "outputs": [
    {
     "data": {
      "text/html": [
       "<div>\n",
       "<style scoped>\n",
       "    .dataframe tbody tr th:only-of-type {\n",
       "        vertical-align: middle;\n",
       "    }\n",
       "\n",
       "    .dataframe tbody tr th {\n",
       "        vertical-align: top;\n",
       "    }\n",
       "\n",
       "    .dataframe thead th {\n",
       "        text-align: right;\n",
       "    }\n",
       "</style>\n",
       "<table border=\"1\" class=\"dataframe\">\n",
       "  <thead>\n",
       "    <tr style=\"text-align: right;\">\n",
       "      <th></th>\n",
       "      <th>Features</th>\n",
       "      <th>Score</th>\n",
       "    </tr>\n",
       "  </thead>\n",
       "  <tbody>\n",
       "    <tr>\n",
       "      <th>11</th>\n",
       "      <td>max_heart_rate_achieved</td>\n",
       "      <td>82.127149</td>\n",
       "    </tr>\n",
       "    <tr>\n",
       "      <th>4</th>\n",
       "      <td>num_major_vessels</td>\n",
       "      <td>43.033600</td>\n",
       "    </tr>\n",
       "    <tr>\n",
       "      <th>8</th>\n",
       "      <td>oldpeak_eq_st_depression</td>\n",
       "      <td>32.678243</td>\n",
       "    </tr>\n",
       "    <tr>\n",
       "      <th>12</th>\n",
       "      <td>exercise_induced_angina</td>\n",
       "      <td>24.757895</td>\n",
       "    </tr>\n",
       "    <tr>\n",
       "      <th>7</th>\n",
       "      <td>serum_cholesterol_mg_per_dl</td>\n",
       "      <td>12.703839</td>\n",
       "    </tr>\n",
       "    <tr>\n",
       "      <th>3</th>\n",
       "      <td>chest_pain_type</td>\n",
       "      <td>8.514173</td>\n",
       "    </tr>\n",
       "    <tr>\n",
       "      <th>1</th>\n",
       "      <td>thal</td>\n",
       "      <td>8.458537</td>\n",
       "    </tr>\n",
       "    <tr>\n",
       "      <th>9</th>\n",
       "      <td>sex</td>\n",
       "      <td>6.300403</td>\n",
       "    </tr>\n",
       "    <tr>\n",
       "      <th>10</th>\n",
       "      <td>age</td>\n",
       "      <td>5.439368</td>\n",
       "    </tr>\n",
       "    <tr>\n",
       "      <th>0</th>\n",
       "      <td>slope_of_peak_exercise_st_segment</td>\n",
       "      <td>5.240323</td>\n",
       "    </tr>\n",
       "    <tr>\n",
       "      <th>6</th>\n",
       "      <td>resting_ekg_results</td>\n",
       "      <td>3.621429</td>\n",
       "    </tr>\n",
       "    <tr>\n",
       "      <th>2</th>\n",
       "      <td>resting_blood_pressure</td>\n",
       "      <td>2.431004</td>\n",
       "    </tr>\n",
       "    <tr>\n",
       "      <th>5</th>\n",
       "      <td>fasting_blood_sugar_gt_120_mg_per_dl</td>\n",
       "      <td>0.001724</td>\n",
       "    </tr>\n",
       "  </tbody>\n",
       "</table>\n",
       "</div>"
      ],
      "text/plain": [
       "                                Features      Score\n",
       "11               max_heart_rate_achieved  82.127149\n",
       "4                      num_major_vessels  43.033600\n",
       "8               oldpeak_eq_st_depression  32.678243\n",
       "12               exercise_induced_angina  24.757895\n",
       "7            serum_cholesterol_mg_per_dl  12.703839\n",
       "3                        chest_pain_type   8.514173\n",
       "1                                   thal   8.458537\n",
       "9                                    sex   6.300403\n",
       "10                                   age   5.439368\n",
       "0      slope_of_peak_exercise_st_segment   5.240323\n",
       "6                    resting_ekg_results   3.621429\n",
       "2                 resting_blood_pressure   2.431004\n",
       "5   fasting_blood_sugar_gt_120_mg_per_dl   0.001724"
      ]
     },
     "execution_count": 25,
     "metadata": {},
     "output_type": "execute_result"
    }
   ],
   "source": [
    "features_rank.nlargest(13,'Score')"
   ]
  },
  {
   "cell_type": "markdown",
   "metadata": {},
   "source": [
    "# Feature Importance\n",
    "This technique gives you a score for each feature of your data,the higher the score mor relevant it is"
   ]
  },
  {
   "cell_type": "code",
   "execution_count": 26,
   "metadata": {
    "collapsed": false
   },
   "outputs": [
    {
     "data": {
      "text/plain": [
       "ExtraTreesClassifier()"
      ]
     },
     "execution_count": 26,
     "metadata": {},
     "output_type": "execute_result"
    }
   ],
   "source": [
    "from sklearn.ensemble import ExtraTreesClassifier\n",
    "#import matplotlib.pyplot as plt\n",
    "model=ExtraTreesClassifier()\n",
    "model.fit(X,y)"
   ]
  },
  {
   "cell_type": "code",
   "execution_count": 27,
   "metadata": {
    "collapsed": false
   },
   "outputs": [
    {
     "name": "stdout",
     "output_type": "stream",
     "text": [
      "[0.06542843 0.13951278 0.0622115  0.11602002 0.0990573  0.02035967\n",
      " 0.03645354 0.06578847 0.08113843 0.06112009 0.07150898 0.0826115\n",
      " 0.0987893 ]\n"
     ]
    }
   ],
   "source": [
    "print(model.feature_importances_)"
   ]
  },
  {
   "cell_type": "markdown",
   "metadata": {},
   "source": [
    "# Correlation"
   ]
  },
  {
   "cell_type": "code",
   "execution_count": 28,
   "metadata": {
    "collapsed": false
   },
   "outputs": [
    {
     "data": {
      "text/html": [
       "<div>\n",
       "<style scoped>\n",
       "    .dataframe tbody tr th:only-of-type {\n",
       "        vertical-align: middle;\n",
       "    }\n",
       "\n",
       "    .dataframe tbody tr th {\n",
       "        vertical-align: top;\n",
       "    }\n",
       "\n",
       "    .dataframe thead th {\n",
       "        text-align: right;\n",
       "    }\n",
       "</style>\n",
       "<table border=\"1\" class=\"dataframe\">\n",
       "  <thead>\n",
       "    <tr style=\"text-align: right;\">\n",
       "      <th></th>\n",
       "      <th>slope_of_peak_exercise_st_segment</th>\n",
       "      <th>thal</th>\n",
       "      <th>resting_blood_pressure</th>\n",
       "      <th>chest_pain_type</th>\n",
       "      <th>num_major_vessels</th>\n",
       "      <th>fasting_blood_sugar_gt_120_mg_per_dl</th>\n",
       "      <th>resting_ekg_results</th>\n",
       "      <th>serum_cholesterol_mg_per_dl</th>\n",
       "      <th>oldpeak_eq_st_depression</th>\n",
       "      <th>sex</th>\n",
       "      <th>age</th>\n",
       "      <th>max_heart_rate_achieved</th>\n",
       "      <th>exercise_induced_angina</th>\n",
       "      <th>heart_disease_present</th>\n",
       "    </tr>\n",
       "  </thead>\n",
       "  <tbody>\n",
       "    <tr>\n",
       "      <th>slope_of_peak_exercise_st_segment</th>\n",
       "      <td>1.000000</td>\n",
       "      <td>0.154101</td>\n",
       "      <td>0.098287</td>\n",
       "      <td>0.121207</td>\n",
       "      <td>0.076832</td>\n",
       "      <td>0.050199</td>\n",
       "      <td>0.172191</td>\n",
       "      <td>-0.032348</td>\n",
       "      <td>0.615948</td>\n",
       "      <td>0.093340</td>\n",
       "      <td>0.169918</td>\n",
       "      <td>-0.418102</td>\n",
       "      <td>0.225459</td>\n",
       "      <td>0.344224</td>\n",
       "    </tr>\n",
       "    <tr>\n",
       "      <th>thal</th>\n",
       "      <td>0.154101</td>\n",
       "      <td>1.000000</td>\n",
       "      <td>-0.006088</td>\n",
       "      <td>0.269583</td>\n",
       "      <td>0.174107</td>\n",
       "      <td>-0.070225</td>\n",
       "      <td>-0.052171</td>\n",
       "      <td>0.046448</td>\n",
       "      <td>0.251972</td>\n",
       "      <td>0.265420</td>\n",
       "      <td>-0.007934</td>\n",
       "      <td>-0.142098</td>\n",
       "      <td>0.360395</td>\n",
       "      <td>0.447214</td>\n",
       "    </tr>\n",
       "    <tr>\n",
       "      <th>resting_blood_pressure</th>\n",
       "      <td>0.098287</td>\n",
       "      <td>-0.006088</td>\n",
       "      <td>1.000000</td>\n",
       "      <td>-0.029296</td>\n",
       "      <td>0.042388</td>\n",
       "      <td>0.166570</td>\n",
       "      <td>0.078986</td>\n",
       "      <td>0.144881</td>\n",
       "      <td>0.219026</td>\n",
       "      <td>-0.055589</td>\n",
       "      <td>0.284402</td>\n",
       "      <td>-0.017521</td>\n",
       "      <td>0.123397</td>\n",
       "      <td>0.078506</td>\n",
       "    </tr>\n",
       "    <tr>\n",
       "      <th>chest_pain_type</th>\n",
       "      <td>0.121207</td>\n",
       "      <td>0.269583</td>\n",
       "      <td>-0.029296</td>\n",
       "      <td>1.000000</td>\n",
       "      <td>0.249061</td>\n",
       "      <td>-0.088992</td>\n",
       "      <td>0.033379</td>\n",
       "      <td>0.061213</td>\n",
       "      <td>0.080799</td>\n",
       "      <td>0.086057</td>\n",
       "      <td>0.085001</td>\n",
       "      <td>-0.301792</td>\n",
       "      <td>0.346266</td>\n",
       "      <td>0.412829</td>\n",
       "    </tr>\n",
       "    <tr>\n",
       "      <th>num_major_vessels</th>\n",
       "      <td>0.076832</td>\n",
       "      <td>0.174107</td>\n",
       "      <td>0.042388</td>\n",
       "      <td>0.249061</td>\n",
       "      <td>1.000000</td>\n",
       "      <td>0.169792</td>\n",
       "      <td>0.096656</td>\n",
       "      <td>0.098348</td>\n",
       "      <td>0.214062</td>\n",
       "      <td>0.073107</td>\n",
       "      <td>0.347355</td>\n",
       "      <td>-0.275687</td>\n",
       "      <td>0.153407</td>\n",
       "      <td>0.421519</td>\n",
       "    </tr>\n",
       "    <tr>\n",
       "      <th>fasting_blood_sugar_gt_120_mg_per_dl</th>\n",
       "      <td>0.050199</td>\n",
       "      <td>-0.070225</td>\n",
       "      <td>0.166570</td>\n",
       "      <td>-0.088992</td>\n",
       "      <td>0.169792</td>\n",
       "      <td>1.000000</td>\n",
       "      <td>0.053864</td>\n",
       "      <td>0.027560</td>\n",
       "      <td>-0.039055</td>\n",
       "      <td>0.066010</td>\n",
       "      <td>0.176101</td>\n",
       "      <td>0.058369</td>\n",
       "      <td>-0.005956</td>\n",
       "      <td>0.003379</td>\n",
       "    </tr>\n",
       "    <tr>\n",
       "      <th>resting_ekg_results</th>\n",
       "      <td>0.172191</td>\n",
       "      <td>-0.052171</td>\n",
       "      <td>0.078986</td>\n",
       "      <td>0.033379</td>\n",
       "      <td>0.096656</td>\n",
       "      <td>0.053864</td>\n",
       "      <td>1.000000</td>\n",
       "      <td>0.170839</td>\n",
       "      <td>0.097321</td>\n",
       "      <td>0.045786</td>\n",
       "      <td>0.126856</td>\n",
       "      <td>-0.102766</td>\n",
       "      <td>0.037773</td>\n",
       "      <td>0.145933</td>\n",
       "    </tr>\n",
       "    <tr>\n",
       "      <th>serum_cholesterol_mg_per_dl</th>\n",
       "      <td>-0.032348</td>\n",
       "      <td>0.046448</td>\n",
       "      <td>0.144881</td>\n",
       "      <td>0.061213</td>\n",
       "      <td>0.098348</td>\n",
       "      <td>0.027560</td>\n",
       "      <td>0.170839</td>\n",
       "      <td>1.000000</td>\n",
       "      <td>-0.021932</td>\n",
       "      <td>-0.152296</td>\n",
       "      <td>0.236211</td>\n",
       "      <td>-0.071038</td>\n",
       "      <td>0.083139</td>\n",
       "      <td>0.079775</td>\n",
       "    </tr>\n",
       "    <tr>\n",
       "      <th>oldpeak_eq_st_depression</th>\n",
       "      <td>0.615948</td>\n",
       "      <td>0.251972</td>\n",
       "      <td>0.219026</td>\n",
       "      <td>0.080799</td>\n",
       "      <td>0.214062</td>\n",
       "      <td>-0.039055</td>\n",
       "      <td>0.097321</td>\n",
       "      <td>-0.021932</td>\n",
       "      <td>1.000000</td>\n",
       "      <td>0.099374</td>\n",
       "      <td>0.189700</td>\n",
       "      <td>-0.341045</td>\n",
       "      <td>0.249167</td>\n",
       "      <td>0.382930</td>\n",
       "    </tr>\n",
       "    <tr>\n",
       "      <th>sex</th>\n",
       "      <td>0.093340</td>\n",
       "      <td>0.265420</td>\n",
       "      <td>-0.055589</td>\n",
       "      <td>0.086057</td>\n",
       "      <td>0.073107</td>\n",
       "      <td>0.066010</td>\n",
       "      <td>0.045786</td>\n",
       "      <td>-0.152296</td>\n",
       "      <td>0.099374</td>\n",
       "      <td>1.000000</td>\n",
       "      <td>-0.148997</td>\n",
       "      <td>-0.053960</td>\n",
       "      <td>0.251096</td>\n",
       "      <td>0.335421</td>\n",
       "    </tr>\n",
       "    <tr>\n",
       "      <th>age</th>\n",
       "      <td>0.169918</td>\n",
       "      <td>-0.007934</td>\n",
       "      <td>0.284402</td>\n",
       "      <td>0.085001</td>\n",
       "      <td>0.347355</td>\n",
       "      <td>0.176101</td>\n",
       "      <td>0.126856</td>\n",
       "      <td>0.236211</td>\n",
       "      <td>0.189700</td>\n",
       "      <td>-0.148997</td>\n",
       "      <td>1.000000</td>\n",
       "      <td>-0.394630</td>\n",
       "      <td>0.081811</td>\n",
       "      <td>0.138255</td>\n",
       "    </tr>\n",
       "    <tr>\n",
       "      <th>max_heart_rate_achieved</th>\n",
       "      <td>-0.418102</td>\n",
       "      <td>-0.142098</td>\n",
       "      <td>-0.017521</td>\n",
       "      <td>-0.301792</td>\n",
       "      <td>-0.275687</td>\n",
       "      <td>0.058369</td>\n",
       "      <td>-0.102766</td>\n",
       "      <td>-0.071038</td>\n",
       "      <td>-0.341045</td>\n",
       "      <td>-0.053960</td>\n",
       "      <td>-0.394630</td>\n",
       "      <td>1.000000</td>\n",
       "      <td>-0.365065</td>\n",
       "      <td>-0.375352</td>\n",
       "    </tr>\n",
       "    <tr>\n",
       "      <th>exercise_induced_angina</th>\n",
       "      <td>0.225459</td>\n",
       "      <td>0.360395</td>\n",
       "      <td>0.123397</td>\n",
       "      <td>0.346266</td>\n",
       "      <td>0.153407</td>\n",
       "      <td>-0.005956</td>\n",
       "      <td>0.037773</td>\n",
       "      <td>0.083139</td>\n",
       "      <td>0.249167</td>\n",
       "      <td>0.251096</td>\n",
       "      <td>0.081811</td>\n",
       "      <td>-0.365065</td>\n",
       "      <td>1.000000</td>\n",
       "      <td>0.448647</td>\n",
       "    </tr>\n",
       "    <tr>\n",
       "      <th>heart_disease_present</th>\n",
       "      <td>0.344224</td>\n",
       "      <td>0.447214</td>\n",
       "      <td>0.078506</td>\n",
       "      <td>0.412829</td>\n",
       "      <td>0.421519</td>\n",
       "      <td>0.003379</td>\n",
       "      <td>0.145933</td>\n",
       "      <td>0.079775</td>\n",
       "      <td>0.382930</td>\n",
       "      <td>0.335421</td>\n",
       "      <td>0.138255</td>\n",
       "      <td>-0.375352</td>\n",
       "      <td>0.448647</td>\n",
       "      <td>1.000000</td>\n",
       "    </tr>\n",
       "  </tbody>\n",
       "</table>\n",
       "</div>"
      ],
      "text/plain": [
       "                                      slope_of_peak_exercise_st_segment  \\\n",
       "slope_of_peak_exercise_st_segment                              1.000000   \n",
       "thal                                                           0.154101   \n",
       "resting_blood_pressure                                         0.098287   \n",
       "chest_pain_type                                                0.121207   \n",
       "num_major_vessels                                              0.076832   \n",
       "fasting_blood_sugar_gt_120_mg_per_dl                           0.050199   \n",
       "resting_ekg_results                                            0.172191   \n",
       "serum_cholesterol_mg_per_dl                                   -0.032348   \n",
       "oldpeak_eq_st_depression                                       0.615948   \n",
       "sex                                                            0.093340   \n",
       "age                                                            0.169918   \n",
       "max_heart_rate_achieved                                       -0.418102   \n",
       "exercise_induced_angina                                        0.225459   \n",
       "heart_disease_present                                          0.344224   \n",
       "\n",
       "                                          thal  resting_blood_pressure  \\\n",
       "slope_of_peak_exercise_st_segment     0.154101                0.098287   \n",
       "thal                                  1.000000               -0.006088   \n",
       "resting_blood_pressure               -0.006088                1.000000   \n",
       "chest_pain_type                       0.269583               -0.029296   \n",
       "num_major_vessels                     0.174107                0.042388   \n",
       "fasting_blood_sugar_gt_120_mg_per_dl -0.070225                0.166570   \n",
       "resting_ekg_results                  -0.052171                0.078986   \n",
       "serum_cholesterol_mg_per_dl           0.046448                0.144881   \n",
       "oldpeak_eq_st_depression              0.251972                0.219026   \n",
       "sex                                   0.265420               -0.055589   \n",
       "age                                  -0.007934                0.284402   \n",
       "max_heart_rate_achieved              -0.142098               -0.017521   \n",
       "exercise_induced_angina               0.360395                0.123397   \n",
       "heart_disease_present                 0.447214                0.078506   \n",
       "\n",
       "                                      chest_pain_type  num_major_vessels  \\\n",
       "slope_of_peak_exercise_st_segment            0.121207           0.076832   \n",
       "thal                                         0.269583           0.174107   \n",
       "resting_blood_pressure                      -0.029296           0.042388   \n",
       "chest_pain_type                              1.000000           0.249061   \n",
       "num_major_vessels                            0.249061           1.000000   \n",
       "fasting_blood_sugar_gt_120_mg_per_dl        -0.088992           0.169792   \n",
       "resting_ekg_results                          0.033379           0.096656   \n",
       "serum_cholesterol_mg_per_dl                  0.061213           0.098348   \n",
       "oldpeak_eq_st_depression                     0.080799           0.214062   \n",
       "sex                                          0.086057           0.073107   \n",
       "age                                          0.085001           0.347355   \n",
       "max_heart_rate_achieved                     -0.301792          -0.275687   \n",
       "exercise_induced_angina                      0.346266           0.153407   \n",
       "heart_disease_present                        0.412829           0.421519   \n",
       "\n",
       "                                      fasting_blood_sugar_gt_120_mg_per_dl  \\\n",
       "slope_of_peak_exercise_st_segment                                 0.050199   \n",
       "thal                                                             -0.070225   \n",
       "resting_blood_pressure                                            0.166570   \n",
       "chest_pain_type                                                  -0.088992   \n",
       "num_major_vessels                                                 0.169792   \n",
       "fasting_blood_sugar_gt_120_mg_per_dl                              1.000000   \n",
       "resting_ekg_results                                               0.053864   \n",
       "serum_cholesterol_mg_per_dl                                       0.027560   \n",
       "oldpeak_eq_st_depression                                         -0.039055   \n",
       "sex                                                               0.066010   \n",
       "age                                                               0.176101   \n",
       "max_heart_rate_achieved                                           0.058369   \n",
       "exercise_induced_angina                                          -0.005956   \n",
       "heart_disease_present                                             0.003379   \n",
       "\n",
       "                                      resting_ekg_results  \\\n",
       "slope_of_peak_exercise_st_segment                0.172191   \n",
       "thal                                            -0.052171   \n",
       "resting_blood_pressure                           0.078986   \n",
       "chest_pain_type                                  0.033379   \n",
       "num_major_vessels                                0.096656   \n",
       "fasting_blood_sugar_gt_120_mg_per_dl             0.053864   \n",
       "resting_ekg_results                              1.000000   \n",
       "serum_cholesterol_mg_per_dl                      0.170839   \n",
       "oldpeak_eq_st_depression                         0.097321   \n",
       "sex                                              0.045786   \n",
       "age                                              0.126856   \n",
       "max_heart_rate_achieved                         -0.102766   \n",
       "exercise_induced_angina                          0.037773   \n",
       "heart_disease_present                            0.145933   \n",
       "\n",
       "                                      serum_cholesterol_mg_per_dl  \\\n",
       "slope_of_peak_exercise_st_segment                       -0.032348   \n",
       "thal                                                     0.046448   \n",
       "resting_blood_pressure                                   0.144881   \n",
       "chest_pain_type                                          0.061213   \n",
       "num_major_vessels                                        0.098348   \n",
       "fasting_blood_sugar_gt_120_mg_per_dl                     0.027560   \n",
       "resting_ekg_results                                      0.170839   \n",
       "serum_cholesterol_mg_per_dl                              1.000000   \n",
       "oldpeak_eq_st_depression                                -0.021932   \n",
       "sex                                                     -0.152296   \n",
       "age                                                      0.236211   \n",
       "max_heart_rate_achieved                                 -0.071038   \n",
       "exercise_induced_angina                                  0.083139   \n",
       "heart_disease_present                                    0.079775   \n",
       "\n",
       "                                      oldpeak_eq_st_depression       sex  \\\n",
       "slope_of_peak_exercise_st_segment                     0.615948  0.093340   \n",
       "thal                                                  0.251972  0.265420   \n",
       "resting_blood_pressure                                0.219026 -0.055589   \n",
       "chest_pain_type                                       0.080799  0.086057   \n",
       "num_major_vessels                                     0.214062  0.073107   \n",
       "fasting_blood_sugar_gt_120_mg_per_dl                 -0.039055  0.066010   \n",
       "resting_ekg_results                                   0.097321  0.045786   \n",
       "serum_cholesterol_mg_per_dl                          -0.021932 -0.152296   \n",
       "oldpeak_eq_st_depression                              1.000000  0.099374   \n",
       "sex                                                   0.099374  1.000000   \n",
       "age                                                   0.189700 -0.148997   \n",
       "max_heart_rate_achieved                              -0.341045 -0.053960   \n",
       "exercise_induced_angina                               0.249167  0.251096   \n",
       "heart_disease_present                                 0.382930  0.335421   \n",
       "\n",
       "                                           age  max_heart_rate_achieved  \\\n",
       "slope_of_peak_exercise_st_segment     0.169918                -0.418102   \n",
       "thal                                 -0.007934                -0.142098   \n",
       "resting_blood_pressure                0.284402                -0.017521   \n",
       "chest_pain_type                       0.085001                -0.301792   \n",
       "num_major_vessels                     0.347355                -0.275687   \n",
       "fasting_blood_sugar_gt_120_mg_per_dl  0.176101                 0.058369   \n",
       "resting_ekg_results                   0.126856                -0.102766   \n",
       "serum_cholesterol_mg_per_dl           0.236211                -0.071038   \n",
       "oldpeak_eq_st_depression              0.189700                -0.341045   \n",
       "sex                                  -0.148997                -0.053960   \n",
       "age                                   1.000000                -0.394630   \n",
       "max_heart_rate_achieved              -0.394630                 1.000000   \n",
       "exercise_induced_angina               0.081811                -0.365065   \n",
       "heart_disease_present                 0.138255                -0.375352   \n",
       "\n",
       "                                      exercise_induced_angina  \\\n",
       "slope_of_peak_exercise_st_segment                    0.225459   \n",
       "thal                                                 0.360395   \n",
       "resting_blood_pressure                               0.123397   \n",
       "chest_pain_type                                      0.346266   \n",
       "num_major_vessels                                    0.153407   \n",
       "fasting_blood_sugar_gt_120_mg_per_dl                -0.005956   \n",
       "resting_ekg_results                                  0.037773   \n",
       "serum_cholesterol_mg_per_dl                          0.083139   \n",
       "oldpeak_eq_st_depression                             0.249167   \n",
       "sex                                                  0.251096   \n",
       "age                                                  0.081811   \n",
       "max_heart_rate_achieved                             -0.365065   \n",
       "exercise_induced_angina                              1.000000   \n",
       "heart_disease_present                                0.448647   \n",
       "\n",
       "                                      heart_disease_present  \n",
       "slope_of_peak_exercise_st_segment                  0.344224  \n",
       "thal                                               0.447214  \n",
       "resting_blood_pressure                             0.078506  \n",
       "chest_pain_type                                    0.412829  \n",
       "num_major_vessels                                  0.421519  \n",
       "fasting_blood_sugar_gt_120_mg_per_dl               0.003379  \n",
       "resting_ekg_results                                0.145933  \n",
       "serum_cholesterol_mg_per_dl                        0.079775  \n",
       "oldpeak_eq_st_depression                           0.382930  \n",
       "sex                                                0.335421  \n",
       "age                                                0.138255  \n",
       "max_heart_rate_achieved                           -0.375352  \n",
       "exercise_induced_angina                            0.448647  \n",
       "heart_disease_present                              1.000000  "
      ]
     },
     "execution_count": 28,
     "metadata": {},
     "output_type": "execute_result"
    }
   ],
   "source": [
    "df1.corr()"
   ]
  },
  {
   "cell_type": "code",
   "execution_count": 29,
   "metadata": {
    "collapsed": false
   },
   "outputs": [
    {
     "data": {
      "image/png": "[encoded data removed]",
      "text/plain": [
       "<Figure size 1440x1440 with 2 Axes>"
      ]
     },
     "metadata": {},
     "output_type": "display_data"
    }
   ],
   "source": [
    "import seaborn as sns\n",
    "corr=df1.iloc[:,:-1].corr()\n",
    "top_features=corr.index\n",
    "plt.figure(figsize=(20,20))\n",
    "sns.heatmap(df1[top_features].corr(),annot=True)\n",
    "plt.show()"
   ]
  },
  {
   "cell_type": "markdown",
   "metadata": {},
   "source": [
    "# Remove The correlated"
   ]
  },
  {
   "cell_type": "code",
   "execution_count": 30,
   "metadata": {
    "collapsed": true
   },
   "outputs": [],
   "source": [
    "threshold=0.8"
   ]
  },
  {
   "cell_type": "code",
   "execution_count": 31,
   "metadata": {
    "collapsed": true
   },
   "outputs": [],
   "source": [
    "# find and remove correlated features\n",
    "def correlation(df1, threshold):\n",
    "    col_corr = set()  # Set of all the names of correlated columns\n",
    "    corr_matrix = df1.corr()\n",
    "    for i in range(len(corr_matrix.columns)):\n",
    "        for j in range(i):\n",
    "            if abs(corr_matrix.iloc[i, j]) > threshold: # we are interested in absolute coeff value\n",
    "                colname = corr_matrix.columns[i]  # getting the name of column\n",
    "                col_corr.add(colname)\n",
    "    return col_corr"
   ]
  },
  {
   "cell_type": "code",
   "execution_count": 32,
   "metadata": {
    "collapsed": false
   },
   "outputs": [
    {
     "data": {
      "text/plain": [
       "set()"
      ]
     },
     "execution_count": 32,
     "metadata": {},
     "output_type": "execute_result"
    }
   ],
   "source": [
    "correlation(df1.iloc[:,:-1],threshold)"
   ]
  },
  {
   "cell_type": "markdown",
   "metadata": {},
   "source": [
    "# Information Gain"
   ]
  },
  {
   "cell_type": "code",
   "execution_count": 33,
   "metadata": {
    "collapsed": true
   },
   "outputs": [],
   "source": [
    "from sklearn.feature_selection import mutual_info_classif"
   ]
  },
  {
   "cell_type": "code",
   "execution_count": 34,
   "metadata": {
    "collapsed": true
   },
   "outputs": [],
   "source": [
    "mutual_info=mutual_info_classif(X,y)"
   ]
  },
  {
   "cell_type": "code",
   "execution_count": 35,
   "metadata": {
    "collapsed": false
   },
   "outputs": [
    {
     "data": {
      "text/plain": [
       "thal                                    0.136146\n",
       "chest_pain_type                         0.131277\n",
       "num_major_vessels                       0.105896\n",
       "oldpeak_eq_st_depression                0.100812\n",
       "exercise_induced_angina                 0.061528\n",
       "slope_of_peak_exercise_st_segment       0.052271\n",
       "sex                                     0.050395\n",
       "serum_cholesterol_mg_per_dl             0.046792\n",
       "max_heart_rate_achieved                 0.044886\n",
       "age                                     0.019436\n",
       "resting_ekg_results                     0.000115\n",
       "fasting_blood_sugar_gt_120_mg_per_dl    0.000000\n",
       "resting_blood_pressure                  0.000000\n",
       "dtype: float64"
      ]
     },
     "execution_count": 35,
     "metadata": {},
     "output_type": "execute_result"
    }
   ],
   "source": [
    "mutual_data=pd.Series(mutual_info,index=X.columns)\n",
    "mutual_data.sort_values(ascending=False)"
   ]
  },
  {
   "cell_type": "code",
   "execution_count": 36,
   "metadata": {
    "collapsed": false
   },
   "outputs": [
    {
     "data": {
      "text/html": [
       "<div>\n",
       "<style scoped>\n",
       "    .dataframe tbody tr th:only-of-type {\n",
       "        vertical-align: middle;\n",
       "    }\n",
       "\n",
       "    .dataframe tbody tr th {\n",
       "        vertical-align: top;\n",
       "    }\n",
       "\n",
       "    .dataframe thead th {\n",
       "        text-align: right;\n",
       "    }\n",
       "</style>\n",
       "<table border=\"1\" class=\"dataframe\">\n",
       "  <thead>\n",
       "    <tr style=\"text-align: right;\">\n",
       "      <th></th>\n",
       "      <th>slope_of_peak_exercise_st_segment</th>\n",
       "      <th>thal</th>\n",
       "      <th>chest_pain_type</th>\n",
       "      <th>num_major_vessels</th>\n",
       "      <th>resting_ekg_results</th>\n",
       "      <th>serum_cholesterol_mg_per_dl</th>\n",
       "      <th>oldpeak_eq_st_depression</th>\n",
       "      <th>sex</th>\n",
       "      <th>age</th>\n",
       "      <th>max_heart_rate_achieved</th>\n",
       "      <th>exercise_induced_angina</th>\n",
       "      <th>heart_disease_present</th>\n",
       "    </tr>\n",
       "  </thead>\n",
       "  <tbody>\n",
       "    <tr>\n",
       "      <th>0</th>\n",
       "      <td>1</td>\n",
       "      <td>1</td>\n",
       "      <td>2</td>\n",
       "      <td>0</td>\n",
       "      <td>2</td>\n",
       "      <td>308</td>\n",
       "      <td>0.0</td>\n",
       "      <td>1</td>\n",
       "      <td>45</td>\n",
       "      <td>170</td>\n",
       "      <td>0</td>\n",
       "      <td>0</td>\n",
       "    </tr>\n",
       "    <tr>\n",
       "      <th>1</th>\n",
       "      <td>2</td>\n",
       "      <td>1</td>\n",
       "      <td>3</td>\n",
       "      <td>0</td>\n",
       "      <td>0</td>\n",
       "      <td>214</td>\n",
       "      <td>1.6</td>\n",
       "      <td>0</td>\n",
       "      <td>54</td>\n",
       "      <td>158</td>\n",
       "      <td>0</td>\n",
       "      <td>0</td>\n",
       "    </tr>\n",
       "    <tr>\n",
       "      <th>2</th>\n",
       "      <td>1</td>\n",
       "      <td>1</td>\n",
       "      <td>4</td>\n",
       "      <td>3</td>\n",
       "      <td>2</td>\n",
       "      <td>304</td>\n",
       "      <td>0.0</td>\n",
       "      <td>1</td>\n",
       "      <td>77</td>\n",
       "      <td>162</td>\n",
       "      <td>1</td>\n",
       "      <td>1</td>\n",
       "    </tr>\n",
       "    <tr>\n",
       "      <th>3</th>\n",
       "      <td>1</td>\n",
       "      <td>2</td>\n",
       "      <td>4</td>\n",
       "      <td>0</td>\n",
       "      <td>0</td>\n",
       "      <td>223</td>\n",
       "      <td>0.0</td>\n",
       "      <td>1</td>\n",
       "      <td>40</td>\n",
       "      <td>181</td>\n",
       "      <td>0</td>\n",
       "      <td>1</td>\n",
       "    </tr>\n",
       "    <tr>\n",
       "      <th>4</th>\n",
       "      <td>3</td>\n",
       "      <td>2</td>\n",
       "      <td>1</td>\n",
       "      <td>0</td>\n",
       "      <td>2</td>\n",
       "      <td>270</td>\n",
       "      <td>4.2</td>\n",
       "      <td>1</td>\n",
       "      <td>59</td>\n",
       "      <td>145</td>\n",
       "      <td>0</td>\n",
       "      <td>0</td>\n",
       "    </tr>\n",
       "    <tr>\n",
       "      <th>...</th>\n",
       "      <td>...</td>\n",
       "      <td>...</td>\n",
       "      <td>...</td>\n",
       "      <td>...</td>\n",
       "      <td>...</td>\n",
       "      <td>...</td>\n",
       "      <td>...</td>\n",
       "      <td>...</td>\n",
       "      <td>...</td>\n",
       "      <td>...</td>\n",
       "      <td>...</td>\n",
       "      <td>...</td>\n",
       "    </tr>\n",
       "    <tr>\n",
       "      <th>175</th>\n",
       "      <td>2</td>\n",
       "      <td>2</td>\n",
       "      <td>4</td>\n",
       "      <td>2</td>\n",
       "      <td>0</td>\n",
       "      <td>254</td>\n",
       "      <td>0.2</td>\n",
       "      <td>1</td>\n",
       "      <td>67</td>\n",
       "      <td>163</td>\n",
       "      <td>0</td>\n",
       "      <td>1</td>\n",
       "    </tr>\n",
       "    <tr>\n",
       "      <th>176</th>\n",
       "      <td>2</td>\n",
       "      <td>1</td>\n",
       "      <td>4</td>\n",
       "      <td>0</td>\n",
       "      <td>1</td>\n",
       "      <td>327</td>\n",
       "      <td>3.4</td>\n",
       "      <td>0</td>\n",
       "      <td>55</td>\n",
       "      <td>117</td>\n",
       "      <td>1</td>\n",
       "      <td>1</td>\n",
       "    </tr>\n",
       "    <tr>\n",
       "      <th>177</th>\n",
       "      <td>2</td>\n",
       "      <td>2</td>\n",
       "      <td>3</td>\n",
       "      <td>0</td>\n",
       "      <td>0</td>\n",
       "      <td>309</td>\n",
       "      <td>1.8</td>\n",
       "      <td>1</td>\n",
       "      <td>64</td>\n",
       "      <td>131</td>\n",
       "      <td>1</td>\n",
       "      <td>1</td>\n",
       "    </tr>\n",
       "    <tr>\n",
       "      <th>178</th>\n",
       "      <td>1</td>\n",
       "      <td>1</td>\n",
       "      <td>3</td>\n",
       "      <td>2</td>\n",
       "      <td>0</td>\n",
       "      <td>255</td>\n",
       "      <td>0.0</td>\n",
       "      <td>1</td>\n",
       "      <td>48</td>\n",
       "      <td>175</td>\n",
       "      <td>0</td>\n",
       "      <td>0</td>\n",
       "    </tr>\n",
       "    <tr>\n",
       "      <th>179</th>\n",
       "      <td>1</td>\n",
       "      <td>1</td>\n",
       "      <td>3</td>\n",
       "      <td>1</td>\n",
       "      <td>0</td>\n",
       "      <td>201</td>\n",
       "      <td>0.0</td>\n",
       "      <td>0</td>\n",
       "      <td>54</td>\n",
       "      <td>163</td>\n",
       "      <td>0</td>\n",
       "      <td>0</td>\n",
       "    </tr>\n",
       "  </tbody>\n",
       "</table>\n",
       "<p>180 rows × 12 columns</p>\n",
       "</div>"
      ],
      "text/plain": [
       "     slope_of_peak_exercise_st_segment  thal  chest_pain_type  \\\n",
       "0                                    1     1                2   \n",
       "1                                    2     1                3   \n",
       "2                                    1     1                4   \n",
       "3                                    1     2                4   \n",
       "4                                    3     2                1   \n",
       "..                                 ...   ...              ...   \n",
       "175                                  2     2                4   \n",
       "176                                  2     1                4   \n",
       "177                                  2     2                3   \n",
       "178                                  1     1                3   \n",
       "179                                  1     1                3   \n",
       "\n",
       "     num_major_vessels  resting_ekg_results  serum_cholesterol_mg_per_dl  \\\n",
       "0                    0                    2                          308   \n",
       "1                    0                    0                          214   \n",
       "2                    3                    2                          304   \n",
       "3                    0                    0                          223   \n",
       "4                    0                    2                          270   \n",
       "..                 ...                  ...                          ...   \n",
       "175                  2                    0                          254   \n",
       "176                  0                    1                          327   \n",
       "177                  0                    0                          309   \n",
       "178                  2                    0                          255   \n",
       "179                  1                    0                          201   \n",
       "\n",
       "     oldpeak_eq_st_depression  sex  age  max_heart_rate_achieved  \\\n",
       "0                         0.0    1   45                      170   \n",
       "1                         1.6    0   54                      158   \n",
       "2                         0.0    1   77                      162   \n",
       "3                         0.0    1   40                      181   \n",
       "4                         4.2    1   59                      145   \n",
       "..                        ...  ...  ...                      ...   \n",
       "175                       0.2    1   67                      163   \n",
       "176                       3.4    0   55                      117   \n",
       "177                       1.8    1   64                      131   \n",
       "178                       0.0    1   48                      175   \n",
       "179                       0.0    0   54                      163   \n",
       "\n",
       "     exercise_induced_angina  heart_disease_present  \n",
       "0                          0                      0  \n",
       "1                          0                      0  \n",
       "2                          1                      1  \n",
       "3                          0                      1  \n",
       "4                          0                      0  \n",
       "..                       ...                    ...  \n",
       "175                        0                      1  \n",
       "176                        1                      1  \n",
       "177                        1                      1  \n",
       "178                        0                      0  \n",
       "179                        0                      0  \n",
       "\n",
       "[180 rows x 12 columns]"
      ]
     },
     "execution_count": 36,
     "metadata": {},
     "output_type": "execute_result"
    }
   ],
   "source": [
    "df1.drop(['fasting_blood_sugar_gt_120_mg_per_dl','resting_blood_pressure'],axis=1)"
   ]
  },
  {
   "cell_type": "code",
   "execution_count": 37,
   "metadata": {
    "collapsed": false
   },
   "outputs": [
    {
     "data": {
      "image/png": "[encoded data removed]",
      "text/plain": [
       "<Figure size 2160x720 with 1 Axes>"
      ]
     },
     "metadata": {},
     "output_type": "display_data"
    }
   ],
   "source": [
    "import warnings\n",
    "warnings.simplefilter(\"ignore\")\n",
    "plt.figure(figsize=(30,10))\n",
    "sns.boxplot(df1)\n",
    "plt.show()"
   ]
  },
  {
   "cell_type": "markdown",
   "metadata": {},
   "source": [
    "# Outliers Detection and Removing Using IQR Method"
   ]
  },
  {
   "cell_type": "code",
   "execution_count": 38,
   "metadata": {
    "collapsed": false
   },
   "outputs": [
    {
     "data": {
      "text/plain": [
       "['age',\n",
       " 'chest_pain_type',\n",
       " 'exercise_induced_angina',\n",
       " 'fasting_blood_sugar_gt_120_mg_per_dl',\n",
       " 'heart_disease_present',\n",
       " 'max_heart_rate_achieved',\n",
       " 'num_major_vessels',\n",
       " 'oldpeak_eq_st_depression',\n",
       " 'resting_blood_pressure',\n",
       " 'resting_ekg_results',\n",
       " 'serum_cholesterol_mg_per_dl',\n",
       " 'sex',\n",
       " 'slope_of_peak_exercise_st_segment',\n",
       " 'thal']"
      ]
     },
     "execution_count": 38,
     "metadata": {},
     "output_type": "execute_result"
    }
   ],
   "source": [
    "sorted(df1)"
   ]
  },
  {
   "cell_type": "code",
   "execution_count": 39,
   "metadata": {
    "collapsed": false,
    "scrolled": true
   },
   "outputs": [
    {
     "name": "stdout",
     "output_type": "stream",
     "text": [
      "slope_of_peak_exercise_st_segment        1.00\n",
      "thal                                     1.00\n",
      "resting_blood_pressure                  20.00\n",
      "chest_pain_type                          1.00\n",
      "num_major_vessels                        1.00\n",
      "fasting_blood_sugar_gt_120_mg_per_dl     0.00\n",
      "resting_ekg_results                      2.00\n",
      "serum_cholesterol_mg_per_dl             67.50\n",
      "oldpeak_eq_st_depression                 1.60\n",
      "sex                                      1.00\n",
      "age                                     14.00\n",
      "max_heart_rate_achieved                 34.25\n",
      "exercise_induced_angina                  1.00\n",
      "heart_disease_present                    1.00\n",
      "dtype: float64\n"
     ]
    }
   ],
   "source": [
    "Q1 = df1.quantile(0.25)\n",
    "Q3 = df1.quantile(0.75)\n",
    "IQR = Q3 - Q1\n",
    "print(IQR)"
   ]
  },
  {
   "cell_type": "code",
   "execution_count": 40,
   "metadata": {
    "collapsed": false
   },
   "outputs": [
    {
     "data": {
      "text/html": [
       "<div>\n",
       "<style scoped>\n",
       "    .dataframe tbody tr th:only-of-type {\n",
       "        vertical-align: middle;\n",
       "    }\n",
       "\n",
       "    .dataframe tbody tr th {\n",
       "        vertical-align: top;\n",
       "    }\n",
       "\n",
       "    .dataframe thead th {\n",
       "        text-align: right;\n",
       "    }\n",
       "</style>\n",
       "<table border=\"1\" class=\"dataframe\">\n",
       "  <thead>\n",
       "    <tr style=\"text-align: right;\">\n",
       "      <th></th>\n",
       "      <th>slope_of_peak_exercise_st_segment</th>\n",
       "      <th>thal</th>\n",
       "      <th>resting_blood_pressure</th>\n",
       "      <th>chest_pain_type</th>\n",
       "      <th>num_major_vessels</th>\n",
       "      <th>fasting_blood_sugar_gt_120_mg_per_dl</th>\n",
       "      <th>resting_ekg_results</th>\n",
       "      <th>serum_cholesterol_mg_per_dl</th>\n",
       "      <th>oldpeak_eq_st_depression</th>\n",
       "      <th>sex</th>\n",
       "      <th>age</th>\n",
       "      <th>max_heart_rate_achieved</th>\n",
       "      <th>exercise_induced_angina</th>\n",
       "      <th>heart_disease_present</th>\n",
       "    </tr>\n",
       "  </thead>\n",
       "  <tbody>\n",
       "    <tr>\n",
       "      <th>0</th>\n",
       "      <td>False</td>\n",
       "      <td>False</td>\n",
       "      <td>False</td>\n",
       "      <td>False</td>\n",
       "      <td>False</td>\n",
       "      <td>False</td>\n",
       "      <td>False</td>\n",
       "      <td>False</td>\n",
       "      <td>False</td>\n",
       "      <td>False</td>\n",
       "      <td>False</td>\n",
       "      <td>False</td>\n",
       "      <td>False</td>\n",
       "      <td>False</td>\n",
       "    </tr>\n",
       "    <tr>\n",
       "      <th>1</th>\n",
       "      <td>False</td>\n",
       "      <td>False</td>\n",
       "      <td>False</td>\n",
       "      <td>False</td>\n",
       "      <td>False</td>\n",
       "      <td>False</td>\n",
       "      <td>False</td>\n",
       "      <td>False</td>\n",
       "      <td>False</td>\n",
       "      <td>False</td>\n",
       "      <td>False</td>\n",
       "      <td>False</td>\n",
       "      <td>False</td>\n",
       "      <td>False</td>\n",
       "    </tr>\n",
       "    <tr>\n",
       "      <th>2</th>\n",
       "      <td>False</td>\n",
       "      <td>False</td>\n",
       "      <td>False</td>\n",
       "      <td>False</td>\n",
       "      <td>True</td>\n",
       "      <td>False</td>\n",
       "      <td>False</td>\n",
       "      <td>False</td>\n",
       "      <td>False</td>\n",
       "      <td>False</td>\n",
       "      <td>False</td>\n",
       "      <td>False</td>\n",
       "      <td>False</td>\n",
       "      <td>False</td>\n",
       "    </tr>\n",
       "    <tr>\n",
       "      <th>3</th>\n",
       "      <td>False</td>\n",
       "      <td>False</td>\n",
       "      <td>False</td>\n",
       "      <td>False</td>\n",
       "      <td>False</td>\n",
       "      <td>False</td>\n",
       "      <td>False</td>\n",
       "      <td>False</td>\n",
       "      <td>False</td>\n",
       "      <td>False</td>\n",
       "      <td>False</td>\n",
       "      <td>False</td>\n",
       "      <td>False</td>\n",
       "      <td>False</td>\n",
       "    </tr>\n",
       "    <tr>\n",
       "      <th>4</th>\n",
       "      <td>False</td>\n",
       "      <td>False</td>\n",
       "      <td>True</td>\n",
       "      <td>True</td>\n",
       "      <td>False</td>\n",
       "      <td>False</td>\n",
       "      <td>False</td>\n",
       "      <td>False</td>\n",
       "      <td>True</td>\n",
       "      <td>False</td>\n",
       "      <td>False</td>\n",
       "      <td>False</td>\n",
       "      <td>False</td>\n",
       "      <td>False</td>\n",
       "    </tr>\n",
       "    <tr>\n",
       "      <th>...</th>\n",
       "      <td>...</td>\n",
       "      <td>...</td>\n",
       "      <td>...</td>\n",
       "      <td>...</td>\n",
       "      <td>...</td>\n",
       "      <td>...</td>\n",
       "      <td>...</td>\n",
       "      <td>...</td>\n",
       "      <td>...</td>\n",
       "      <td>...</td>\n",
       "      <td>...</td>\n",
       "      <td>...</td>\n",
       "      <td>...</td>\n",
       "      <td>...</td>\n",
       "    </tr>\n",
       "    <tr>\n",
       "      <th>175</th>\n",
       "      <td>False</td>\n",
       "      <td>False</td>\n",
       "      <td>False</td>\n",
       "      <td>False</td>\n",
       "      <td>False</td>\n",
       "      <td>True</td>\n",
       "      <td>False</td>\n",
       "      <td>False</td>\n",
       "      <td>False</td>\n",
       "      <td>False</td>\n",
       "      <td>False</td>\n",
       "      <td>False</td>\n",
       "      <td>False</td>\n",
       "      <td>False</td>\n",
       "    </tr>\n",
       "    <tr>\n",
       "      <th>176</th>\n",
       "      <td>False</td>\n",
       "      <td>False</td>\n",
       "      <td>True</td>\n",
       "      <td>False</td>\n",
       "      <td>False</td>\n",
       "      <td>False</td>\n",
       "      <td>False</td>\n",
       "      <td>False</td>\n",
       "      <td>False</td>\n",
       "      <td>False</td>\n",
       "      <td>False</td>\n",
       "      <td>False</td>\n",
       "      <td>False</td>\n",
       "      <td>False</td>\n",
       "    </tr>\n",
       "    <tr>\n",
       "      <th>177</th>\n",
       "      <td>False</td>\n",
       "      <td>False</td>\n",
       "      <td>False</td>\n",
       "      <td>False</td>\n",
       "      <td>False</td>\n",
       "      <td>False</td>\n",
       "      <td>False</td>\n",
       "      <td>False</td>\n",
       "      <td>False</td>\n",
       "      <td>False</td>\n",
       "      <td>False</td>\n",
       "      <td>False</td>\n",
       "      <td>False</td>\n",
       "      <td>False</td>\n",
       "    </tr>\n",
       "    <tr>\n",
       "      <th>178</th>\n",
       "      <td>False</td>\n",
       "      <td>False</td>\n",
       "      <td>False</td>\n",
       "      <td>False</td>\n",
       "      <td>False</td>\n",
       "      <td>True</td>\n",
       "      <td>False</td>\n",
       "      <td>False</td>\n",
       "      <td>False</td>\n",
       "      <td>False</td>\n",
       "      <td>False</td>\n",
       "      <td>False</td>\n",
       "      <td>False</td>\n",
       "      <td>False</td>\n",
       "    </tr>\n",
       "    <tr>\n",
       "      <th>179</th>\n",
       "      <td>False</td>\n",
       "      <td>False</td>\n",
       "      <td>False</td>\n",
       "      <td>False</td>\n",
       "      <td>False</td>\n",
       "      <td>False</td>\n",
       "      <td>False</td>\n",
       "      <td>False</td>\n",
       "      <td>False</td>\n",
       "      <td>False</td>\n",
       "      <td>False</td>\n",
       "      <td>False</td>\n",
       "      <td>False</td>\n",
       "      <td>False</td>\n",
       "    </tr>\n",
       "  </tbody>\n",
       "</table>\n",
       "<p>180 rows × 14 columns</p>\n",
       "</div>"
      ],
      "text/plain": [
       "     slope_of_peak_exercise_st_segment   thal  resting_blood_pressure  \\\n",
       "0                                False  False                   False   \n",
       "1                                False  False                   False   \n",
       "2                                False  False                   False   \n",
       "3                                False  False                   False   \n",
       "4                                False  False                    True   \n",
       "..                                 ...    ...                     ...   \n",
       "175                              False  False                   False   \n",
       "176                              False  False                    True   \n",
       "177                              False  False                   False   \n",
       "178                              False  False                   False   \n",
       "179                              False  False                   False   \n",
       "\n",
       "     chest_pain_type  num_major_vessels  fasting_blood_sugar_gt_120_mg_per_dl  \\\n",
       "0              False              False                                 False   \n",
       "1              False              False                                 False   \n",
       "2              False               True                                 False   \n",
       "3              False              False                                 False   \n",
       "4               True              False                                 False   \n",
       "..               ...                ...                                   ...   \n",
       "175            False              False                                  True   \n",
       "176            False              False                                 False   \n",
       "177            False              False                                 False   \n",
       "178            False              False                                  True   \n",
       "179            False              False                                 False   \n",
       "\n",
       "     resting_ekg_results  serum_cholesterol_mg_per_dl  \\\n",
       "0                  False                        False   \n",
       "1                  False                        False   \n",
       "2                  False                        False   \n",
       "3                  False                        False   \n",
       "4                  False                        False   \n",
       "..                   ...                          ...   \n",
       "175                False                        False   \n",
       "176                False                        False   \n",
       "177                False                        False   \n",
       "178                False                        False   \n",
       "179                False                        False   \n",
       "\n",
       "     oldpeak_eq_st_depression    sex    age  max_heart_rate_achieved  \\\n",
       "0                       False  False  False                    False   \n",
       "1                       False  False  False                    False   \n",
       "2                       False  False  False                    False   \n",
       "3                       False  False  False                    False   \n",
       "4                        True  False  False                    False   \n",
       "..                        ...    ...    ...                      ...   \n",
       "175                     False  False  False                    False   \n",
       "176                     False  False  False                    False   \n",
       "177                     False  False  False                    False   \n",
       "178                     False  False  False                    False   \n",
       "179                     False  False  False                    False   \n",
       "\n",
       "     exercise_induced_angina  heart_disease_present  \n",
       "0                      False                  False  \n",
       "1                      False                  False  \n",
       "2                      False                  False  \n",
       "3                      False                  False  \n",
       "4                      False                  False  \n",
       "..                       ...                    ...  \n",
       "175                    False                  False  \n",
       "176                    False                  False  \n",
       "177                    False                  False  \n",
       "178                    False                  False  \n",
       "179                    False                  False  \n",
       "\n",
       "[180 rows x 14 columns]"
      ]
     },
     "execution_count": 40,
     "metadata": {},
     "output_type": "execute_result"
    }
   ],
   "source": [
    "(df1 < (Q1 - 1.5 * IQR)) |(df1 > (Q3 + 1.5 * IQR)) # False means has no outlier and True means has outliers"
   ]
  },
  {
   "cell_type": "code",
   "execution_count": 41,
   "metadata": {
    "collapsed": false
   },
   "outputs": [],
   "source": [
    "df1_out = df1[~((df1 < (Q1 - 1.5 * IQR)) | (df1 > (Q3 + 1.5 * IQR))).any(axis=1)]"
   ]
  },
  {
   "cell_type": "code",
   "execution_count": 42,
   "metadata": {
    "collapsed": false
   },
   "outputs": [
    {
     "data": {
      "text/plain": [
       "(128, 14)"
      ]
     },
     "execution_count": 42,
     "metadata": {},
     "output_type": "execute_result"
    }
   ],
   "source": [
    "df1_out.shape"
   ]
  },
  {
   "cell_type": "code",
   "execution_count": 43,
   "metadata": {
    "collapsed": false,
    "scrolled": true
   },
   "outputs": [
    {
     "data": {
      "image/png": "[encoded data removed]",
      "text/plain": [
       "<Figure size 3600x1080 with 1 Axes>"
      ]
     },
     "metadata": {},
     "output_type": "display_data"
    }
   ],
   "source": [
    "plt.figure(figsize=(50,15))\n",
    "sns.boxplot(df1_out)\n",
    "plt.show()"
   ]
  },
  {
   "cell_type": "markdown",
   "metadata": {
    "collapsed": true
   },
   "source": [
    "# Modeling"
   ]
  },
  {
   "cell_type": "code",
   "execution_count": 44,
   "metadata": {
    "collapsed": false
   },
   "outputs": [
    {
     "data": {
      "text/html": [
       "<div>\n",
       "<style scoped>\n",
       "    .dataframe tbody tr th:only-of-type {\n",
       "        vertical-align: middle;\n",
       "    }\n",
       "\n",
       "    .dataframe tbody tr th {\n",
       "        vertical-align: top;\n",
       "    }\n",
       "\n",
       "    .dataframe thead th {\n",
       "        text-align: right;\n",
       "    }\n",
       "</style>\n",
       "<table border=\"1\" class=\"dataframe\">\n",
       "  <thead>\n",
       "    <tr style=\"text-align: right;\">\n",
       "      <th></th>\n",
       "      <th>slope_of_peak_exercise_st_segment</th>\n",
       "      <th>thal</th>\n",
       "      <th>resting_blood_pressure</th>\n",
       "      <th>chest_pain_type</th>\n",
       "      <th>num_major_vessels</th>\n",
       "      <th>fasting_blood_sugar_gt_120_mg_per_dl</th>\n",
       "      <th>resting_ekg_results</th>\n",
       "      <th>serum_cholesterol_mg_per_dl</th>\n",
       "      <th>oldpeak_eq_st_depression</th>\n",
       "      <th>sex</th>\n",
       "      <th>age</th>\n",
       "      <th>max_heart_rate_achieved</th>\n",
       "      <th>exercise_induced_angina</th>\n",
       "    </tr>\n",
       "  </thead>\n",
       "  <tbody>\n",
       "    <tr>\n",
       "      <th>0</th>\n",
       "      <td>1</td>\n",
       "      <td>1</td>\n",
       "      <td>128</td>\n",
       "      <td>2</td>\n",
       "      <td>0</td>\n",
       "      <td>0</td>\n",
       "      <td>2</td>\n",
       "      <td>308</td>\n",
       "      <td>0.0</td>\n",
       "      <td>1</td>\n",
       "      <td>45</td>\n",
       "      <td>170</td>\n",
       "      <td>0</td>\n",
       "    </tr>\n",
       "    <tr>\n",
       "      <th>1</th>\n",
       "      <td>2</td>\n",
       "      <td>1</td>\n",
       "      <td>110</td>\n",
       "      <td>3</td>\n",
       "      <td>0</td>\n",
       "      <td>0</td>\n",
       "      <td>0</td>\n",
       "      <td>214</td>\n",
       "      <td>1.6</td>\n",
       "      <td>0</td>\n",
       "      <td>54</td>\n",
       "      <td>158</td>\n",
       "      <td>0</td>\n",
       "    </tr>\n",
       "    <tr>\n",
       "      <th>3</th>\n",
       "      <td>1</td>\n",
       "      <td>2</td>\n",
       "      <td>152</td>\n",
       "      <td>4</td>\n",
       "      <td>0</td>\n",
       "      <td>0</td>\n",
       "      <td>0</td>\n",
       "      <td>223</td>\n",
       "      <td>0.0</td>\n",
       "      <td>1</td>\n",
       "      <td>40</td>\n",
       "      <td>181</td>\n",
       "      <td>0</td>\n",
       "    </tr>\n",
       "  </tbody>\n",
       "</table>\n",
       "</div>"
      ],
      "text/plain": [
       "   slope_of_peak_exercise_st_segment  thal  resting_blood_pressure  \\\n",
       "0                                  1     1                     128   \n",
       "1                                  2     1                     110   \n",
       "3                                  1     2                     152   \n",
       "\n",
       "   chest_pain_type  num_major_vessels  fasting_blood_sugar_gt_120_mg_per_dl  \\\n",
       "0                2                  0                                     0   \n",
       "1                3                  0                                     0   \n",
       "3                4                  0                                     0   \n",
       "\n",
       "   resting_ekg_results  serum_cholesterol_mg_per_dl  oldpeak_eq_st_depression  \\\n",
       "0                    2                          308                       0.0   \n",
       "1                    0                          214                       1.6   \n",
       "3                    0                          223                       0.0   \n",
       "\n",
       "   sex  age  max_heart_rate_achieved  exercise_induced_angina  \n",
       "0    1   45                      170                        0  \n",
       "1    0   54                      158                        0  \n",
       "3    1   40                      181                        0  "
      ]
     },
     "execution_count": 44,
     "metadata": {},
     "output_type": "execute_result"
    }
   ],
   "source": [
    "X=df1_out.iloc[:,:-1]\n",
    "X.head(3)"
   ]
  },
  {
   "cell_type": "code",
   "execution_count": 45,
   "metadata": {
    "collapsed": false,
    "scrolled": true
   },
   "outputs": [
    {
     "data": {
      "text/plain": [
       "0    0\n",
       "1    0\n",
       "3    1\n",
       "Name: heart_disease_present, dtype: int64"
      ]
     },
     "execution_count": 45,
     "metadata": {},
     "output_type": "execute_result"
    }
   ],
   "source": [
    "y=df1_out.heart_disease_present\n",
    "y.head(3)"
   ]
  },
  {
   "cell_type": "code",
   "execution_count": 46,
   "metadata": {
    "collapsed": false
   },
   "outputs": [
    {
     "data": {
      "text/plain": [
       "0    76\n",
       "1    52\n",
       "Name: heart_disease_present, dtype: int64"
      ]
     },
     "execution_count": 46,
     "metadata": {},
     "output_type": "execute_result"
    }
   ],
   "source": [
    "y.value_counts() # it is unbalanced data set"
   ]
  },
  {
   "cell_type": "markdown",
   "metadata": {
    "collapsed": true
   },
   "source": [
    "# Model 1: LogisticRegression"
   ]
  },
  {
   "cell_type": "code",
   "execution_count": 47,
   "metadata": {
    "collapsed": true
   },
   "outputs": [],
   "source": [
    "from sklearn.linear_model import LogisticRegression\n",
    "from sklearn.model_selection import train_test_split\n",
    "from sklearn.metrics import accuracy_score\n",
    "X_train,X_test,y_train,y_test=train_test_split(X,y,test_size=0.3)\n",
    "model=LogisticRegression()\n",
    "model.fit(X_train,y_train)\n",
    "y_predict=model.predict(X_test)"
   ]
  },
  {
   "cell_type": "code",
   "execution_count": 48,
   "metadata": {
    "collapsed": false
   },
   "outputs": [
    {
     "data": {
      "text/plain": [
       "0.7948717948717948"
      ]
     },
     "execution_count": 48,
     "metadata": {},
     "output_type": "execute_result"
    }
   ],
   "source": [
    "accuracy_score(y_test,y_predict)"
   ]
  },
  {
   "cell_type": "code",
   "execution_count": 49,
   "metadata": {
    "collapsed": false
   },
   "outputs": [
    {
     "name": "stdout",
     "output_type": "stream",
     "text": [
      "Counter({0: 23, 1: 16})\n"
     ]
    },
    {
     "data": {
      "text/html": [
       "<div>\n",
       "<style scoped>\n",
       "    .dataframe tbody tr th:only-of-type {\n",
       "        vertical-align: middle;\n",
       "    }\n",
       "\n",
       "    .dataframe tbody tr th {\n",
       "        vertical-align: top;\n",
       "    }\n",
       "\n",
       "    .dataframe thead th {\n",
       "        text-align: right;\n",
       "    }\n",
       "</style>\n",
       "<table border=\"1\" class=\"dataframe\">\n",
       "  <thead>\n",
       "    <tr style=\"text-align: right;\">\n",
       "      <th>col_0</th>\n",
       "      <th>0</th>\n",
       "      <th>1</th>\n",
       "    </tr>\n",
       "    <tr>\n",
       "      <th>heart_disease_present</th>\n",
       "      <th></th>\n",
       "      <th></th>\n",
       "    </tr>\n",
       "  </thead>\n",
       "  <tbody>\n",
       "    <tr>\n",
       "      <th>0</th>\n",
       "      <td>19</td>\n",
       "      <td>4</td>\n",
       "    </tr>\n",
       "    <tr>\n",
       "      <th>1</th>\n",
       "      <td>4</td>\n",
       "      <td>12</td>\n",
       "    </tr>\n",
       "  </tbody>\n",
       "</table>\n",
       "</div>"
      ],
      "text/plain": [
       "col_0                   0   1\n",
       "heart_disease_present        \n",
       "0                      19   4\n",
       "1                       4  12"
      ]
     },
     "execution_count": 49,
     "metadata": {},
     "output_type": "execute_result"
    }
   ],
   "source": [
    "from collections import Counter\n",
    "print(Counter(y_test))\n",
    "pd.crosstab(y_test,y_predict)"
   ]
  },
  {
   "cell_type": "markdown",
   "metadata": {},
   "source": [
    "# Handling Imbalance set"
   ]
  },
  {
   "cell_type": "code",
   "execution_count": 50,
   "metadata": {
    "collapsed": false
   },
   "outputs": [
    {
     "name": "stdout",
     "output_type": "stream",
     "text": [
      "Requirement already satisfied: imblearn in c:\\programdata\\anaconda3\\lib\\site-packages (0.0)\n",
      "Requirement already satisfied: imbalanced-learn in c:\\programdata\\anaconda3\\lib\\site-packages (from imblearn) (0.7.0)\n",
      "Requirement already satisfied: scikit-learn>=0.23 in c:\\programdata\\anaconda3\\lib\\site-packages (from imbalanced-learn->imblearn) (0.23.1)\n",
      "Requirement already satisfied: joblib>=0.11 in c:\\programdata\\anaconda3\\lib\\site-packages (from imbalanced-learn->imblearn) (0.15.1)\n",
      "Requirement already satisfied: scipy>=0.19.1 in c:\\programdata\\anaconda3\\lib\\site-packages (from imbalanced-learn->imblearn) (1.5.0)\n",
      "Requirement already satisfied: numpy>=1.13.3 in c:\\programdata\\anaconda3\\lib\\site-packages (from imbalanced-learn->imblearn) (1.19.0)\n",
      "Requirement already satisfied: threadpoolctl>=2.0.0 in c:\\programdata\\anaconda3\\lib\\site-packages (from scikit-learn>=0.23->imbalanced-learn->imblearn) (2.1.0)\n"
     ]
    },
    {
     "name": "stderr",
     "output_type": "stream",
     "text": [
      "ERROR: Error while checking for conflicts. Please file an issue on pip's issue tracker: https://github.com/pypa/pip/issues/new\n",
      "Traceback (most recent call last):\n",
      "  File \"c:\\programdata\\anaconda3\\lib\\site-packages\\pip\\_vendor\\pkg_resources\\__init__.py\", line 3021, in _dep_map\n",
      "    return self.__dep_map\n",
      "  File \"c:\\programdata\\anaconda3\\lib\\site-packages\\pip\\_vendor\\pkg_resources\\__init__.py\", line 2815, in __getattr__\n",
      "    raise AttributeError(attr)\n",
      "AttributeError: _DistInfoDistribution__dep_map\n",
      "\n",
      "During handling of the above exception, another exception occurred:\n",
      "\n",
      "Traceback (most recent call last):\n",
      "  File \"c:\\programdata\\anaconda3\\lib\\site-packages\\pip\\_vendor\\pkg_resources\\__init__.py\", line 3012, in _parsed_pkg_info\n",
      "    return self._pkg_info\n",
      "  File \"c:\\programdata\\anaconda3\\lib\\site-packages\\pip\\_vendor\\pkg_resources\\__init__.py\", line 2815, in __getattr__\n",
      "    raise AttributeError(attr)\n",
      "AttributeError: _pkg_info\n",
      "\n",
      "During handling of the above exception, another exception occurred:\n",
      "\n",
      "Traceback (most recent call last):\n",
      "  File \"c:\\programdata\\anaconda3\\lib\\site-packages\\pip\\_internal\\commands\\install.py\", line 535, in _determine_conflicts\n",
      "    return check_install_conflicts(to_install)\n",
      "  File \"c:\\programdata\\anaconda3\\lib\\site-packages\\pip\\_internal\\operations\\check.py\", line 108, in check_install_conflicts\n",
      "    package_set, _ = create_package_set_from_installed()\n",
      "  File \"c:\\programdata\\anaconda3\\lib\\site-packages\\pip\\_internal\\operations\\check.py\", line 50, in create_package_set_from_installed\n",
      "    package_set[name] = PackageDetails(dist.version, dist.requires())\n",
      "  File \"c:\\programdata\\anaconda3\\lib\\site-packages\\pip\\_vendor\\pkg_resources\\__init__.py\", line 2736, in requires\n",
      "    dm = self._dep_map\n",
      "  File \"c:\\programdata\\anaconda3\\lib\\site-packages\\pip\\_vendor\\pkg_resources\\__init__.py\", line 3023, in _dep_map\n",
      "    self.__dep_map = self._compute_dependencies()\n",
      "  File \"c:\\programdata\\anaconda3\\lib\\site-packages\\pip\\_vendor\\pkg_resources\\__init__.py\", line 3032, in _compute_dependencies\n",
      "    for req in self._parsed_pkg_info.get_all('Requires-Dist') or []:\n",
      "  File \"c:\\programdata\\anaconda3\\lib\\site-packages\\pip\\_vendor\\pkg_resources\\__init__.py\", line 3014, in _parsed_pkg_info\n",
      "    metadata = self.get_metadata(self.PKG_INFO)\n",
      "  File \"c:\\programdata\\anaconda3\\lib\\site-packages\\pip\\_vendor\\pkg_resources\\__init__.py\", line 1420, in get_metadata\n",
      "    value = self._get(path)\n",
      "  File \"c:\\programdata\\anaconda3\\lib\\site-packages\\pip\\_vendor\\pkg_resources\\__init__.py\", line 1616, in _get\n",
      "    with open(path, 'rb') as stream:\n",
      "FileNotFoundError: [Errno 2] No such file or directory: 'c:\\\\programdata\\\\anaconda3\\\\lib\\\\site-packages\\\\chardet-3.0.4.dist-info\\\\METADATA'\n"
     ]
    }
   ],
   "source": [
    "import warnings\n",
    "warnings.simplefilter('ignore')\n",
    "!pip install imblearn"
   ]
  },
  {
   "cell_type": "code",
   "execution_count": 51,
   "metadata": {
    "collapsed": true
   },
   "outputs": [],
   "source": [
    "from imblearn.over_sampling import SMOTE\n",
    "smote = SMOTE()"
   ]
  },
  {
   "cell_type": "code",
   "execution_count": 52,
   "metadata": {
    "collapsed": true
   },
   "outputs": [],
   "source": [
    "X_train_smote, y_train_smote = smote.fit_sample(X_train,y_train)"
   ]
  },
  {
   "cell_type": "code",
   "execution_count": 53,
   "metadata": {
    "collapsed": false
   },
   "outputs": [
    {
     "name": "stdout",
     "output_type": "stream",
     "text": [
      "Counter({0: 53, 1: 36})\n",
      "Counter({1: 53, 0: 53})\n"
     ]
    }
   ],
   "source": [
    "print(Counter(y_train))\n",
    "print(Counter(y_train_smote))"
   ]
  },
  {
   "cell_type": "code",
   "execution_count": 54,
   "metadata": {
    "collapsed": false
   },
   "outputs": [
    {
     "data": {
      "text/html": [
       "<div>\n",
       "<style scoped>\n",
       "    .dataframe tbody tr th:only-of-type {\n",
       "        vertical-align: middle;\n",
       "    }\n",
       "\n",
       "    .dataframe tbody tr th {\n",
       "        vertical-align: top;\n",
       "    }\n",
       "\n",
       "    .dataframe thead th {\n",
       "        text-align: right;\n",
       "    }\n",
       "</style>\n",
       "<table border=\"1\" class=\"dataframe\">\n",
       "  <thead>\n",
       "    <tr style=\"text-align: right;\">\n",
       "      <th></th>\n",
       "      <th>slope_of_peak_exercise_st_segment</th>\n",
       "      <th>thal</th>\n",
       "      <th>resting_blood_pressure</th>\n",
       "      <th>chest_pain_type</th>\n",
       "      <th>num_major_vessels</th>\n",
       "      <th>fasting_blood_sugar_gt_120_mg_per_dl</th>\n",
       "      <th>resting_ekg_results</th>\n",
       "      <th>serum_cholesterol_mg_per_dl</th>\n",
       "      <th>oldpeak_eq_st_depression</th>\n",
       "      <th>sex</th>\n",
       "      <th>age</th>\n",
       "      <th>max_heart_rate_achieved</th>\n",
       "      <th>exercise_induced_angina</th>\n",
       "    </tr>\n",
       "  </thead>\n",
       "  <tbody>\n",
       "    <tr>\n",
       "      <th>101</th>\n",
       "      <td>2</td>\n",
       "      <td>2</td>\n",
       "      <td>127</td>\n",
       "      <td>3</td>\n",
       "      <td>0</td>\n",
       "      <td>0</td>\n",
       "      <td>0</td>\n",
       "      <td>309</td>\n",
       "      <td>1.800000</td>\n",
       "      <td>1</td>\n",
       "      <td>61</td>\n",
       "      <td>129</td>\n",
       "      <td>1</td>\n",
       "    </tr>\n",
       "    <tr>\n",
       "      <th>102</th>\n",
       "      <td>2</td>\n",
       "      <td>1</td>\n",
       "      <td>115</td>\n",
       "      <td>4</td>\n",
       "      <td>2</td>\n",
       "      <td>0</td>\n",
       "      <td>1</td>\n",
       "      <td>303</td>\n",
       "      <td>1.259225</td>\n",
       "      <td>1</td>\n",
       "      <td>58</td>\n",
       "      <td>123</td>\n",
       "      <td>1</td>\n",
       "    </tr>\n",
       "    <tr>\n",
       "      <th>103</th>\n",
       "      <td>1</td>\n",
       "      <td>2</td>\n",
       "      <td>149</td>\n",
       "      <td>4</td>\n",
       "      <td>0</td>\n",
       "      <td>0</td>\n",
       "      <td>1</td>\n",
       "      <td>269</td>\n",
       "      <td>0.826338</td>\n",
       "      <td>1</td>\n",
       "      <td>58</td>\n",
       "      <td>110</td>\n",
       "      <td>1</td>\n",
       "    </tr>\n",
       "    <tr>\n",
       "      <th>104</th>\n",
       "      <td>2</td>\n",
       "      <td>0</td>\n",
       "      <td>144</td>\n",
       "      <td>4</td>\n",
       "      <td>1</td>\n",
       "      <td>0</td>\n",
       "      <td>2</td>\n",
       "      <td>210</td>\n",
       "      <td>1.881096</td>\n",
       "      <td>1</td>\n",
       "      <td>62</td>\n",
       "      <td>131</td>\n",
       "      <td>0</td>\n",
       "    </tr>\n",
       "    <tr>\n",
       "      <th>105</th>\n",
       "      <td>1</td>\n",
       "      <td>2</td>\n",
       "      <td>128</td>\n",
       "      <td>4</td>\n",
       "      <td>0</td>\n",
       "      <td>0</td>\n",
       "      <td>0</td>\n",
       "      <td>252</td>\n",
       "      <td>1.313559</td>\n",
       "      <td>1</td>\n",
       "      <td>57</td>\n",
       "      <td>144</td>\n",
       "      <td>0</td>\n",
       "    </tr>\n",
       "  </tbody>\n",
       "</table>\n",
       "</div>"
      ],
      "text/plain": [
       "     slope_of_peak_exercise_st_segment  thal  resting_blood_pressure  \\\n",
       "101                                  2     2                     127   \n",
       "102                                  2     1                     115   \n",
       "103                                  1     2                     149   \n",
       "104                                  2     0                     144   \n",
       "105                                  1     2                     128   \n",
       "\n",
       "     chest_pain_type  num_major_vessels  fasting_blood_sugar_gt_120_mg_per_dl  \\\n",
       "101                3                  0                                     0   \n",
       "102                4                  2                                     0   \n",
       "103                4                  0                                     0   \n",
       "104                4                  1                                     0   \n",
       "105                4                  0                                     0   \n",
       "\n",
       "     resting_ekg_results  serum_cholesterol_mg_per_dl  \\\n",
       "101                    0                          309   \n",
       "102                    1                          303   \n",
       "103                    1                          269   \n",
       "104                    2                          210   \n",
       "105                    0                          252   \n",
       "\n",
       "     oldpeak_eq_st_depression  sex  age  max_heart_rate_achieved  \\\n",
       "101                  1.800000    1   61                      129   \n",
       "102                  1.259225    1   58                      123   \n",
       "103                  0.826338    1   58                      110   \n",
       "104                  1.881096    1   62                      131   \n",
       "105                  1.313559    1   57                      144   \n",
       "\n",
       "     exercise_induced_angina  \n",
       "101                        1  \n",
       "102                        1  \n",
       "103                        1  \n",
       "104                        0  \n",
       "105                        0  "
      ]
     },
     "execution_count": 54,
     "metadata": {},
     "output_type": "execute_result"
    }
   ],
   "source": [
    "X_train_smote = pd.DataFrame(X_train_smote,columns=X_train.columns)\n",
    "X_train_smote.tail()"
   ]
  },
  {
   "cell_type": "code",
   "execution_count": 55,
   "metadata": {
    "collapsed": false
   },
   "outputs": [
    {
     "name": "stdout",
     "output_type": "stream",
     "text": [
      "0.7948717948717948\n",
      "Counter({0: 23, 1: 16})\n"
     ]
    },
    {
     "data": {
      "text/html": [
       "<div>\n",
       "<style scoped>\n",
       "    .dataframe tbody tr th:only-of-type {\n",
       "        vertical-align: middle;\n",
       "    }\n",
       "\n",
       "    .dataframe tbody tr th {\n",
       "        vertical-align: top;\n",
       "    }\n",
       "\n",
       "    .dataframe thead th {\n",
       "        text-align: right;\n",
       "    }\n",
       "</style>\n",
       "<table border=\"1\" class=\"dataframe\">\n",
       "  <thead>\n",
       "    <tr style=\"text-align: right;\">\n",
       "      <th>col_0</th>\n",
       "      <th>0</th>\n",
       "      <th>1</th>\n",
       "    </tr>\n",
       "    <tr>\n",
       "      <th>heart_disease_present</th>\n",
       "      <th></th>\n",
       "      <th></th>\n",
       "    </tr>\n",
       "  </thead>\n",
       "  <tbody>\n",
       "    <tr>\n",
       "      <th>0</th>\n",
       "      <td>19</td>\n",
       "      <td>4</td>\n",
       "    </tr>\n",
       "    <tr>\n",
       "      <th>1</th>\n",
       "      <td>4</td>\n",
       "      <td>12</td>\n",
       "    </tr>\n",
       "  </tbody>\n",
       "</table>\n",
       "</div>"
      ],
      "text/plain": [
       "col_0                   0   1\n",
       "heart_disease_present        \n",
       "0                      19   4\n",
       "1                       4  12"
      ]
     },
     "execution_count": 55,
     "metadata": {},
     "output_type": "execute_result"
    }
   ],
   "source": [
    "model.fit(X_train_smote,y_train_smote)\n",
    "y_predict = model.predict(X_test)\n",
    "from sklearn.metrics import accuracy_score, classification_report\n",
    "print(accuracy_score(y_test,y_predict))\n",
    "from collections import Counter\n",
    "print(Counter(y_test))\n",
    "pd.crosstab(y_test,y_predict)"
   ]
  },
  {
   "cell_type": "code",
   "execution_count": 56,
   "metadata": {
    "collapsed": false
   },
   "outputs": [
    {
     "name": "stdout",
     "output_type": "stream",
     "text": [
      "              precision    recall  f1-score   support\n",
      "\n",
      "           0       0.83      0.83      0.83        23\n",
      "           1       0.75      0.75      0.75        16\n",
      "\n",
      "    accuracy                           0.79        39\n",
      "   macro avg       0.79      0.79      0.79        39\n",
      "weighted avg       0.79      0.79      0.79        39\n",
      "\n"
     ]
    }
   ],
   "source": [
    "from sklearn.metrics import accuracy_score, classification_report\n",
    "print(classification_report(y_test,y_predict))"
   ]
  },
  {
   "cell_type": "code",
   "execution_count": 57,
   "metadata": {
    "collapsed": false
   },
   "outputs": [
    {
     "name": "stdout",
     "output_type": "stream",
     "text": [
      "Best: 0.865455 using {'C': 10, 'penalty': 'l2', 'solver': 'liblinear'}\n"
     ]
    }
   ],
   "source": [
    "from sklearn.model_selection import RepeatedStratifiedKFold\n",
    "from sklearn.model_selection import GridSearchCV\n",
    "from sklearn.linear_model import LogisticRegression\n",
    "# define models and parameters\n",
    "model = LogisticRegression()\n",
    "solvers = ['newton-cg', 'lbfgs', 'liblinear']\n",
    "penalty = ['l2']\n",
    "c_values = [100, 10, 1.0, 0.1, 0.01]\n",
    "# define grid search\n",
    "grid = dict(solver=solvers,penalty=penalty,C=c_values)\n",
    "cv = RepeatedStratifiedKFold(n_splits=10, n_repeats=3, random_state=1)\n",
    "grid_search = GridSearchCV(estimator=model, param_grid=grid, n_jobs=-1, cv=cv, scoring='accuracy',error_score=0)\n",
    "grid_result = grid_search.fit(X_train_smote,y_train_smote)\n",
    "# summarize results\n",
    "print(\"Best: %f using %s\" % (grid_result.best_score_, grid_result.best_params_))\n",
    "means = grid_result.cv_results_['mean_test_score']\n",
    "stds = grid_result.cv_results_['std_test_score']\n",
    "params = grid_result.cv_results_['params']\n",
    "\n"
   ]
  },
  {
   "cell_type": "code",
   "execution_count": 58,
   "metadata": {
    "collapsed": true
   },
   "outputs": [],
   "source": [
    "from sklearn.linear_model import LogisticRegression\n",
    "from sklearn.model_selection import train_test_split\n",
    "from sklearn.metrics import accuracy_score\n",
    "X_train,X_test,y_train,y_test=train_test_split(X,y,test_size=0.3)\n",
    "model=LogisticRegression(C=100,penalty='l2',solver ='lbfgs')\n",
    "model.fit(X_train_smote,y_train_smote)\n",
    "y_predict=model.predict(X_test)"
   ]
  },
  {
   "cell_type": "code",
   "execution_count": 59,
   "metadata": {
    "collapsed": false
   },
   "outputs": [
    {
     "data": {
      "text/plain": [
       "0.8974358974358975"
      ]
     },
     "execution_count": 59,
     "metadata": {},
     "output_type": "execute_result"
    }
   ],
   "source": [
    "accuracy_score(y_test,y_predict)"
   ]
  },
  {
   "cell_type": "code",
   "execution_count": 60,
   "metadata": {
    "collapsed": false
   },
   "outputs": [
    {
     "name": "stdout",
     "output_type": "stream",
     "text": [
      "Counter({0: 24, 1: 15})\n"
     ]
    },
    {
     "data": {
      "text/html": [
       "<div>\n",
       "<style scoped>\n",
       "    .dataframe tbody tr th:only-of-type {\n",
       "        vertical-align: middle;\n",
       "    }\n",
       "\n",
       "    .dataframe tbody tr th {\n",
       "        vertical-align: top;\n",
       "    }\n",
       "\n",
       "    .dataframe thead th {\n",
       "        text-align: right;\n",
       "    }\n",
       "</style>\n",
       "<table border=\"1\" class=\"dataframe\">\n",
       "  <thead>\n",
       "    <tr style=\"text-align: right;\">\n",
       "      <th>col_0</th>\n",
       "      <th>0</th>\n",
       "      <th>1</th>\n",
       "    </tr>\n",
       "    <tr>\n",
       "      <th>heart_disease_present</th>\n",
       "      <th></th>\n",
       "      <th></th>\n",
       "    </tr>\n",
       "  </thead>\n",
       "  <tbody>\n",
       "    <tr>\n",
       "      <th>0</th>\n",
       "      <td>20</td>\n",
       "      <td>4</td>\n",
       "    </tr>\n",
       "    <tr>\n",
       "      <th>1</th>\n",
       "      <td>0</td>\n",
       "      <td>15</td>\n",
       "    </tr>\n",
       "  </tbody>\n",
       "</table>\n",
       "</div>"
      ],
      "text/plain": [
       "col_0                   0   1\n",
       "heart_disease_present        \n",
       "0                      20   4\n",
       "1                       0  15"
      ]
     },
     "execution_count": 60,
     "metadata": {},
     "output_type": "execute_result"
    }
   ],
   "source": [
    "from collections import Counter\n",
    "print(Counter(y_test))\n",
    "pd.crosstab(y_test,y_predict) \n",
    "# we observed that o for no heart disease and 1 for heart disease and is correct prediction"
   ]
  },
  {
   "cell_type": "markdown",
   "metadata": {},
   "source": [
    "# Plot ROC and compare AUC"
   ]
  },
  {
   "cell_type": "code",
   "execution_count": 61,
   "metadata": {
    "collapsed": false
   },
   "outputs": [],
   "source": [
    "from sklearn.metrics import roc_curve, auc\n",
    "logistic_fpr, logistic_tpr, threshold = roc_curve(y_test, y_predict)\n",
    "auc_logistic = auc(logistic_fpr, logistic_tpr)\n"
   ]
  },
  {
   "cell_type": "code",
   "execution_count": 99,
   "metadata": {
    "collapsed": false
   },
   "outputs": [
    {
     "data": {
      "image/png": "[encoded data removed]",
      "text/plain": [
       "<Figure size 500x500 with 1 Axes>"
      ]
     },
     "metadata": {},
     "output_type": "display_data"
    }
   ],
   "source": [
    "plt.figure(figsize=(5, 5), dpi=100)\n",
    "plt.plot(logistic_fpr, logistic_tpr, marker='.', label='Logistic (auc = %0.3f)' % auc_logistic)\n",
    "plt.xlabel('False Positive Rate -->')\n",
    "plt.ylabel('True Positive Rate -->')\n",
    "plt.legend()\n",
    "plt.show()"
   ]
  },
  {
   "cell_type": "markdown",
   "metadata": {},
   "source": [
    "# Model 2: SVC"
   ]
  },
  {
   "cell_type": "code",
   "execution_count": 100,
   "metadata": {
    "collapsed": true
   },
   "outputs": [],
   "source": [
    "from sklearn.svm import SVC\n",
    "from sklearn.model_selection import train_test_split\n",
    "from sklearn.metrics import accuracy_score\n",
    "X_train,X_test,y_train,y_test=train_test_split(X,y,test_size=0.3)\n",
    "model=SVC()\n",
    "model.fit(X_train,y_train)\n",
    "y_predict=model.predict(X_test)"
   ]
  },
  {
   "cell_type": "code",
   "execution_count": 101,
   "metadata": {
    "collapsed": false
   },
   "outputs": [
    {
     "data": {
      "text/plain": [
       "0.6666666666666666"
      ]
     },
     "execution_count": 101,
     "metadata": {},
     "output_type": "execute_result"
    }
   ],
   "source": [
    "accuracy_score(y_test,y_predict)"
   ]
  },
  {
   "cell_type": "code",
   "execution_count": 103,
   "metadata": {
    "collapsed": false
   },
   "outputs": [
    {
     "name": "stdout",
     "output_type": "stream",
     "text": [
      "Counter({0: 26, 1: 13})\n"
     ]
    },
    {
     "data": {
      "text/html": [
       "<div>\n",
       "<style scoped>\n",
       "    .dataframe tbody tr th:only-of-type {\n",
       "        vertical-align: middle;\n",
       "    }\n",
       "\n",
       "    .dataframe tbody tr th {\n",
       "        vertical-align: top;\n",
       "    }\n",
       "\n",
       "    .dataframe thead th {\n",
       "        text-align: right;\n",
       "    }\n",
       "</style>\n",
       "<table border=\"1\" class=\"dataframe\">\n",
       "  <thead>\n",
       "    <tr style=\"text-align: right;\">\n",
       "      <th>col_0</th>\n",
       "      <th>0</th>\n",
       "    </tr>\n",
       "    <tr>\n",
       "      <th>heart_disease_present</th>\n",
       "      <th></th>\n",
       "    </tr>\n",
       "  </thead>\n",
       "  <tbody>\n",
       "    <tr>\n",
       "      <th>0</th>\n",
       "      <td>26</td>\n",
       "    </tr>\n",
       "    <tr>\n",
       "      <th>1</th>\n",
       "      <td>13</td>\n",
       "    </tr>\n",
       "  </tbody>\n",
       "</table>\n",
       "</div>"
      ],
      "text/plain": [
       "col_0                   0\n",
       "heart_disease_present    \n",
       "0                      26\n",
       "1                      13"
      ]
     },
     "execution_count": 103,
     "metadata": {},
     "output_type": "execute_result"
    }
   ],
   "source": [
    "from collections import Counter\n",
    "print(Counter(y_test))\n",
    "pd.crosstab(y_test,y_predict)"
   ]
  },
  {
   "cell_type": "markdown",
   "metadata": {},
   "source": [
    "# Handling Imbalance set\n"
   ]
  },
  {
   "cell_type": "code",
   "execution_count": 104,
   "metadata": {
    "collapsed": true
   },
   "outputs": [],
   "source": [
    "from imblearn.over_sampling import SMOTE\n",
    "smote = SMOTE()"
   ]
  },
  {
   "cell_type": "code",
   "execution_count": 105,
   "metadata": {
    "collapsed": true
   },
   "outputs": [],
   "source": [
    "X_train_smote, y_train_smote = smote.fit_sample(X_train,y_train)"
   ]
  },
  {
   "cell_type": "code",
   "execution_count": 106,
   "metadata": {
    "collapsed": false
   },
   "outputs": [
    {
     "name": "stdout",
     "output_type": "stream",
     "text": [
      "Counter({0: 50, 1: 39})\n",
      "Counter({1: 50, 0: 50})\n"
     ]
    }
   ],
   "source": [
    "print(Counter(y_train))\n",
    "print(Counter(y_train_smote))"
   ]
  },
  {
   "cell_type": "code",
   "execution_count": 107,
   "metadata": {
    "collapsed": false
   },
   "outputs": [
    {
     "data": {
      "text/html": [
       "<div>\n",
       "<style scoped>\n",
       "    .dataframe tbody tr th:only-of-type {\n",
       "        vertical-align: middle;\n",
       "    }\n",
       "\n",
       "    .dataframe tbody tr th {\n",
       "        vertical-align: top;\n",
       "    }\n",
       "\n",
       "    .dataframe thead th {\n",
       "        text-align: right;\n",
       "    }\n",
       "</style>\n",
       "<table border=\"1\" class=\"dataframe\">\n",
       "  <thead>\n",
       "    <tr style=\"text-align: right;\">\n",
       "      <th></th>\n",
       "      <th>slope_of_peak_exercise_st_segment</th>\n",
       "      <th>thal</th>\n",
       "      <th>resting_blood_pressure</th>\n",
       "      <th>chest_pain_type</th>\n",
       "      <th>num_major_vessels</th>\n",
       "      <th>fasting_blood_sugar_gt_120_mg_per_dl</th>\n",
       "      <th>resting_ekg_results</th>\n",
       "      <th>serum_cholesterol_mg_per_dl</th>\n",
       "      <th>oldpeak_eq_st_depression</th>\n",
       "      <th>sex</th>\n",
       "      <th>age</th>\n",
       "      <th>max_heart_rate_achieved</th>\n",
       "      <th>exercise_induced_angina</th>\n",
       "    </tr>\n",
       "  </thead>\n",
       "  <tbody>\n",
       "    <tr>\n",
       "      <th>95</th>\n",
       "      <td>1</td>\n",
       "      <td>0</td>\n",
       "      <td>129</td>\n",
       "      <td>4</td>\n",
       "      <td>1</td>\n",
       "      <td>0</td>\n",
       "      <td>2</td>\n",
       "      <td>212</td>\n",
       "      <td>1.103586</td>\n",
       "      <td>1</td>\n",
       "      <td>64</td>\n",
       "      <td>132</td>\n",
       "      <td>0</td>\n",
       "    </tr>\n",
       "    <tr>\n",
       "      <th>96</th>\n",
       "      <td>2</td>\n",
       "      <td>2</td>\n",
       "      <td>123</td>\n",
       "      <td>4</td>\n",
       "      <td>0</td>\n",
       "      <td>0</td>\n",
       "      <td>0</td>\n",
       "      <td>212</td>\n",
       "      <td>1.781927</td>\n",
       "      <td>1</td>\n",
       "      <td>49</td>\n",
       "      <td>136</td>\n",
       "      <td>0</td>\n",
       "    </tr>\n",
       "    <tr>\n",
       "      <th>97</th>\n",
       "      <td>1</td>\n",
       "      <td>1</td>\n",
       "      <td>128</td>\n",
       "      <td>4</td>\n",
       "      <td>0</td>\n",
       "      <td>0</td>\n",
       "      <td>2</td>\n",
       "      <td>320</td>\n",
       "      <td>0.000000</td>\n",
       "      <td>0</td>\n",
       "      <td>60</td>\n",
       "      <td>169</td>\n",
       "      <td>0</td>\n",
       "    </tr>\n",
       "    <tr>\n",
       "      <th>98</th>\n",
       "      <td>2</td>\n",
       "      <td>2</td>\n",
       "      <td>142</td>\n",
       "      <td>4</td>\n",
       "      <td>2</td>\n",
       "      <td>0</td>\n",
       "      <td>2</td>\n",
       "      <td>287</td>\n",
       "      <td>2.013406</td>\n",
       "      <td>1</td>\n",
       "      <td>60</td>\n",
       "      <td>155</td>\n",
       "      <td>0</td>\n",
       "    </tr>\n",
       "    <tr>\n",
       "      <th>99</th>\n",
       "      <td>1</td>\n",
       "      <td>1</td>\n",
       "      <td>137</td>\n",
       "      <td>4</td>\n",
       "      <td>0</td>\n",
       "      <td>0</td>\n",
       "      <td>2</td>\n",
       "      <td>329</td>\n",
       "      <td>0.636618</td>\n",
       "      <td>0</td>\n",
       "      <td>60</td>\n",
       "      <td>163</td>\n",
       "      <td>0</td>\n",
       "    </tr>\n",
       "  </tbody>\n",
       "</table>\n",
       "</div>"
      ],
      "text/plain": [
       "    slope_of_peak_exercise_st_segment  thal  resting_blood_pressure  \\\n",
       "95                                  1     0                     129   \n",
       "96                                  2     2                     123   \n",
       "97                                  1     1                     128   \n",
       "98                                  2     2                     142   \n",
       "99                                  1     1                     137   \n",
       "\n",
       "    chest_pain_type  num_major_vessels  fasting_blood_sugar_gt_120_mg_per_dl  \\\n",
       "95                4                  1                                     0   \n",
       "96                4                  0                                     0   \n",
       "97                4                  0                                     0   \n",
       "98                4                  2                                     0   \n",
       "99                4                  0                                     0   \n",
       "\n",
       "    resting_ekg_results  serum_cholesterol_mg_per_dl  \\\n",
       "95                    2                          212   \n",
       "96                    0                          212   \n",
       "97                    2                          320   \n",
       "98                    2                          287   \n",
       "99                    2                          329   \n",
       "\n",
       "    oldpeak_eq_st_depression  sex  age  max_heart_rate_achieved  \\\n",
       "95                  1.103586    1   64                      132   \n",
       "96                  1.781927    1   49                      136   \n",
       "97                  0.000000    0   60                      169   \n",
       "98                  2.013406    1   60                      155   \n",
       "99                  0.636618    0   60                      163   \n",
       "\n",
       "    exercise_induced_angina  \n",
       "95                        0  \n",
       "96                        0  \n",
       "97                        0  \n",
       "98                        0  \n",
       "99                        0  "
      ]
     },
     "execution_count": 107,
     "metadata": {},
     "output_type": "execute_result"
    }
   ],
   "source": [
    "X_train_smote = pd.DataFrame(X_train_smote,columns=X_train.columns)\n",
    "X_train_smote.tail()"
   ]
  },
  {
   "cell_type": "code",
   "execution_count": 108,
   "metadata": {
    "collapsed": false
   },
   "outputs": [
    {
     "name": "stdout",
     "output_type": "stream",
     "text": [
      "0.5128205128205128\n",
      "Counter({0: 26, 1: 13})\n"
     ]
    },
    {
     "data": {
      "text/html": [
       "<div>\n",
       "<style scoped>\n",
       "    .dataframe tbody tr th:only-of-type {\n",
       "        vertical-align: middle;\n",
       "    }\n",
       "\n",
       "    .dataframe tbody tr th {\n",
       "        vertical-align: top;\n",
       "    }\n",
       "\n",
       "    .dataframe thead th {\n",
       "        text-align: right;\n",
       "    }\n",
       "</style>\n",
       "<table border=\"1\" class=\"dataframe\">\n",
       "  <thead>\n",
       "    <tr style=\"text-align: right;\">\n",
       "      <th>col_0</th>\n",
       "      <th>0</th>\n",
       "      <th>1</th>\n",
       "    </tr>\n",
       "    <tr>\n",
       "      <th>heart_disease_present</th>\n",
       "      <th></th>\n",
       "      <th></th>\n",
       "    </tr>\n",
       "  </thead>\n",
       "  <tbody>\n",
       "    <tr>\n",
       "      <th>0</th>\n",
       "      <td>11</td>\n",
       "      <td>15</td>\n",
       "    </tr>\n",
       "    <tr>\n",
       "      <th>1</th>\n",
       "      <td>4</td>\n",
       "      <td>9</td>\n",
       "    </tr>\n",
       "  </tbody>\n",
       "</table>\n",
       "</div>"
      ],
      "text/plain": [
       "col_0                   0   1\n",
       "heart_disease_present        \n",
       "0                      11  15\n",
       "1                       4   9"
      ]
     },
     "execution_count": 108,
     "metadata": {},
     "output_type": "execute_result"
    }
   ],
   "source": [
    "model.fit(X_train_smote,y_train_smote)\n",
    "y_predict = model.predict(X_test)\n",
    "from sklearn.metrics import accuracy_score, classification_report\n",
    "print(accuracy_score(y_test,y_predict))\n",
    "from collections import Counter\n",
    "print(Counter(y_test))\n",
    "pd.crosstab(y_test,y_predict)"
   ]
  },
  {
   "cell_type": "code",
   "execution_count": 109,
   "metadata": {
    "collapsed": false
   },
   "outputs": [
    {
     "name": "stdout",
     "output_type": "stream",
     "text": [
      "              precision    recall  f1-score   support\n",
      "\n",
      "           0       0.73      0.42      0.54        26\n",
      "           1       0.38      0.69      0.49        13\n",
      "\n",
      "    accuracy                           0.51        39\n",
      "   macro avg       0.55      0.56      0.51        39\n",
      "weighted avg       0.61      0.51      0.52        39\n",
      "\n"
     ]
    }
   ],
   "source": [
    "from sklearn.metrics import accuracy_score, classification_report\n",
    "print(classification_report(y_test,y_predict))"
   ]
  },
  {
   "cell_type": "code",
   "execution_count": 110,
   "metadata": {
    "collapsed": false
   },
   "outputs": [
    {
     "name": "stdout",
     "output_type": "stream",
     "text": [
      "Fitting 5 folds for each of 64 candidates, totalling 320 fits\n",
      "[CV] C=1, gamma=0.01, kernel=rbf .....................................\n",
      "[CV] ...................... C=1, gamma=0.01, kernel=rbf, total=   0.0s\n",
      "[CV] C=1, gamma=0.01, kernel=rbf .....................................\n",
      "[CV] ...................... C=1, gamma=0.01, kernel=rbf, total=   0.0s\n",
      "[CV] C=1, gamma=0.01, kernel=rbf .....................................\n",
      "[CV] ...................... C=1, gamma=0.01, kernel=rbf, total=   0.0s\n",
      "[CV] C=1, gamma=0.01, kernel=rbf .....................................\n",
      "[CV] ...................... C=1, gamma=0.01, kernel=rbf, total=   0.0s\n",
      "[CV] C=1, gamma=0.01, kernel=rbf .....................................\n",
      "[CV] ...................... C=1, gamma=0.01, kernel=rbf, total=   0.0s\n",
      "[CV] C=1, gamma=0.01, kernel=linear ..................................\n"
     ]
    },
    {
     "name": "stderr",
     "output_type": "stream",
     "text": [
      "[Parallel(n_jobs=1)]: Using backend SequentialBackend with 1 concurrent workers.\n",
      "[Parallel(n_jobs=1)]: Done   1 out of   1 | elapsed:    0.0s remaining:    0.0s\n"
     ]
    },
    {
     "name": "stdout",
     "output_type": "stream",
     "text": [
      "[CV] ................... C=1, gamma=0.01, kernel=linear, total=   0.1s\n",
      "[CV] C=1, gamma=0.01, kernel=linear ..................................\n",
      "[CV] ................... C=1, gamma=0.01, kernel=linear, total=   0.1s\n",
      "[CV] C=1, gamma=0.01, kernel=linear ..................................\n",
      "[CV] ................... C=1, gamma=0.01, kernel=linear, total=   0.1s\n",
      "[CV] C=1, gamma=0.01, kernel=linear ..................................\n",
      "[CV] ................... C=1, gamma=0.01, kernel=linear, total=   0.1s\n",
      "[CV] C=1, gamma=0.01, kernel=linear ..................................\n",
      "[CV] ................... C=1, gamma=0.01, kernel=linear, total=   0.1s\n",
      "[CV] C=1, gamma=0.01, kernel=poly ....................................\n",
      "[CV] ..................... C=1, gamma=0.01, kernel=poly, total=   3.2s\n",
      "[CV] C=1, gamma=0.01, kernel=poly ....................................\n",
      "[CV] ..................... C=1, gamma=0.01, kernel=poly, total=   4.4s\n",
      "[CV] C=1, gamma=0.01, kernel=poly ....................................\n",
      "[CV] ..................... C=1, gamma=0.01, kernel=poly, total=   1.7s\n",
      "[CV] C=1, gamma=0.01, kernel=poly ....................................\n",
      "[CV] ..................... C=1, gamma=0.01, kernel=poly, total=   9.0s\n",
      "[CV] C=1, gamma=0.01, kernel=poly ....................................\n",
      "[CV] ..................... C=1, gamma=0.01, kernel=poly, total=  10.4s\n",
      "[CV] C=1, gamma=0.01, kernel=sigmoid .................................\n",
      "[CV] .................. C=1, gamma=0.01, kernel=sigmoid, total=   0.0s\n",
      "[CV] C=1, gamma=0.01, kernel=sigmoid .................................\n",
      "[CV] .................. C=1, gamma=0.01, kernel=sigmoid, total=   0.0s\n",
      "[CV] C=1, gamma=0.01, kernel=sigmoid .................................\n",
      "[CV] .................. C=1, gamma=0.01, kernel=sigmoid, total=   0.0s\n",
      "[CV] C=1, gamma=0.01, kernel=sigmoid .................................\n",
      "[CV] .................. C=1, gamma=0.01, kernel=sigmoid, total=   0.0s\n",
      "[CV] C=1, gamma=0.01, kernel=sigmoid .................................\n",
      "[CV] .................. C=1, gamma=0.01, kernel=sigmoid, total=   0.0s\n",
      "[CV] C=1, gamma=0.1, kernel=rbf ......................................\n",
      "[CV] ....................... C=1, gamma=0.1, kernel=rbf, total=   0.0s\n",
      "[CV] C=1, gamma=0.1, kernel=rbf ......................................\n",
      "[CV] ....................... C=1, gamma=0.1, kernel=rbf, total=   0.0s\n",
      "[CV] C=1, gamma=0.1, kernel=rbf ......................................\n",
      "[CV] ....................... C=1, gamma=0.1, kernel=rbf, total=   0.0s\n",
      "[CV] C=1, gamma=0.1, kernel=rbf ......................................\n",
      "[CV] ....................... C=1, gamma=0.1, kernel=rbf, total=   0.0s\n",
      "[CV] C=1, gamma=0.1, kernel=rbf ......................................\n",
      "[CV] ....................... C=1, gamma=0.1, kernel=rbf, total=   0.0s\n",
      "[CV] C=1, gamma=0.1, kernel=linear ...................................\n",
      "[CV] .................... C=1, gamma=0.1, kernel=linear, total=   0.1s\n",
      "[CV] C=1, gamma=0.1, kernel=linear ...................................\n",
      "[CV] .................... C=1, gamma=0.1, kernel=linear, total=   0.1s\n",
      "[CV] C=1, gamma=0.1, kernel=linear ...................................\n",
      "[CV] .................... C=1, gamma=0.1, kernel=linear, total=   0.1s\n",
      "[CV] C=1, gamma=0.1, kernel=linear ...................................\n",
      "[CV] .................... C=1, gamma=0.1, kernel=linear, total=   0.1s\n",
      "[CV] C=1, gamma=0.1, kernel=linear ...................................\n",
      "[CV] .................... C=1, gamma=0.1, kernel=linear, total=   0.1s\n",
      "[CV] C=1, gamma=0.1, kernel=poly .....................................\n",
      "[CV] ...................... C=1, gamma=0.1, kernel=poly, total=   3.0s\n",
      "[CV] C=1, gamma=0.1, kernel=poly .....................................\n",
      "[CV] ...................... C=1, gamma=0.1, kernel=poly, total=   3.2s\n",
      "[CV] C=1, gamma=0.1, kernel=poly .....................................\n",
      "[CV] ...................... C=1, gamma=0.1, kernel=poly, total=   1.5s\n",
      "[CV] C=1, gamma=0.1, kernel=poly .....................................\n",
      "[CV] ...................... C=1, gamma=0.1, kernel=poly, total=   5.8s\n",
      "[CV] C=1, gamma=0.1, kernel=poly .....................................\n",
      "[CV] ...................... C=1, gamma=0.1, kernel=poly, total=   7.4s\n",
      "[CV] C=1, gamma=0.1, kernel=sigmoid ..................................\n",
      "[CV] ................... C=1, gamma=0.1, kernel=sigmoid, total=   0.0s\n",
      "[CV] C=1, gamma=0.1, kernel=sigmoid ..................................\n",
      "[CV] ................... C=1, gamma=0.1, kernel=sigmoid, total=   0.0s\n",
      "[CV] C=1, gamma=0.1, kernel=sigmoid ..................................\n",
      "[CV] ................... C=1, gamma=0.1, kernel=sigmoid, total=   0.0s\n",
      "[CV] C=1, gamma=0.1, kernel=sigmoid ..................................\n",
      "[CV] ................... C=1, gamma=0.1, kernel=sigmoid, total=   0.0s\n",
      "[CV] C=1, gamma=0.1, kernel=sigmoid ..................................\n",
      "[CV] ................... C=1, gamma=0.1, kernel=sigmoid, total=   0.0s\n",
      "[CV] C=1, gamma=0.5, kernel=rbf ......................................\n",
      "[CV] ....................... C=1, gamma=0.5, kernel=rbf, total=   0.0s\n",
      "[CV] C=1, gamma=0.5, kernel=rbf ......................................\n",
      "[CV] ....................... C=1, gamma=0.5, kernel=rbf, total=   0.0s\n",
      "[CV] C=1, gamma=0.5, kernel=rbf ......................................\n",
      "[CV] ....................... C=1, gamma=0.5, kernel=rbf, total=   0.0s\n",
      "[CV] C=1, gamma=0.5, kernel=rbf ......................................\n",
      "[CV] ....................... C=1, gamma=0.5, kernel=rbf, total=   0.0s\n",
      "[CV] C=1, gamma=0.5, kernel=rbf ......................................\n",
      "[CV] ....................... C=1, gamma=0.5, kernel=rbf, total=   0.0s\n",
      "[CV] C=1, gamma=0.5, kernel=linear ...................................\n",
      "[CV] .................... C=1, gamma=0.5, kernel=linear, total=   0.1s\n",
      "[CV] C=1, gamma=0.5, kernel=linear ...................................\n",
      "[CV] .................... C=1, gamma=0.5, kernel=linear, total=   0.1s\n",
      "[CV] C=1, gamma=0.5, kernel=linear ...................................\n",
      "[CV] .................... C=1, gamma=0.5, kernel=linear, total=   0.1s\n",
      "[CV] C=1, gamma=0.5, kernel=linear ...................................\n",
      "[CV] .................... C=1, gamma=0.5, kernel=linear, total=   0.1s\n",
      "[CV] C=1, gamma=0.5, kernel=linear ...................................\n",
      "[CV] .................... C=1, gamma=0.5, kernel=linear, total=   0.1s\n",
      "[CV] C=1, gamma=0.5, kernel=poly .....................................\n",
      "[CV] ...................... C=1, gamma=0.5, kernel=poly, total=   3.2s\n",
      "[CV] C=1, gamma=0.5, kernel=poly .....................................\n",
      "[CV] ...................... C=1, gamma=0.5, kernel=poly, total=  10.1s\n",
      "[CV] C=1, gamma=0.5, kernel=poly .....................................\n",
      "[CV] ...................... C=1, gamma=0.5, kernel=poly, total=   1.8s\n",
      "[CV] C=1, gamma=0.5, kernel=poly .....................................\n",
      "[CV] ...................... C=1, gamma=0.5, kernel=poly, total=   8.1s\n",
      "[CV] C=1, gamma=0.5, kernel=poly .....................................\n",
      "[CV] ...................... C=1, gamma=0.5, kernel=poly, total=  12.6s\n",
      "[CV] C=1, gamma=0.5, kernel=sigmoid ..................................\n",
      "[CV] ................... C=1, gamma=0.5, kernel=sigmoid, total=   0.0s\n",
      "[CV] C=1, gamma=0.5, kernel=sigmoid ..................................\n",
      "[CV] ................... C=1, gamma=0.5, kernel=sigmoid, total=   0.0s\n",
      "[CV] C=1, gamma=0.5, kernel=sigmoid ..................................\n",
      "[CV] ................... C=1, gamma=0.5, kernel=sigmoid, total=   0.0s\n",
      "[CV] C=1, gamma=0.5, kernel=sigmoid ..................................\n",
      "[CV] ................... C=1, gamma=0.5, kernel=sigmoid, total=   0.0s\n",
      "[CV] C=1, gamma=0.5, kernel=sigmoid ..................................\n",
      "[CV] ................... C=1, gamma=0.5, kernel=sigmoid, total=   0.0s\n",
      "[CV] C=1, gamma=1.2, kernel=rbf ......................................\n",
      "[CV] ....................... C=1, gamma=1.2, kernel=rbf, total=   0.0s\n",
      "[CV] C=1, gamma=1.2, kernel=rbf ......................................\n",
      "[CV] ....................... C=1, gamma=1.2, kernel=rbf, total=   0.0s\n",
      "[CV] C=1, gamma=1.2, kernel=rbf ......................................\n",
      "[CV] ....................... C=1, gamma=1.2, kernel=rbf, total=   0.0s\n",
      "[CV] C=1, gamma=1.2, kernel=rbf ......................................\n",
      "[CV] ....................... C=1, gamma=1.2, kernel=rbf, total=   0.0s\n",
      "[CV] C=1, gamma=1.2, kernel=rbf ......................................\n",
      "[CV] ....................... C=1, gamma=1.2, kernel=rbf, total=   0.0s\n",
      "[CV] C=1, gamma=1.2, kernel=linear ...................................\n",
      "[CV] .................... C=1, gamma=1.2, kernel=linear, total=   0.1s\n",
      "[CV] C=1, gamma=1.2, kernel=linear ...................................\n",
      "[CV] .................... C=1, gamma=1.2, kernel=linear, total=   0.1s\n",
      "[CV] C=1, gamma=1.2, kernel=linear ...................................\n",
      "[CV] .................... C=1, gamma=1.2, kernel=linear, total=   0.1s\n",
      "[CV] C=1, gamma=1.2, kernel=linear ...................................\n",
      "[CV] .................... C=1, gamma=1.2, kernel=linear, total=   0.1s\n",
      "[CV] C=1, gamma=1.2, kernel=linear ...................................\n",
      "[CV] .................... C=1, gamma=1.2, kernel=linear, total=   0.1s\n",
      "[CV] C=1, gamma=1.2, kernel=poly .....................................\n",
      "[CV] ...................... C=1, gamma=1.2, kernel=poly, total=   5.7s\n",
      "[CV] C=1, gamma=1.2, kernel=poly .....................................\n",
      "[CV] ...................... C=1, gamma=1.2, kernel=poly, total=   3.3s\n",
      "[CV] C=1, gamma=1.2, kernel=poly .....................................\n",
      "[CV] ...................... C=1, gamma=1.2, kernel=poly, total=   2.9s\n",
      "[CV] C=1, gamma=1.2, kernel=poly .....................................\n",
      "[CV] ...................... C=1, gamma=1.2, kernel=poly, total=   5.5s\n",
      "[CV] C=1, gamma=1.2, kernel=poly .....................................\n",
      "[CV] ...................... C=1, gamma=1.2, kernel=poly, total=  11.9s\n",
      "[CV] C=1, gamma=1.2, kernel=sigmoid ..................................\n",
      "[CV] ................... C=1, gamma=1.2, kernel=sigmoid, total=   0.0s\n",
      "[CV] C=1, gamma=1.2, kernel=sigmoid ..................................\n",
      "[CV] ................... C=1, gamma=1.2, kernel=sigmoid, total=   0.0s\n",
      "[CV] C=1, gamma=1.2, kernel=sigmoid ..................................\n",
      "[CV] ................... C=1, gamma=1.2, kernel=sigmoid, total=   0.0s\n",
      "[CV] C=1, gamma=1.2, kernel=sigmoid ..................................\n",
      "[CV] ................... C=1, gamma=1.2, kernel=sigmoid, total=   0.0s\n",
      "[CV] C=1, gamma=1.2, kernel=sigmoid ..................................\n",
      "[CV] ................... C=1, gamma=1.2, kernel=sigmoid, total=   0.0s\n",
      "[CV] C=10, gamma=0.01, kernel=rbf ....................................\n",
      "[CV] ..................... C=10, gamma=0.01, kernel=rbf, total=   0.0s\n",
      "[CV] C=10, gamma=0.01, kernel=rbf ....................................\n",
      "[CV] ..................... C=10, gamma=0.01, kernel=rbf, total=   0.0s\n",
      "[CV] C=10, gamma=0.01, kernel=rbf ....................................\n",
      "[CV] ..................... C=10, gamma=0.01, kernel=rbf, total=   0.0s\n",
      "[CV] C=10, gamma=0.01, kernel=rbf ....................................\n",
      "[CV] ..................... C=10, gamma=0.01, kernel=rbf, total=   0.0s\n",
      "[CV] C=10, gamma=0.01, kernel=rbf ....................................\n",
      "[CV] ..................... C=10, gamma=0.01, kernel=rbf, total=   0.0s\n",
      "[CV] C=10, gamma=0.01, kernel=linear .................................\n",
      "[CV] .................. C=10, gamma=0.01, kernel=linear, total=   0.6s\n",
      "[CV] C=10, gamma=0.01, kernel=linear .................................\n",
      "[CV] .................. C=10, gamma=0.01, kernel=linear, total=   2.2s\n",
      "[CV] C=10, gamma=0.01, kernel=linear .................................\n",
      "[CV] .................. C=10, gamma=0.01, kernel=linear, total=   1.0s\n",
      "[CV] C=10, gamma=0.01, kernel=linear .................................\n",
      "[CV] .................. C=10, gamma=0.01, kernel=linear, total=   1.1s\n",
      "[CV] C=10, gamma=0.01, kernel=linear .................................\n",
      "[CV] .................. C=10, gamma=0.01, kernel=linear, total=   0.3s\n",
      "[CV] C=10, gamma=0.01, kernel=poly ...................................\n",
      "[CV] .................... C=10, gamma=0.01, kernel=poly, total=   3.2s\n",
      "[CV] C=10, gamma=0.01, kernel=poly ...................................\n",
      "[CV] .................... C=10, gamma=0.01, kernel=poly, total=   4.6s\n",
      "[CV] C=10, gamma=0.01, kernel=poly ...................................\n",
      "[CV] .................... C=10, gamma=0.01, kernel=poly, total=   1.7s\n",
      "[CV] C=10, gamma=0.01, kernel=poly ...................................\n",
      "[CV] .................... C=10, gamma=0.01, kernel=poly, total=   9.4s\n",
      "[CV] C=10, gamma=0.01, kernel=poly ...................................\n",
      "[CV] .................... C=10, gamma=0.01, kernel=poly, total=  10.8s\n",
      "[CV] C=10, gamma=0.01, kernel=sigmoid ................................\n",
      "[CV] ................. C=10, gamma=0.01, kernel=sigmoid, total=   0.0s\n",
      "[CV] C=10, gamma=0.01, kernel=sigmoid ................................\n",
      "[CV] ................. C=10, gamma=0.01, kernel=sigmoid, total=   0.0s\n",
      "[CV] C=10, gamma=0.01, kernel=sigmoid ................................\n",
      "[CV] ................. C=10, gamma=0.01, kernel=sigmoid, total=   0.0s\n",
      "[CV] C=10, gamma=0.01, kernel=sigmoid ................................\n",
      "[CV] ................. C=10, gamma=0.01, kernel=sigmoid, total=   0.0s\n",
      "[CV] C=10, gamma=0.01, kernel=sigmoid ................................\n",
      "[CV] ................. C=10, gamma=0.01, kernel=sigmoid, total=   0.0s\n",
      "[CV] C=10, gamma=0.1, kernel=rbf .....................................\n",
      "[CV] ...................... C=10, gamma=0.1, kernel=rbf, total=   0.0s\n",
      "[CV] C=10, gamma=0.1, kernel=rbf .....................................\n",
      "[CV] ...................... C=10, gamma=0.1, kernel=rbf, total=   0.0s\n",
      "[CV] C=10, gamma=0.1, kernel=rbf .....................................\n",
      "[CV] ...................... C=10, gamma=0.1, kernel=rbf, total=   0.0s\n",
      "[CV] C=10, gamma=0.1, kernel=rbf .....................................\n",
      "[CV] ...................... C=10, gamma=0.1, kernel=rbf, total=   0.0s\n",
      "[CV] C=10, gamma=0.1, kernel=rbf .....................................\n",
      "[CV] ...................... C=10, gamma=0.1, kernel=rbf, total=   0.0s\n",
      "[CV] C=10, gamma=0.1, kernel=linear ..................................\n",
      "[CV] ................... C=10, gamma=0.1, kernel=linear, total=   0.6s\n",
      "[CV] C=10, gamma=0.1, kernel=linear ..................................\n",
      "[CV] ................... C=10, gamma=0.1, kernel=linear, total=   2.2s\n",
      "[CV] C=10, gamma=0.1, kernel=linear ..................................\n",
      "[CV] ................... C=10, gamma=0.1, kernel=linear, total=   1.0s\n",
      "[CV] C=10, gamma=0.1, kernel=linear ..................................\n",
      "[CV] ................... C=10, gamma=0.1, kernel=linear, total=   1.1s\n",
      "[CV] C=10, gamma=0.1, kernel=linear ..................................\n",
      "[CV] ................... C=10, gamma=0.1, kernel=linear, total=   0.3s\n",
      "[CV] C=10, gamma=0.1, kernel=poly ....................................\n",
      "[CV] ..................... C=10, gamma=0.1, kernel=poly, total=   3.0s\n",
      "[CV] C=10, gamma=0.1, kernel=poly ....................................\n",
      "[CV] ..................... C=10, gamma=0.1, kernel=poly, total=   3.3s\n",
      "[CV] C=10, gamma=0.1, kernel=poly ....................................\n",
      "[CV] ..................... C=10, gamma=0.1, kernel=poly, total=   1.4s\n",
      "[CV] C=10, gamma=0.1, kernel=poly ....................................\n",
      "[CV] ..................... C=10, gamma=0.1, kernel=poly, total=   5.6s\n",
      "[CV] C=10, gamma=0.1, kernel=poly ....................................\n",
      "[CV] ..................... C=10, gamma=0.1, kernel=poly, total=   7.3s\n",
      "[CV] C=10, gamma=0.1, kernel=sigmoid .................................\n",
      "[CV] .................. C=10, gamma=0.1, kernel=sigmoid, total=   0.0s\n",
      "[CV] C=10, gamma=0.1, kernel=sigmoid .................................\n",
      "[CV] .................. C=10, gamma=0.1, kernel=sigmoid, total=   0.0s\n",
      "[CV] C=10, gamma=0.1, kernel=sigmoid .................................\n",
      "[CV] .................. C=10, gamma=0.1, kernel=sigmoid, total=   0.0s\n",
      "[CV] C=10, gamma=0.1, kernel=sigmoid .................................\n",
      "[CV] .................. C=10, gamma=0.1, kernel=sigmoid, total=   0.0s\n",
      "[CV] C=10, gamma=0.1, kernel=sigmoid .................................\n",
      "[CV] .................. C=10, gamma=0.1, kernel=sigmoid, total=   0.0s\n",
      "[CV] C=10, gamma=0.5, kernel=rbf .....................................\n",
      "[CV] ...................... C=10, gamma=0.5, kernel=rbf, total=   0.0s\n",
      "[CV] C=10, gamma=0.5, kernel=rbf .....................................\n",
      "[CV] ...................... C=10, gamma=0.5, kernel=rbf, total=   0.0s\n",
      "[CV] C=10, gamma=0.5, kernel=rbf .....................................\n",
      "[CV] ...................... C=10, gamma=0.5, kernel=rbf, total=   0.0s\n",
      "[CV] C=10, gamma=0.5, kernel=rbf .....................................\n",
      "[CV] ...................... C=10, gamma=0.5, kernel=rbf, total=   0.0s\n",
      "[CV] C=10, gamma=0.5, kernel=rbf .....................................\n",
      "[CV] ...................... C=10, gamma=0.5, kernel=rbf, total=   0.0s\n",
      "[CV] C=10, gamma=0.5, kernel=linear ..................................\n",
      "[CV] ................... C=10, gamma=0.5, kernel=linear, total=   0.6s\n",
      "[CV] C=10, gamma=0.5, kernel=linear ..................................\n",
      "[CV] ................... C=10, gamma=0.5, kernel=linear, total=   2.2s\n",
      "[CV] C=10, gamma=0.5, kernel=linear ..................................\n",
      "[CV] ................... C=10, gamma=0.5, kernel=linear, total=   1.0s\n",
      "[CV] C=10, gamma=0.5, kernel=linear ..................................\n",
      "[CV] ................... C=10, gamma=0.5, kernel=linear, total=   1.2s\n",
      "[CV] C=10, gamma=0.5, kernel=linear ..................................\n",
      "[CV] ................... C=10, gamma=0.5, kernel=linear, total=   0.3s\n",
      "[CV] C=10, gamma=0.5, kernel=poly ....................................\n",
      "[CV] ..................... C=10, gamma=0.5, kernel=poly, total=   3.3s\n",
      "[CV] C=10, gamma=0.5, kernel=poly ....................................\n",
      "[CV] ..................... C=10, gamma=0.5, kernel=poly, total=  10.2s\n",
      "[CV] C=10, gamma=0.5, kernel=poly ....................................\n",
      "[CV] ..................... C=10, gamma=0.5, kernel=poly, total=   1.8s\n",
      "[CV] C=10, gamma=0.5, kernel=poly ....................................\n",
      "[CV] ..................... C=10, gamma=0.5, kernel=poly, total=   8.3s\n",
      "[CV] C=10, gamma=0.5, kernel=poly ....................................\n",
      "[CV] ..................... C=10, gamma=0.5, kernel=poly, total=  13.1s\n",
      "[CV] C=10, gamma=0.5, kernel=sigmoid .................................\n",
      "[CV] .................. C=10, gamma=0.5, kernel=sigmoid, total=   0.0s\n",
      "[CV] C=10, gamma=0.5, kernel=sigmoid .................................\n",
      "[CV] .................. C=10, gamma=0.5, kernel=sigmoid, total=   0.0s\n",
      "[CV] C=10, gamma=0.5, kernel=sigmoid .................................\n",
      "[CV] .................. C=10, gamma=0.5, kernel=sigmoid, total=   0.0s\n",
      "[CV] C=10, gamma=0.5, kernel=sigmoid .................................\n",
      "[CV] .................. C=10, gamma=0.5, kernel=sigmoid, total=   0.0s\n",
      "[CV] C=10, gamma=0.5, kernel=sigmoid .................................\n",
      "[CV] .................. C=10, gamma=0.5, kernel=sigmoid, total=   0.0s\n",
      "[CV] C=10, gamma=1.2, kernel=rbf .....................................\n",
      "[CV] ...................... C=10, gamma=1.2, kernel=rbf, total=   0.0s\n",
      "[CV] C=10, gamma=1.2, kernel=rbf .....................................\n",
      "[CV] ...................... C=10, gamma=1.2, kernel=rbf, total=   0.0s\n",
      "[CV] C=10, gamma=1.2, kernel=rbf .....................................\n",
      "[CV] ...................... C=10, gamma=1.2, kernel=rbf, total=   0.0s\n",
      "[CV] C=10, gamma=1.2, kernel=rbf .....................................\n",
      "[CV] ...................... C=10, gamma=1.2, kernel=rbf, total=   0.0s\n",
      "[CV] C=10, gamma=1.2, kernel=rbf .....................................\n",
      "[CV] ...................... C=10, gamma=1.2, kernel=rbf, total=   0.0s\n",
      "[CV] C=10, gamma=1.2, kernel=linear ..................................\n",
      "[CV] ................... C=10, gamma=1.2, kernel=linear, total=   0.6s\n",
      "[CV] C=10, gamma=1.2, kernel=linear ..................................\n",
      "[CV] ................... C=10, gamma=1.2, kernel=linear, total=   2.3s\n",
      "[CV] C=10, gamma=1.2, kernel=linear ..................................\n",
      "[CV] ................... C=10, gamma=1.2, kernel=linear, total=   1.0s\n",
      "[CV] C=10, gamma=1.2, kernel=linear ..................................\n",
      "[CV] ................... C=10, gamma=1.2, kernel=linear, total=   1.1s\n",
      "[CV] C=10, gamma=1.2, kernel=linear ..................................\n",
      "[CV] ................... C=10, gamma=1.2, kernel=linear, total=   0.3s\n",
      "[CV] C=10, gamma=1.2, kernel=poly ....................................\n",
      "[CV] ..................... C=10, gamma=1.2, kernel=poly, total=   5.7s\n",
      "[CV] C=10, gamma=1.2, kernel=poly ....................................\n",
      "[CV] ..................... C=10, gamma=1.2, kernel=poly, total=   3.5s\n",
      "[CV] C=10, gamma=1.2, kernel=poly ....................................\n",
      "[CV] ..................... C=10, gamma=1.2, kernel=poly, total=   2.9s\n",
      "[CV] C=10, gamma=1.2, kernel=poly ....................................\n",
      "[CV] ..................... C=10, gamma=1.2, kernel=poly, total=   5.5s\n",
      "[CV] C=10, gamma=1.2, kernel=poly ....................................\n",
      "[CV] ..................... C=10, gamma=1.2, kernel=poly, total=  11.7s\n",
      "[CV] C=10, gamma=1.2, kernel=sigmoid .................................\n",
      "[CV] .................. C=10, gamma=1.2, kernel=sigmoid, total=   0.0s\n",
      "[CV] C=10, gamma=1.2, kernel=sigmoid .................................\n",
      "[CV] .................. C=10, gamma=1.2, kernel=sigmoid, total=   0.0s\n",
      "[CV] C=10, gamma=1.2, kernel=sigmoid .................................\n",
      "[CV] .................. C=10, gamma=1.2, kernel=sigmoid, total=   0.0s\n",
      "[CV] C=10, gamma=1.2, kernel=sigmoid .................................\n",
      "[CV] .................. C=10, gamma=1.2, kernel=sigmoid, total=   0.0s\n",
      "[CV] C=10, gamma=1.2, kernel=sigmoid .................................\n",
      "[CV] .................. C=10, gamma=1.2, kernel=sigmoid, total=   0.0s\n",
      "[CV] C=100, gamma=0.01, kernel=rbf ...................................\n",
      "[CV] .................... C=100, gamma=0.01, kernel=rbf, total=   0.0s\n",
      "[CV] C=100, gamma=0.01, kernel=rbf ...................................\n",
      "[CV] .................... C=100, gamma=0.01, kernel=rbf, total=   0.0s\n",
      "[CV] C=100, gamma=0.01, kernel=rbf ...................................\n",
      "[CV] .................... C=100, gamma=0.01, kernel=rbf, total=   0.0s\n",
      "[CV] C=100, gamma=0.01, kernel=rbf ...................................\n",
      "[CV] .................... C=100, gamma=0.01, kernel=rbf, total=   0.0s\n",
      "[CV] C=100, gamma=0.01, kernel=rbf ...................................\n",
      "[CV] .................... C=100, gamma=0.01, kernel=rbf, total=   0.0s\n",
      "[CV] C=100, gamma=0.01, kernel=linear ................................\n",
      "[CV] ................. C=100, gamma=0.01, kernel=linear, total=   5.5s\n",
      "[CV] C=100, gamma=0.01, kernel=linear ................................\n",
      "[CV] ................. C=100, gamma=0.01, kernel=linear, total=   6.8s\n",
      "[CV] C=100, gamma=0.01, kernel=linear ................................\n",
      "[CV] ................. C=100, gamma=0.01, kernel=linear, total=   4.7s\n",
      "[CV] C=100, gamma=0.01, kernel=linear ................................\n",
      "[CV] ................. C=100, gamma=0.01, kernel=linear, total=   8.6s\n",
      "[CV] C=100, gamma=0.01, kernel=linear ................................\n",
      "[CV] ................. C=100, gamma=0.01, kernel=linear, total=  10.2s\n",
      "[CV] C=100, gamma=0.01, kernel=poly ..................................\n",
      "[CV] ................... C=100, gamma=0.01, kernel=poly, total=   3.3s\n",
      "[CV] C=100, gamma=0.01, kernel=poly ..................................\n",
      "[CV] ................... C=100, gamma=0.01, kernel=poly, total=   4.9s\n",
      "[CV] C=100, gamma=0.01, kernel=poly ..................................\n",
      "[CV] ................... C=100, gamma=0.01, kernel=poly, total=   1.8s\n",
      "[CV] C=100, gamma=0.01, kernel=poly ..................................\n",
      "[CV] ................... C=100, gamma=0.01, kernel=poly, total=   9.8s\n",
      "[CV] C=100, gamma=0.01, kernel=poly ..................................\n",
      "[CV] ................... C=100, gamma=0.01, kernel=poly, total=  11.1s\n",
      "[CV] C=100, gamma=0.01, kernel=sigmoid ...............................\n",
      "[CV] ................ C=100, gamma=0.01, kernel=sigmoid, total=   0.0s\n",
      "[CV] C=100, gamma=0.01, kernel=sigmoid ...............................\n",
      "[CV] ................ C=100, gamma=0.01, kernel=sigmoid, total=   0.0s\n",
      "[CV] C=100, gamma=0.01, kernel=sigmoid ...............................\n",
      "[CV] ................ C=100, gamma=0.01, kernel=sigmoid, total=   0.0s\n",
      "[CV] C=100, gamma=0.01, kernel=sigmoid ...............................\n",
      "[CV] ................ C=100, gamma=0.01, kernel=sigmoid, total=   0.0s\n",
      "[CV] C=100, gamma=0.01, kernel=sigmoid ...............................\n",
      "[CV] ................ C=100, gamma=0.01, kernel=sigmoid, total=   0.0s\n",
      "[CV] C=100, gamma=0.1, kernel=rbf ....................................\n",
      "[CV] ..................... C=100, gamma=0.1, kernel=rbf, total=   0.0s\n",
      "[CV] C=100, gamma=0.1, kernel=rbf ....................................\n",
      "[CV] ..................... C=100, gamma=0.1, kernel=rbf, total=   0.0s\n",
      "[CV] C=100, gamma=0.1, kernel=rbf ....................................\n",
      "[CV] ..................... C=100, gamma=0.1, kernel=rbf, total=   0.0s\n",
      "[CV] C=100, gamma=0.1, kernel=rbf ....................................\n",
      "[CV] ..................... C=100, gamma=0.1, kernel=rbf, total=   0.0s\n",
      "[CV] C=100, gamma=0.1, kernel=rbf ....................................\n",
      "[CV] ..................... C=100, gamma=0.1, kernel=rbf, total=   0.0s\n",
      "[CV] C=100, gamma=0.1, kernel=linear .................................\n",
      "[CV] .................. C=100, gamma=0.1, kernel=linear, total=   5.5s\n",
      "[CV] C=100, gamma=0.1, kernel=linear .................................\n",
      "[CV] .................. C=100, gamma=0.1, kernel=linear, total=   6.8s\n",
      "[CV] C=100, gamma=0.1, kernel=linear .................................\n",
      "[CV] .................. C=100, gamma=0.1, kernel=linear, total=   4.5s\n",
      "[CV] C=100, gamma=0.1, kernel=linear .................................\n",
      "[CV] .................. C=100, gamma=0.1, kernel=linear, total=   8.2s\n",
      "[CV] C=100, gamma=0.1, kernel=linear .................................\n",
      "[CV] .................. C=100, gamma=0.1, kernel=linear, total=  10.0s\n",
      "[CV] C=100, gamma=0.1, kernel=poly ...................................\n",
      "[CV] .................... C=100, gamma=0.1, kernel=poly, total=   3.0s\n",
      "[CV] C=100, gamma=0.1, kernel=poly ...................................\n",
      "[CV] .................... C=100, gamma=0.1, kernel=poly, total=   3.3s\n",
      "[CV] C=100, gamma=0.1, kernel=poly ...................................\n",
      "[CV] .................... C=100, gamma=0.1, kernel=poly, total=   1.5s\n",
      "[CV] C=100, gamma=0.1, kernel=poly ...................................\n",
      "[CV] .................... C=100, gamma=0.1, kernel=poly, total=   6.0s\n",
      "[CV] C=100, gamma=0.1, kernel=poly ...................................\n",
      "[CV] .................... C=100, gamma=0.1, kernel=poly, total=   7.7s\n",
      "[CV] C=100, gamma=0.1, kernel=sigmoid ................................\n",
      "[CV] ................. C=100, gamma=0.1, kernel=sigmoid, total=   0.0s\n",
      "[CV] C=100, gamma=0.1, kernel=sigmoid ................................\n",
      "[CV] ................. C=100, gamma=0.1, kernel=sigmoid, total=   0.0s\n",
      "[CV] C=100, gamma=0.1, kernel=sigmoid ................................\n",
      "[CV] ................. C=100, gamma=0.1, kernel=sigmoid, total=   0.0s\n",
      "[CV] C=100, gamma=0.1, kernel=sigmoid ................................\n",
      "[CV] ................. C=100, gamma=0.1, kernel=sigmoid, total=   0.0s\n",
      "[CV] C=100, gamma=0.1, kernel=sigmoid ................................\n",
      "[CV] ................. C=100, gamma=0.1, kernel=sigmoid, total=   0.0s\n",
      "[CV] C=100, gamma=0.5, kernel=rbf ....................................\n",
      "[CV] ..................... C=100, gamma=0.5, kernel=rbf, total=   0.0s\n",
      "[CV] C=100, gamma=0.5, kernel=rbf ....................................\n",
      "[CV] ..................... C=100, gamma=0.5, kernel=rbf, total=   0.0s\n",
      "[CV] C=100, gamma=0.5, kernel=rbf ....................................\n",
      "[CV] ..................... C=100, gamma=0.5, kernel=rbf, total=   0.0s\n",
      "[CV] C=100, gamma=0.5, kernel=rbf ....................................\n",
      "[CV] ..................... C=100, gamma=0.5, kernel=rbf, total=   0.0s\n",
      "[CV] C=100, gamma=0.5, kernel=rbf ....................................\n",
      "[CV] ..................... C=100, gamma=0.5, kernel=rbf, total=   0.0s\n",
      "[CV] C=100, gamma=0.5, kernel=linear .................................\n",
      "[CV] .................. C=100, gamma=0.5, kernel=linear, total=   5.5s\n",
      "[CV] C=100, gamma=0.5, kernel=linear .................................\n",
      "[CV] .................. C=100, gamma=0.5, kernel=linear, total=   6.8s\n",
      "[CV] C=100, gamma=0.5, kernel=linear .................................\n",
      "[CV] .................. C=100, gamma=0.5, kernel=linear, total=   4.4s\n",
      "[CV] C=100, gamma=0.5, kernel=linear .................................\n",
      "[CV] .................. C=100, gamma=0.5, kernel=linear, total=   8.4s\n",
      "[CV] C=100, gamma=0.5, kernel=linear .................................\n",
      "[CV] .................. C=100, gamma=0.5, kernel=linear, total=  10.0s\n",
      "[CV] C=100, gamma=0.5, kernel=poly ...................................\n",
      "[CV] .................... C=100, gamma=0.5, kernel=poly, total=   3.3s\n",
      "[CV] C=100, gamma=0.5, kernel=poly ...................................\n",
      "[CV] .................... C=100, gamma=0.5, kernel=poly, total=  10.3s\n",
      "[CV] C=100, gamma=0.5, kernel=poly ...................................\n",
      "[CV] .................... C=100, gamma=0.5, kernel=poly, total=   1.8s\n",
      "[CV] C=100, gamma=0.5, kernel=poly ...................................\n",
      "[CV] .................... C=100, gamma=0.5, kernel=poly, total=   8.2s\n",
      "[CV] C=100, gamma=0.5, kernel=poly ...................................\n",
      "[CV] .................... C=100, gamma=0.5, kernel=poly, total=  13.0s\n",
      "[CV] C=100, gamma=0.5, kernel=sigmoid ................................\n",
      "[CV] ................. C=100, gamma=0.5, kernel=sigmoid, total=   0.0s\n",
      "[CV] C=100, gamma=0.5, kernel=sigmoid ................................\n",
      "[CV] ................. C=100, gamma=0.5, kernel=sigmoid, total=   0.0s\n",
      "[CV] C=100, gamma=0.5, kernel=sigmoid ................................\n",
      "[CV] ................. C=100, gamma=0.5, kernel=sigmoid, total=   0.0s\n",
      "[CV] C=100, gamma=0.5, kernel=sigmoid ................................\n",
      "[CV] ................. C=100, gamma=0.5, kernel=sigmoid, total=   0.0s\n",
      "[CV] C=100, gamma=0.5, kernel=sigmoid ................................\n",
      "[CV] ................. C=100, gamma=0.5, kernel=sigmoid, total=   0.0s\n",
      "[CV] C=100, gamma=1.2, kernel=rbf ....................................\n",
      "[CV] ..................... C=100, gamma=1.2, kernel=rbf, total=   0.0s\n",
      "[CV] C=100, gamma=1.2, kernel=rbf ....................................\n",
      "[CV] ..................... C=100, gamma=1.2, kernel=rbf, total=   0.0s\n",
      "[CV] C=100, gamma=1.2, kernel=rbf ....................................\n",
      "[CV] ..................... C=100, gamma=1.2, kernel=rbf, total=   0.0s\n",
      "[CV] C=100, gamma=1.2, kernel=rbf ....................................\n",
      "[CV] ..................... C=100, gamma=1.2, kernel=rbf, total=   0.0s\n",
      "[CV] C=100, gamma=1.2, kernel=rbf ....................................\n",
      "[CV] ..................... C=100, gamma=1.2, kernel=rbf, total=   0.0s\n",
      "[CV] C=100, gamma=1.2, kernel=linear .................................\n",
      "[CV] .................. C=100, gamma=1.2, kernel=linear, total=   5.5s\n",
      "[CV] C=100, gamma=1.2, kernel=linear .................................\n",
      "[CV] .................. C=100, gamma=1.2, kernel=linear, total=   6.8s\n",
      "[CV] C=100, gamma=1.2, kernel=linear .................................\n",
      "[CV] .................. C=100, gamma=1.2, kernel=linear, total=   4.4s\n",
      "[CV] C=100, gamma=1.2, kernel=linear .................................\n",
      "[CV] .................. C=100, gamma=1.2, kernel=linear, total=   8.2s\n",
      "[CV] C=100, gamma=1.2, kernel=linear .................................\n",
      "[CV] .................. C=100, gamma=1.2, kernel=linear, total=  10.0s\n",
      "[CV] C=100, gamma=1.2, kernel=poly ...................................\n",
      "[CV] .................... C=100, gamma=1.2, kernel=poly, total=   5.7s\n",
      "[CV] C=100, gamma=1.2, kernel=poly ...................................\n",
      "[CV] .................... C=100, gamma=1.2, kernel=poly, total=   3.4s\n",
      "[CV] C=100, gamma=1.2, kernel=poly ...................................\n",
      "[CV] .................... C=100, gamma=1.2, kernel=poly, total=   2.9s\n",
      "[CV] C=100, gamma=1.2, kernel=poly ...................................\n",
      "[CV] .................... C=100, gamma=1.2, kernel=poly, total=   5.5s\n",
      "[CV] C=100, gamma=1.2, kernel=poly ...................................\n",
      "[CV] .................... C=100, gamma=1.2, kernel=poly, total=  12.0s\n",
      "[CV] C=100, gamma=1.2, kernel=sigmoid ................................\n",
      "[CV] ................. C=100, gamma=1.2, kernel=sigmoid, total=   0.0s\n",
      "[CV] C=100, gamma=1.2, kernel=sigmoid ................................\n",
      "[CV] ................. C=100, gamma=1.2, kernel=sigmoid, total=   0.0s\n",
      "[CV] C=100, gamma=1.2, kernel=sigmoid ................................\n",
      "[CV] ................. C=100, gamma=1.2, kernel=sigmoid, total=   0.0s\n",
      "[CV] C=100, gamma=1.2, kernel=sigmoid ................................\n",
      "[CV] ................. C=100, gamma=1.2, kernel=sigmoid, total=   0.0s\n",
      "[CV] C=100, gamma=1.2, kernel=sigmoid ................................\n",
      "[CV] ................. C=100, gamma=1.2, kernel=sigmoid, total=   0.0s\n",
      "[CV] C=500, gamma=0.01, kernel=rbf ...................................\n",
      "[CV] .................... C=500, gamma=0.01, kernel=rbf, total=   0.0s\n",
      "[CV] C=500, gamma=0.01, kernel=rbf ...................................\n",
      "[CV] .................... C=500, gamma=0.01, kernel=rbf, total=   0.0s\n",
      "[CV] C=500, gamma=0.01, kernel=rbf ...................................\n",
      "[CV] .................... C=500, gamma=0.01, kernel=rbf, total=   0.0s\n",
      "[CV] C=500, gamma=0.01, kernel=rbf ...................................\n",
      "[CV] .................... C=500, gamma=0.01, kernel=rbf, total=   0.0s\n",
      "[CV] C=500, gamma=0.01, kernel=rbf ...................................\n",
      "[CV] .................... C=500, gamma=0.01, kernel=rbf, total=   0.0s\n",
      "[CV] C=500, gamma=0.01, kernel=linear ................................\n",
      "[CV] ................. C=500, gamma=0.01, kernel=linear, total=  11.8s\n",
      "[CV] C=500, gamma=0.01, kernel=linear ................................\n",
      "[CV] ................. C=500, gamma=0.01, kernel=linear, total=   8.5s\n",
      "[CV] C=500, gamma=0.01, kernel=linear ................................\n",
      "[CV] ................. C=500, gamma=0.01, kernel=linear, total=  27.2s\n",
      "[CV] C=500, gamma=0.01, kernel=linear ................................\n",
      "[CV] ................. C=500, gamma=0.01, kernel=linear, total=  10.8s\n",
      "[CV] C=500, gamma=0.01, kernel=linear ................................\n",
      "[CV] ................. C=500, gamma=0.01, kernel=linear, total=  35.6s\n",
      "[CV] C=500, gamma=0.01, kernel=poly ..................................\n",
      "[CV] ................... C=500, gamma=0.01, kernel=poly, total=   3.1s\n",
      "[CV] C=500, gamma=0.01, kernel=poly ..................................\n",
      "[CV] ................... C=500, gamma=0.01, kernel=poly, total=   4.6s\n",
      "[CV] C=500, gamma=0.01, kernel=poly ..................................\n",
      "[CV] ................... C=500, gamma=0.01, kernel=poly, total=   1.7s\n",
      "[CV] C=500, gamma=0.01, kernel=poly ..................................\n",
      "[CV] ................... C=500, gamma=0.01, kernel=poly, total=   9.2s\n",
      "[CV] C=500, gamma=0.01, kernel=poly ..................................\n",
      "[CV] ................... C=500, gamma=0.01, kernel=poly, total=  10.8s\n",
      "[CV] C=500, gamma=0.01, kernel=sigmoid ...............................\n",
      "[CV] ................ C=500, gamma=0.01, kernel=sigmoid, total=   0.0s\n",
      "[CV] C=500, gamma=0.01, kernel=sigmoid ...............................\n",
      "[CV] ................ C=500, gamma=0.01, kernel=sigmoid, total=   0.0s\n",
      "[CV] C=500, gamma=0.01, kernel=sigmoid ...............................\n",
      "[CV] ................ C=500, gamma=0.01, kernel=sigmoid, total=   0.0s\n",
      "[CV] C=500, gamma=0.01, kernel=sigmoid ...............................\n",
      "[CV] ................ C=500, gamma=0.01, kernel=sigmoid, total=   0.0s\n",
      "[CV] C=500, gamma=0.01, kernel=sigmoid ...............................\n",
      "[CV] ................ C=500, gamma=0.01, kernel=sigmoid, total=   0.0s\n",
      "[CV] C=500, gamma=0.1, kernel=rbf ....................................\n",
      "[CV] ..................... C=500, gamma=0.1, kernel=rbf, total=   0.0s\n",
      "[CV] C=500, gamma=0.1, kernel=rbf ....................................\n",
      "[CV] ..................... C=500, gamma=0.1, kernel=rbf, total=   0.0s\n",
      "[CV] C=500, gamma=0.1, kernel=rbf ....................................\n",
      "[CV] ..................... C=500, gamma=0.1, kernel=rbf, total=   0.0s\n",
      "[CV] C=500, gamma=0.1, kernel=rbf ....................................\n",
      "[CV] ..................... C=500, gamma=0.1, kernel=rbf, total=   0.0s\n",
      "[CV] C=500, gamma=0.1, kernel=rbf ....................................\n",
      "[CV] ..................... C=500, gamma=0.1, kernel=rbf, total=   0.0s\n",
      "[CV] C=500, gamma=0.1, kernel=linear .................................\n",
      "[CV] .................. C=500, gamma=0.1, kernel=linear, total=  11.8s\n",
      "[CV] C=500, gamma=0.1, kernel=linear .................................\n",
      "[CV] .................. C=500, gamma=0.1, kernel=linear, total=   8.5s\n",
      "[CV] C=500, gamma=0.1, kernel=linear .................................\n",
      "[CV] .................. C=500, gamma=0.1, kernel=linear, total=  26.7s\n",
      "[CV] C=500, gamma=0.1, kernel=linear .................................\n",
      "[CV] .................. C=500, gamma=0.1, kernel=linear, total=  10.6s\n",
      "[CV] C=500, gamma=0.1, kernel=linear .................................\n",
      "[CV] .................. C=500, gamma=0.1, kernel=linear, total=  35.7s\n",
      "[CV] C=500, gamma=0.1, kernel=poly ...................................\n",
      "[CV] .................... C=500, gamma=0.1, kernel=poly, total=   3.0s\n",
      "[CV] C=500, gamma=0.1, kernel=poly ...................................\n",
      "[CV] .................... C=500, gamma=0.1, kernel=poly, total=   3.4s\n",
      "[CV] C=500, gamma=0.1, kernel=poly ...................................\n",
      "[CV] .................... C=500, gamma=0.1, kernel=poly, total=   1.5s\n",
      "[CV] C=500, gamma=0.1, kernel=poly ...................................\n",
      "[CV] .................... C=500, gamma=0.1, kernel=poly, total=   6.0s\n",
      "[CV] C=500, gamma=0.1, kernel=poly ...................................\n",
      "[CV] .................... C=500, gamma=0.1, kernel=poly, total=   7.7s\n",
      "[CV] C=500, gamma=0.1, kernel=sigmoid ................................\n",
      "[CV] ................. C=500, gamma=0.1, kernel=sigmoid, total=   0.0s\n",
      "[CV] C=500, gamma=0.1, kernel=sigmoid ................................\n",
      "[CV] ................. C=500, gamma=0.1, kernel=sigmoid, total=   0.0s\n",
      "[CV] C=500, gamma=0.1, kernel=sigmoid ................................\n",
      "[CV] ................. C=500, gamma=0.1, kernel=sigmoid, total=   0.0s\n",
      "[CV] C=500, gamma=0.1, kernel=sigmoid ................................\n",
      "[CV] ................. C=500, gamma=0.1, kernel=sigmoid, total=   0.0s\n",
      "[CV] C=500, gamma=0.1, kernel=sigmoid ................................\n",
      "[CV] ................. C=500, gamma=0.1, kernel=sigmoid, total=   0.0s\n",
      "[CV] C=500, gamma=0.5, kernel=rbf ....................................\n",
      "[CV] ..................... C=500, gamma=0.5, kernel=rbf, total=   0.0s\n",
      "[CV] C=500, gamma=0.5, kernel=rbf ....................................\n",
      "[CV] ..................... C=500, gamma=0.5, kernel=rbf, total=   0.0s\n",
      "[CV] C=500, gamma=0.5, kernel=rbf ....................................\n",
      "[CV] ..................... C=500, gamma=0.5, kernel=rbf, total=   0.0s\n",
      "[CV] C=500, gamma=0.5, kernel=rbf ....................................\n",
      "[CV] ..................... C=500, gamma=0.5, kernel=rbf, total=   0.0s\n",
      "[CV] C=500, gamma=0.5, kernel=rbf ....................................\n",
      "[CV] ..................... C=500, gamma=0.5, kernel=rbf, total=   0.0s\n",
      "[CV] C=500, gamma=0.5, kernel=linear .................................\n",
      "[CV] .................. C=500, gamma=0.5, kernel=linear, total=  11.8s\n",
      "[CV] C=500, gamma=0.5, kernel=linear .................................\n",
      "[CV] .................. C=500, gamma=0.5, kernel=linear, total=   8.5s\n",
      "[CV] C=500, gamma=0.5, kernel=linear .................................\n",
      "[CV] .................. C=500, gamma=0.5, kernel=linear, total=  26.5s\n",
      "[CV] C=500, gamma=0.5, kernel=linear .................................\n",
      "[CV] .................. C=500, gamma=0.5, kernel=linear, total=  10.5s\n",
      "[CV] C=500, gamma=0.5, kernel=linear .................................\n",
      "[CV] .................. C=500, gamma=0.5, kernel=linear, total=  35.6s\n",
      "[CV] C=500, gamma=0.5, kernel=poly ...................................\n",
      "[CV] .................... C=500, gamma=0.5, kernel=poly, total=   3.2s\n",
      "[CV] C=500, gamma=0.5, kernel=poly ...................................\n",
      "[CV] .................... C=500, gamma=0.5, kernel=poly, total=  11.8s\n",
      "[CV] C=500, gamma=0.5, kernel=poly ...................................\n",
      "[CV] .................... C=500, gamma=0.5, kernel=poly, total=   1.8s\n",
      "[CV] C=500, gamma=0.5, kernel=poly ...................................\n",
      "[CV] .................... C=500, gamma=0.5, kernel=poly, total=   8.1s\n",
      "[CV] C=500, gamma=0.5, kernel=poly ...................................\n",
      "[CV] .................... C=500, gamma=0.5, kernel=poly, total=  13.0s\n",
      "[CV] C=500, gamma=0.5, kernel=sigmoid ................................\n",
      "[CV] ................. C=500, gamma=0.5, kernel=sigmoid, total=   0.0s\n",
      "[CV] C=500, gamma=0.5, kernel=sigmoid ................................\n",
      "[CV] ................. C=500, gamma=0.5, kernel=sigmoid, total=   0.0s\n",
      "[CV] C=500, gamma=0.5, kernel=sigmoid ................................\n",
      "[CV] ................. C=500, gamma=0.5, kernel=sigmoid, total=   0.0s\n",
      "[CV] C=500, gamma=0.5, kernel=sigmoid ................................\n",
      "[CV] ................. C=500, gamma=0.5, kernel=sigmoid, total=   0.0s\n",
      "[CV] C=500, gamma=0.5, kernel=sigmoid ................................\n",
      "[CV] ................. C=500, gamma=0.5, kernel=sigmoid, total=   0.0s\n",
      "[CV] C=500, gamma=1.2, kernel=rbf ....................................\n",
      "[CV] ..................... C=500, gamma=1.2, kernel=rbf, total=   0.0s\n",
      "[CV] C=500, gamma=1.2, kernel=rbf ....................................\n",
      "[CV] ..................... C=500, gamma=1.2, kernel=rbf, total=   0.0s\n",
      "[CV] C=500, gamma=1.2, kernel=rbf ....................................\n",
      "[CV] ..................... C=500, gamma=1.2, kernel=rbf, total=   0.0s\n",
      "[CV] C=500, gamma=1.2, kernel=rbf ....................................\n",
      "[CV] ..................... C=500, gamma=1.2, kernel=rbf, total=   0.0s\n",
      "[CV] C=500, gamma=1.2, kernel=rbf ....................................\n",
      "[CV] ..................... C=500, gamma=1.2, kernel=rbf, total=   0.0s\n",
      "[CV] C=500, gamma=1.2, kernel=linear .................................\n",
      "[CV] .................. C=500, gamma=1.2, kernel=linear, total=  11.7s\n",
      "[CV] C=500, gamma=1.2, kernel=linear .................................\n",
      "[CV] .................. C=500, gamma=1.2, kernel=linear, total=   8.6s\n",
      "[CV] C=500, gamma=1.2, kernel=linear .................................\n",
      "[CV] .................. C=500, gamma=1.2, kernel=linear, total=  26.5s\n",
      "[CV] C=500, gamma=1.2, kernel=linear .................................\n",
      "[CV] .................. C=500, gamma=1.2, kernel=linear, total=  10.4s\n",
      "[CV] C=500, gamma=1.2, kernel=linear .................................\n",
      "[CV] .................. C=500, gamma=1.2, kernel=linear, total=  35.7s\n",
      "[CV] C=500, gamma=1.2, kernel=poly ...................................\n",
      "[CV] .................... C=500, gamma=1.2, kernel=poly, total=   5.8s\n",
      "[CV] C=500, gamma=1.2, kernel=poly ...................................\n",
      "[CV] .................... C=500, gamma=1.2, kernel=poly, total=   3.4s\n",
      "[CV] C=500, gamma=1.2, kernel=poly ...................................\n",
      "[CV] .................... C=500, gamma=1.2, kernel=poly, total=   3.0s\n",
      "[CV] C=500, gamma=1.2, kernel=poly ...................................\n",
      "[CV] .................... C=500, gamma=1.2, kernel=poly, total=   5.5s\n",
      "[CV] C=500, gamma=1.2, kernel=poly ...................................\n",
      "[CV] .................... C=500, gamma=1.2, kernel=poly, total=  12.1s\n",
      "[CV] C=500, gamma=1.2, kernel=sigmoid ................................\n",
      "[CV] ................. C=500, gamma=1.2, kernel=sigmoid, total=   0.0s\n",
      "[CV] C=500, gamma=1.2, kernel=sigmoid ................................\n",
      "[CV] ................. C=500, gamma=1.2, kernel=sigmoid, total=   0.0s\n",
      "[CV] C=500, gamma=1.2, kernel=sigmoid ................................\n",
      "[CV] ................. C=500, gamma=1.2, kernel=sigmoid, total=   0.0s\n",
      "[CV] C=500, gamma=1.2, kernel=sigmoid ................................\n",
      "[CV] ................. C=500, gamma=1.2, kernel=sigmoid, total=   0.0s\n",
      "[CV] C=500, gamma=1.2, kernel=sigmoid ................................\n",
      "[CV] ................. C=500, gamma=1.2, kernel=sigmoid, total=   0.0s\n"
     ]
    },
    {
     "name": "stderr",
     "output_type": "stream",
     "text": [
      "[Parallel(n_jobs=1)]: Done 320 out of 320 | elapsed: 16.8min finished\n"
     ]
    },
    {
     "data": {
      "text/plain": [
       "GridSearchCV(estimator=SVC(random_state=10),\n",
       "             param_grid={'C': [1, 10, 100, 500], 'gamma': [0.01, 0.1, 0.5, 1.2],\n",
       "                         'kernel': ['rbf', 'linear', 'poly', 'sigmoid']},\n",
       "             verbose=2)"
      ]
     },
     "execution_count": 110,
     "metadata": {},
     "output_type": "execute_result"
    }
   ],
   "source": [
    "from sklearn.svm import SVC\n",
    "from sklearn.model_selection import GridSearchCV\n",
    "parameters = {'kernel': ['rbf','linear','poly','sigmoid'],'C': [1,10,100,500],'gamma': [0.01,0.1,0.5,1.2]}\n",
    "grid_model = GridSearchCV(SVC(random_state=10),parameters,verbose=2)\n",
    "grid_model.fit(X_train_smote,y_train_smote)\n"
   ]
  },
  {
   "cell_type": "code",
   "execution_count": 111,
   "metadata": {
    "collapsed": false
   },
   "outputs": [
    {
     "data": {
      "text/plain": [
       "0.82"
      ]
     },
     "execution_count": 111,
     "metadata": {},
     "output_type": "execute_result"
    }
   ],
   "source": [
    "grid_model.best_score_"
   ]
  },
  {
   "cell_type": "code",
   "execution_count": 112,
   "metadata": {
    "collapsed": false
   },
   "outputs": [
    {
     "data": {
      "text/plain": [
       "{'C': 10, 'gamma': 0.01, 'kernel': 'linear'}"
      ]
     },
     "execution_count": 112,
     "metadata": {},
     "output_type": "execute_result"
    }
   ],
   "source": [
    "grid_model.best_params_"
   ]
  },
  {
   "cell_type": "code",
   "execution_count": 120,
   "metadata": {
    "collapsed": false
   },
   "outputs": [
    {
     "data": {
      "text/plain": [
       "0.8717948717948718"
      ]
     },
     "execution_count": 120,
     "metadata": {},
     "output_type": "execute_result"
    }
   ],
   "source": [
    "from sklearn.svm import SVC\n",
    "from sklearn.metrics import accuracy_score\n",
    "X_train,X_test,y_train,y_test=train_test_split(X,y,test_size=0.3)\n",
    "model=SVC(C=10,gamma= 0.01, kernel= 'linear')\n",
    "model.fit(X_train_smote,y_train_smote)\n",
    "y_predict=model.predict(X_test)\n",
    "accuracy_score(y_test,y_predict)"
   ]
  },
  {
   "cell_type": "code",
   "execution_count": 121,
   "metadata": {
    "collapsed": false
   },
   "outputs": [
    {
     "name": "stdout",
     "output_type": "stream",
     "text": [
      "Counter({0: 23, 1: 16})\n"
     ]
    },
    {
     "data": {
      "text/html": [
       "<div>\n",
       "<style scoped>\n",
       "    .dataframe tbody tr th:only-of-type {\n",
       "        vertical-align: middle;\n",
       "    }\n",
       "\n",
       "    .dataframe tbody tr th {\n",
       "        vertical-align: top;\n",
       "    }\n",
       "\n",
       "    .dataframe thead th {\n",
       "        text-align: right;\n",
       "    }\n",
       "</style>\n",
       "<table border=\"1\" class=\"dataframe\">\n",
       "  <thead>\n",
       "    <tr style=\"text-align: right;\">\n",
       "      <th>col_0</th>\n",
       "      <th>0</th>\n",
       "      <th>1</th>\n",
       "    </tr>\n",
       "    <tr>\n",
       "      <th>heart_disease_present</th>\n",
       "      <th></th>\n",
       "      <th></th>\n",
       "    </tr>\n",
       "  </thead>\n",
       "  <tbody>\n",
       "    <tr>\n",
       "      <th>0</th>\n",
       "      <td>21</td>\n",
       "      <td>2</td>\n",
       "    </tr>\n",
       "    <tr>\n",
       "      <th>1</th>\n",
       "      <td>3</td>\n",
       "      <td>13</td>\n",
       "    </tr>\n",
       "  </tbody>\n",
       "</table>\n",
       "</div>"
      ],
      "text/plain": [
       "col_0                   0   1\n",
       "heart_disease_present        \n",
       "0                      21   2\n",
       "1                       3  13"
      ]
     },
     "execution_count": 121,
     "metadata": {},
     "output_type": "execute_result"
    }
   ],
   "source": [
    "from collections import Counter\n",
    "print(Counter(y_test))\n",
    "pd.crosstab(y_test,y_predict)"
   ]
  },
  {
   "cell_type": "markdown",
   "metadata": {
    "collapsed": false
   },
   "source": [
    "# Plot ROC and compare AUC\n"
   ]
  },
  {
   "cell_type": "code",
   "execution_count": 122,
   "metadata": {
    "collapsed": false
   },
   "outputs": [
    {
     "data": {
      "image/png": "[encoded data removed]",
      "text/plain": [
       "<Figure size 500x500 with 1 Axes>"
      ]
     },
     "metadata": {},
     "output_type": "display_data"
    }
   ],
   "source": [
    "from sklearn.metrics import roc_curve, auc\n",
    "\n",
    "svm_fpr, svm_tpr, threshold = roc_curve(y_test, y_predict)\n",
    "auc_svm = auc(svm_fpr, svm_tpr)\n",
    "\n",
    "plt.figure(figsize=(5, 5), dpi=100)\n",
    "plt.plot(svm_fpr, svm_tpr, linestyle='-', label='SVM (auc = %0.3f)' % auc_svm)\n",
    "\n",
    "\n",
    "plt.xlabel('False Positive Rate -->')\n",
    "plt.ylabel('True Positive Rate -->')\n",
    "\n",
    "plt.legend()\n",
    "plt.show()\n"
   ]
  },
  {
   "cell_type": "markdown",
   "metadata": {},
   "source": [
    "# Model 3: Random Forest"
   ]
  },
  {
   "cell_type": "code",
   "execution_count": 123,
   "metadata": {
    "collapsed": true
   },
   "outputs": [],
   "source": [
    "from sklearn.model_selection import train_test_split\n",
    "X_train, X_test, y_train, y_test = train_test_split(X,y,test_size=0.3,random_state=10)"
   ]
  },
  {
   "cell_type": "code",
   "execution_count": 124,
   "metadata": {
    "collapsed": true
   },
   "outputs": [],
   "source": [
    "from sklearn.ensemble import RandomForestClassifier\n",
    "model = RandomForestClassifier(n_estimators=20)\n",
    "model.fit(X_train, y_train)\n",
    "y_predict=model.predict(X_test)"
   ]
  },
  {
   "cell_type": "code",
   "execution_count": 125,
   "metadata": {
    "collapsed": false
   },
   "outputs": [
    {
     "data": {
      "text/plain": [
       "0.7692307692307693"
      ]
     },
     "execution_count": 125,
     "metadata": {},
     "output_type": "execute_result"
    }
   ],
   "source": [
    "accuracy_score(y_test,y_predict)"
   ]
  },
  {
   "cell_type": "code",
   "execution_count": 126,
   "metadata": {
    "collapsed": false
   },
   "outputs": [
    {
     "name": "stdout",
     "output_type": "stream",
     "text": [
      "Counter({0: 23, 1: 16})\n"
     ]
    },
    {
     "data": {
      "text/html": [
       "<div>\n",
       "<style scoped>\n",
       "    .dataframe tbody tr th:only-of-type {\n",
       "        vertical-align: middle;\n",
       "    }\n",
       "\n",
       "    .dataframe tbody tr th {\n",
       "        vertical-align: top;\n",
       "    }\n",
       "\n",
       "    .dataframe thead th {\n",
       "        text-align: right;\n",
       "    }\n",
       "</style>\n",
       "<table border=\"1\" class=\"dataframe\">\n",
       "  <thead>\n",
       "    <tr style=\"text-align: right;\">\n",
       "      <th>col_0</th>\n",
       "      <th>0</th>\n",
       "      <th>1</th>\n",
       "    </tr>\n",
       "    <tr>\n",
       "      <th>heart_disease_present</th>\n",
       "      <th></th>\n",
       "      <th></th>\n",
       "    </tr>\n",
       "  </thead>\n",
       "  <tbody>\n",
       "    <tr>\n",
       "      <th>0</th>\n",
       "      <td>20</td>\n",
       "      <td>3</td>\n",
       "    </tr>\n",
       "    <tr>\n",
       "      <th>1</th>\n",
       "      <td>6</td>\n",
       "      <td>10</td>\n",
       "    </tr>\n",
       "  </tbody>\n",
       "</table>\n",
       "</div>"
      ],
      "text/plain": [
       "col_0                   0   1\n",
       "heart_disease_present        \n",
       "0                      20   3\n",
       "1                       6  10"
      ]
     },
     "execution_count": 126,
     "metadata": {},
     "output_type": "execute_result"
    }
   ],
   "source": [
    "from collections import Counter\n",
    "print(Counter(y_test))\n",
    "pd.crosstab(y_test,y_predict)"
   ]
  },
  {
   "cell_type": "markdown",
   "metadata": {},
   "source": [
    "# Handling Imbalance set"
   ]
  },
  {
   "cell_type": "code",
   "execution_count": 127,
   "metadata": {
    "collapsed": true
   },
   "outputs": [],
   "source": [
    "from imblearn.over_sampling import SMOTE\n",
    "smote = SMOTE()"
   ]
  },
  {
   "cell_type": "code",
   "execution_count": 128,
   "metadata": {
    "collapsed": true
   },
   "outputs": [],
   "source": [
    "X_train_smote, y_train_smote = smote.fit_sample(X_train,y_train)"
   ]
  },
  {
   "cell_type": "code",
   "execution_count": 129,
   "metadata": {
    "collapsed": false
   },
   "outputs": [
    {
     "name": "stdout",
     "output_type": "stream",
     "text": [
      "Counter({0: 53, 1: 36})\n",
      "Counter({0: 53, 1: 53})\n"
     ]
    }
   ],
   "source": [
    "print(Counter(y_train))\n",
    "print(Counter(y_train_smote))"
   ]
  },
  {
   "cell_type": "code",
   "execution_count": 87,
   "metadata": {
    "collapsed": false
   },
   "outputs": [
    {
     "name": "stdout",
     "output_type": "stream",
     "text": [
      "0.7948717948717948\n",
      "Counter({0: 23, 1: 16})\n"
     ]
    },
    {
     "data": {
      "text/html": [
       "<div>\n",
       "<style scoped>\n",
       "    .dataframe tbody tr th:only-of-type {\n",
       "        vertical-align: middle;\n",
       "    }\n",
       "\n",
       "    .dataframe tbody tr th {\n",
       "        vertical-align: top;\n",
       "    }\n",
       "\n",
       "    .dataframe thead th {\n",
       "        text-align: right;\n",
       "    }\n",
       "</style>\n",
       "<table border=\"1\" class=\"dataframe\">\n",
       "  <thead>\n",
       "    <tr style=\"text-align: right;\">\n",
       "      <th>col_0</th>\n",
       "      <th>0</th>\n",
       "      <th>1</th>\n",
       "    </tr>\n",
       "    <tr>\n",
       "      <th>heart_disease_present</th>\n",
       "      <th></th>\n",
       "      <th></th>\n",
       "    </tr>\n",
       "  </thead>\n",
       "  <tbody>\n",
       "    <tr>\n",
       "      <th>0</th>\n",
       "      <td>19</td>\n",
       "      <td>4</td>\n",
       "    </tr>\n",
       "    <tr>\n",
       "      <th>1</th>\n",
       "      <td>4</td>\n",
       "      <td>12</td>\n",
       "    </tr>\n",
       "  </tbody>\n",
       "</table>\n",
       "</div>"
      ],
      "text/plain": [
       "col_0                   0   1\n",
       "heart_disease_present        \n",
       "0                      19   4\n",
       "1                       4  12"
      ]
     },
     "execution_count": 87,
     "metadata": {},
     "output_type": "execute_result"
    }
   ],
   "source": [
    "model.fit(X_train_smote,y_train_smote)\n",
    "y_predict = model.predict(X_test)\n",
    "from sklearn.metrics import accuracy_score, classification_report\n",
    "print(accuracy_score(y_test,y_predict))\n",
    "from collections import Counter\n",
    "print(Counter(y_test))\n",
    "pd.crosstab(y_test,y_predict)"
   ]
  },
  {
   "cell_type": "code",
   "execution_count": 130,
   "metadata": {
    "collapsed": false
   },
   "outputs": [
    {
     "name": "stdout",
     "output_type": "stream",
     "text": [
      "Counter({0: 23, 1: 16})\n"
     ]
    },
    {
     "data": {
      "text/html": [
       "<div>\n",
       "<style scoped>\n",
       "    .dataframe tbody tr th:only-of-type {\n",
       "        vertical-align: middle;\n",
       "    }\n",
       "\n",
       "    .dataframe tbody tr th {\n",
       "        vertical-align: top;\n",
       "    }\n",
       "\n",
       "    .dataframe thead th {\n",
       "        text-align: right;\n",
       "    }\n",
       "</style>\n",
       "<table border=\"1\" class=\"dataframe\">\n",
       "  <thead>\n",
       "    <tr style=\"text-align: right;\">\n",
       "      <th>col_0</th>\n",
       "      <th>0</th>\n",
       "      <th>1</th>\n",
       "    </tr>\n",
       "    <tr>\n",
       "      <th>heart_disease_present</th>\n",
       "      <th></th>\n",
       "      <th></th>\n",
       "    </tr>\n",
       "  </thead>\n",
       "  <tbody>\n",
       "    <tr>\n",
       "      <th>0</th>\n",
       "      <td>20</td>\n",
       "      <td>3</td>\n",
       "    </tr>\n",
       "    <tr>\n",
       "      <th>1</th>\n",
       "      <td>6</td>\n",
       "      <td>10</td>\n",
       "    </tr>\n",
       "  </tbody>\n",
       "</table>\n",
       "</div>"
      ],
      "text/plain": [
       "col_0                   0   1\n",
       "heart_disease_present        \n",
       "0                      20   3\n",
       "1                       6  10"
      ]
     },
     "execution_count": 130,
     "metadata": {},
     "output_type": "execute_result"
    }
   ],
   "source": [
    "from collections import Counter\n",
    "print(Counter(y_test))\n",
    "pd.crosstab(y_test,y_predict)"
   ]
  },
  {
   "cell_type": "code",
   "execution_count": null,
   "metadata": {
    "collapsed": true
   },
   "outputs": [],
   "source": [
    "from sklearn.model_selection import RepeatedStratifiedKFold\n",
    "from sklearn.model_selection import GridSearchCV\n",
    "from sklearn.ensemble import RandomForestClassifier\n",
    "# define models and parameters\n",
    "model = RandomForestClassifier()\n",
    "# define grid search\n",
    "grid = dict(n_estimators=[10, 100, 1000],max_features=['auto','sqrt', 'log2'],bootstrap= [True],max_depth= [49,50,51],min_samples_leaf=[1, 2, 4,6,8],min_samples_split=[2,5,10,14])\n",
    "cv = RepeatedStratifiedKFold(n_splits=10, n_repeats=3, random_state=1)\n",
    "grid_search = GridSearchCV(estimator=model, param_grid=grid, n_jobs=-1, cv=cv, scoring='accuracy',error_score=0)\n",
    "grid_result = grid_search.fit(X_train_smote,y_train_smote)\n",
    "# summarize results\n",
    "print(\"Best: %f using %s\" % (grid_result.best_score_, grid_result.best_params_))"
   ]
  },
  {
   "cell_type": "code",
   "execution_count": null,
   "metadata": {
    "collapsed": true
   },
   "outputs": [],
   "source": [
    "grid.best_score_"
   ]
  },
  {
   "cell_type": "code",
   "execution_count": null,
   "metadata": {
    "collapsed": true
   },
   "outputs": [],
   "source": [
    "grid.best_params_"
   ]
  },
  {
   "cell_type": "code",
   "execution_count": null,
   "metadata": {
    "collapsed": true
   },
   "outputs": [],
   "source": [
    "from sklearn.ensemble import RandomForestClassifier\n",
    "model = RandomForestClassifier()\n",
    "from sklearn.metrics import accuracy_score\n",
    "X_train,X_test,y_train,y_test=train_test_split(X,y,test_size=0.3)\n",
    "model=RandomForestClassifier( )\n",
    "model.fit(X_train_smote,y_train_smote)\n",
    "y_predict=model.predict(X_test)"
   ]
  },
  {
   "cell_type": "code",
   "execution_count": null,
   "metadata": {
    "collapsed": true
   },
   "outputs": [],
   "source": [
    "accuracy_score(y_test,y_predict)"
   ]
  },
  {
   "cell_type": "code",
   "execution_count": null,
   "metadata": {
    "collapsed": true
   },
   "outputs": [],
   "source": [
    "from collections import Counter\n",
    "print(Counter(y_test))\n",
    "pd.crosstab(y_test,y_predict)"
   ]
  },
  {
   "cell_type": "markdown",
   "metadata": {},
   "source": [
    "# Plot ROC and compare AUC"
   ]
  },
  {
   "cell_type": "code",
   "execution_count": null,
   "metadata": {
    "collapsed": true
   },
   "outputs": [],
   "source": [
    "from sklearn.metrics import roc_curve, auc\n",
    "\n",
    "fpr, tpr, threshold = roc_curve(y_test, y_predict)\n",
    "auc = auc(fpr, tpr)\n",
    "\n",
    "plt.figure(figsize=(5, 5), dpi=100)\n",
    "plt.plot(fpr, tpr, linestyle='-', label='RF (auc = %0.3f)' % auc)\n",
    "\n",
    "\n",
    "plt.xlabel('False Positive Rate -->')\n",
    "plt.ylabel('True Positive Rate -->')\n",
    "\n",
    "plt.legend()\n",
    "plt.show()\n"
   ]
  },
  {
   "cell_type": "code",
   "execution_count": null,
   "metadata": {
    "collapsed": true
   },
   "outputs": [],
   "source": []
  }
 ],
 "metadata": {
  "kernelspec": {
   "display_name": "Python 3",
   "language": "python",
   "name": "python3"
  },
  "language_info": {
   "codemirror_mode": {
    "name": "ipython",
    "version": 3
   },
   "file_extension": ".py",
   "mimetype": "text/x-python",
   "name": "python",
   "nbconvert_exporter": "python",
   "pygments_lexer": "ipython3",
   "version": "3.6.0"
  }
 },
 "nbformat": 4,
 "nbformat_minor": 2
}
